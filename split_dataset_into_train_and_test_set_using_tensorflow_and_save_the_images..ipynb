{
 "cells": [
  {
   "cell_type": "code",
   "execution_count": 3,
   "id": "37af697f",
   "metadata": {},
   "outputs": [],
   "source": [
    "import os\n",
    "import random\n",
    "import tensorflow as tf\n",
    "from tensorflow.keras.preprocessing import image_dataset_from_directory\n",
    "from sklearn.model_selection import train_test_split"
   ]
  },
  {
   "cell_type": "code",
   "execution_count": 4,
   "id": "b5a6f40f",
   "metadata": {},
   "outputs": [],
   "source": [
    "# input and output directory\n",
    "input_dir = \"augmented/\"\n",
    "output_train_dir = \"train/\"\n",
    "output_test_dir = \"test/\""
   ]
  },
  {
   "cell_type": "code",
   "execution_count": 5,
   "id": "af836d24",
   "metadata": {},
   "outputs": [],
   "source": [
    "# Split percenteage\n",
    "train_split = 0.8\n",
    "\n",
    "# Image size \n",
    "target_size = (224,224) # (height,width)\n",
    "\n",
    "# Random seed for reproducibility\n",
    "random_seed = 32"
   ]
  },
  {
   "cell_type": "code",
   "execution_count": 6,
   "id": "e091463a",
   "metadata": {},
   "outputs": [
    {
     "name": "stdout",
     "output_type": "stream",
     "text": [
      "Found 6456 files belonging to 3 classes.\n"
     ]
    }
   ],
   "source": [
    "# Load the dataset\n",
    "dataset = image_dataset_from_directory(directory=input_dir,\n",
    "                                      image_size = target_size,\n",
    "                                      batch_size = 1,\n",
    "                                      shuffle = True,\n",
    "                                      seed = random_seed)"
   ]
  },
  {
   "cell_type": "code",
   "execution_count": 7,
   "id": "dc12771b",
   "metadata": {},
   "outputs": [
    {
     "data": {
      "text/plain": [
       "['Potato___Early_blight_aug',\n",
       " 'Potato___Late_blight_aug',\n",
       " 'Potato___healthy_aug']"
      ]
     },
     "execution_count": 7,
     "metadata": {},
     "output_type": "execute_result"
    }
   ],
   "source": [
    "# Class names\n",
    "classes = dataset.class_names\n",
    "classes"
   ]
  },
  {
   "cell_type": "code",
   "execution_count": 8,
   "id": "f8deef72",
   "metadata": {},
   "outputs": [],
   "source": [
    "# dataset list\n",
    "def dataset_to_lists(dataset):\n",
    "    image_paths = []\n",
    "    labels = []\n",
    "    for image, label in dataset.unbatch():\n",
    "        image_paths.append(image.numpy())\n",
    "        labels.append(int(label.numpy())) \n",
    "    return image_paths, labels\n",
    "\n",
    "# Convert dataset to lists\n",
    "image_paths, labels = dataset_to_lists(dataset)"
   ]
  },
  {
   "cell_type": "code",
   "execution_count": 9,
   "id": "8f7212f4",
   "metadata": {},
   "outputs": [
    {
     "data": {
      "text/plain": [
       "(6456, 6456)"
      ]
     },
     "execution_count": 9,
     "metadata": {},
     "output_type": "execute_result"
    }
   ],
   "source": [
    "len(labels), len(image_paths)"
   ]
  },
  {
   "cell_type": "code",
   "execution_count": 10,
   "id": "3971d8c3",
   "metadata": {},
   "outputs": [],
   "source": [
    "# Convert labels to string\n",
    "labels = [str(label) for label in labels]\n"
   ]
  },
  {
   "cell_type": "code",
   "execution_count": 11,
   "id": "4b21877f",
   "metadata": {},
   "outputs": [],
   "source": [
    "# Function to count and print images in each class\n",
    "def count_images_in_classes(image_paths,labels):\n",
    "    class_counts = {}\n",
    "    for img, label in zip(image_paths,labels):\n",
    "        cls = str(label)\n",
    "        if cls not in class_counts:\n",
    "            class_counts[cls] = 0\n",
    "        class_counts[cls] += 1\n",
    "    return class_counts"
   ]
  },
  {
   "cell_type": "code",
   "execution_count": 12,
   "id": "ff37003c",
   "metadata": {},
   "outputs": [
    {
     "name": "stdout",
     "output_type": "stream",
     "text": [
      "Number of images before splitting : \n",
      "\n",
      "Potato___Late_blight_aug : 3000 images\n",
      "Potato___Early_blight_aug : 3000 images\n",
      "Potato___healthy_aug : 456 images\n",
      "\n",
      "Total images : 6456\n"
     ]
    }
   ],
   "source": [
    "# Count images in each class and total images before split\n",
    "print(\"Number of images before splitting : \\n\")\n",
    "class_counts_before = count_images_in_classes(image_paths,labels)\n",
    "total_images_before = sum(class_counts_before.values())\n",
    "\n",
    "for cls, count in class_counts_before.items():\n",
    "    print(f\"{classes[int(cls)]} : {count} images\")\n",
    "print(f\"\\nTotal images : {total_images_before}\")"
   ]
  },
  {
   "cell_type": "code",
   "execution_count": 13,
   "id": "0023fcd7",
   "metadata": {},
   "outputs": [],
   "source": [
    "# Split the dataset using stratifid sampling\n",
    "train_image_paths, test_image_paths, train_labels, test_labels = train_test_split(image_paths,\n",
    "                                                                                 labels,\n",
    "                                                                                 train_size=train_split,\n",
    "                                                                                 stratify=labels,\n",
    "                                                                                 random_state=random_seed)"
   ]
  },
  {
   "cell_type": "code",
   "execution_count": 23,
   "id": "abd33211",
   "metadata": {},
   "outputs": [],
   "source": [
    "cnt = 0;\n",
    "\n",
    "def save_images(image_paths, labels, output_dir):\n",
    "    global cnt\n",
    "    class_counts = {}\n",
    "    \n",
    "    # Create class directories\n",
    "    for cls in classes:\n",
    "        class_counts[cls] = 0\n",
    "        os.makedirs(os.path.join(output_dir, cls), exist_ok=True)\n",
    "\n",
    "    # Iterate through the dataset\n",
    "    for img, label in zip(image_paths, labels):\n",
    "        class_name = classes[int(label)]\n",
    "        class_counts[class_name] += 1\n",
    "        img_path = os.path.join(output_dir, class_name, f\"img_{cnt:05d}.jpg\")\n",
    "        tf.io.write_file(img_path, tf.io.encode_jpeg(tf.cast(img, tf.uint8)))\n",
    "        cnt += 1\n",
    "\n",
    "    return class_counts"
   ]
  },
  {
   "cell_type": "code",
   "execution_count": 24,
   "id": "2a113a68",
   "metadata": {},
   "outputs": [
    {
     "name": "stdout",
     "output_type": "stream",
     "text": [
      "\n",
      "Saving training images...\n",
      "\n",
      "Saving test images...\n",
      "\n",
      "Done\n"
     ]
    }
   ],
   "source": [
    "# Save training images\n",
    "print(\"\\nSaving training images...\")\n",
    "class_counts_train = save_images(train_image_paths, train_labels, output_train_dir)\n",
    "\n",
    "# Save test images\n",
    "print(\"\\nSaving test images...\")\n",
    "class_counts_test = save_images(test_image_paths, test_labels, output_test_dir)\n",
    "\n",
    "print(\"\\nDone\")"
   ]
  },
  {
   "cell_type": "code",
   "execution_count": 25,
   "id": "48cb0948",
   "metadata": {},
   "outputs": [
    {
     "name": "stdout",
     "output_type": "stream",
     "text": [
      "Number of images after splitting : \n",
      "\n",
      "Training set : \n",
      "Potato___Early_blight_aug: 2400 images\n",
      "Potato___Late_blight_aug: 2399 images\n",
      "Potato___healthy_aug: 365 images\n",
      "\n",
      "Total training images : 5164\n",
      "\n",
      "Test set:\n",
      "Potato___Early_blight_aug: 600 images\n",
      "Potato___Late_blight_aug: 601 images\n",
      "Potato___healthy_aug: 91 images\n",
      "\n",
      "Total test images: 1292\n",
      "\n",
      "Total Images : 6456\n"
     ]
    }
   ],
   "source": [
    "# Count images in each class and total images after split\n",
    "print(\"Number of images after splitting : \\n\")\n",
    "\n",
    "print(\"Training set : \")\n",
    "for cls, count in class_counts_train.items():\n",
    "    print(f\"{cls}: {count} images\")\n",
    "print(f\"\\nTotal training images : {sum(class_counts_train.values())}\")\n",
    "\n",
    "print(\"\\nTest set:\")\n",
    "for cls, count in class_counts_test.items():\n",
    "    print(f\"{cls}: {count} images\")\n",
    "print(f\"\\nTotal test images: {sum(class_counts_test.values())}\")\n",
    "\n",
    "print(f\"\\nTotal Images : {sum(class_counts_test.values()) + sum(class_counts_train.values())}\")\n"
   ]
  },
  {
   "cell_type": "code",
   "execution_count": null,
   "id": "eee64e54",
   "metadata": {},
   "outputs": [],
   "source": []
  }
 ],
 "metadata": {
  "kernelspec": {
   "display_name": "Python 3 (ipykernel)",
   "language": "python",
   "name": "python3"
  },
  "language_info": {
   "codemirror_mode": {
    "name": "ipython",
    "version": 3
   },
   "file_extension": ".py",
   "mimetype": "text/x-python",
   "name": "python",
   "nbconvert_exporter": "python",
   "pygments_lexer": "ipython3",
   "version": "3.9.19"
  }
 },
 "nbformat": 4,
 "nbformat_minor": 5
}
