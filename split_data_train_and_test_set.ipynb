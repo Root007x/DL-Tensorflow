{
 "cells": [
  {
   "cell_type": "code",
   "execution_count": 30,
   "id": "ff25df1e",
   "metadata": {},
   "outputs": [],
   "source": [
    "import os\n",
    "import random\n",
    "import shutil"
   ]
  },
  {
   "cell_type": "code",
   "execution_count": 31,
   "id": "8d3d6142",
   "metadata": {},
   "outputs": [],
   "source": [
    "input_dir = \"augmented/\"\n",
    "output_train_dir = \"train/\"\n",
    "output_test_dir = \"test/\""
   ]
  },
  {
   "cell_type": "code",
   "execution_count": 32,
   "id": "ea0b188c",
   "metadata": {},
   "outputs": [],
   "source": [
    "# Split percent (ex : 80% for trainig and 20% for test)\n",
    "train_split =  0.8 # 80%"
   ]
  },
  {
   "cell_type": "code",
   "execution_count": 33,
   "id": "4c635f4f",
   "metadata": {},
   "outputs": [],
   "source": [
    "# Define the random seed for reproducibility\n",
    "seed = 100 # change any number\n",
    "random.seed(seed)"
   ]
  },
  {
   "cell_type": "code",
   "execution_count": 34,
   "id": "5d23bdd8",
   "metadata": {},
   "outputs": [
    {
     "name": "stdout",
     "output_type": "stream",
     "text": [
      "['Potato___Early_blight_aug', 'Potato___healthy_aug', 'Potato___Late_blight_aug']\n"
     ]
    }
   ],
   "source": [
    "# get data classes\n",
    "classes = os.listdir(input_dir)\n",
    "print(classes)"
   ]
  },
  {
   "cell_type": "code",
   "execution_count": 35,
   "id": "25075faa",
   "metadata": {},
   "outputs": [],
   "source": [
    "# Create output directories\n",
    "for output_dir in [output_train_dir,output_test_dir]:\n",
    "    os.makedirs(output_dir,exist_ok=True)\n",
    "    for cls in classes:\n",
    "        os.makedirs(os.path.join(output_dir,cls),exist_ok=True)"
   ]
  },
  {
   "cell_type": "code",
   "execution_count": 36,
   "id": "832f0f81",
   "metadata": {},
   "outputs": [],
   "source": [
    "# count files\n",
    "def count_file(directory):\n",
    "    return sum([len(files) for r, d, files in os.walk(directory)])"
   ]
  },
  {
   "cell_type": "code",
   "execution_count": 37,
   "id": "1eacccf9",
   "metadata": {},
   "outputs": [],
   "source": [
    "# Count images in each class and total images\n",
    "def count_images_in_classes(directory,classes):\n",
    "    class_counts = {}\n",
    "    total_count = 0\n",
    "    \n",
    "    for cls in classes:\n",
    "        class_dir = os.path.join(directory,cls)\n",
    "        count = count_file(class_dir)\n",
    "        class_counts[cls] = count\n",
    "        total_count += count\n",
    "    return class_counts, total_count"
   ]
  },
  {
   "cell_type": "code",
   "execution_count": 38,
   "id": "23bc7f22",
   "metadata": {},
   "outputs": [
    {
     "name": "stdout",
     "output_type": "stream",
     "text": [
      "Number of images before splitting : \n",
      "Potato___Early_blight_aug: 3000 images\n",
      "Potato___healthy_aug: 456 images\n",
      "Potato___Late_blight_aug: 3000 images\n",
      "Total iamges : 6456\n"
     ]
    }
   ],
   "source": [
    "# Count images in each class and total images before split\n",
    "print(\"Number of images before splitting : \")\n",
    "class_counts_before, total_images_before = count_images_in_classes(input_dir,classes)\n",
    "\n",
    "for cls, count in class_counts_before.items():\n",
    "    print(f\"{cls}: {count} images\")\n",
    "print(f\"Total iamges : {total_images_before}\")"
   ]
  },
  {
   "cell_type": "code",
   "execution_count": 39,
   "id": "01331a6a",
   "metadata": {},
   "outputs": [],
   "source": [
    "def copy_files(file_paths, target_dir):\n",
    "    for file_path in file_paths:\n",
    "        os.makedirs(target_dir, exist_ok = True)\n",
    "        shutil.copy(file_path, os.path.join(target_dir, os.path.basename(file_path)))\n",
    "        "
   ]
  },
  {
   "cell_type": "code",
   "execution_count": 40,
   "id": "19c2ee61",
   "metadata": {},
   "outputs": [
    {
     "name": "stdout",
     "output_type": "stream",
     "text": [
      "Spliting train images....Potato___Early_blight_aug\n",
      "Spliting test images....Potato___Early_blight_aug\n",
      "Spliting train images....Potato___healthy_aug\n",
      "Spliting test images....Potato___healthy_aug\n",
      "Spliting train images....Potato___Late_blight_aug\n",
      "Spliting test images....Potato___Late_blight_aug\n",
      "\n",
      "Done\n"
     ]
    }
   ],
   "source": [
    "# Split the data\n",
    "for cls in classes:\n",
    "    class_input_dir = os.path.join(input_dir,cls)\n",
    "    images = [os.path.join(class_input_dir,img) for img in os.listdir(class_input_dir)]\n",
    "    \n",
    "    # Shuffle images\n",
    "    random.shuffle(images)\n",
    "    \n",
    "    # Split the images\n",
    "    train_count = int(len(images)* train_split)\n",
    "    train_images = images[:train_count]\n",
    "    test_images = images[train_count:]\n",
    "    \n",
    "    # move training images\n",
    "    print(f\"Spliting train images....{cls}\")\n",
    "    copy_files(train_images, os.path.join(output_train_dir,cls))\n",
    "    # move test images\n",
    "    print(f\"Spliting test images....{cls}\")\n",
    "    copy_files(test_images, os.path.join(output_test_dir, cls))\n",
    "print(\"\\nDone\")"
   ]
  },
  {
   "cell_type": "code",
   "execution_count": 41,
   "id": "f443e407",
   "metadata": {},
   "outputs": [
    {
     "name": "stdout",
     "output_type": "stream",
     "text": [
      "Number of images after splitting:\n",
      "\n",
      "Training set : \n",
      "Potato___Early_blight_aug : 2400 images\n",
      "Potato___healthy_aug : 364 images\n",
      "Potato___Late_blight_aug : 2400 images\n",
      "Total training images : 5164\n",
      "\n",
      "Test set : \n",
      "Potato___Early_blight_aug : 600 images\n",
      "Potato___healthy_aug : 92 images\n",
      "Potato___Late_blight_aug : 600 images\n",
      "Total test images : 1292\n",
      "\n",
      "Total images : 6456\n",
      "\n",
      "Data Splitting Complete\n"
     ]
    }
   ],
   "source": [
    "# Count images in each class and total images after split\n",
    "print(\"Number of images after splitting:\\n\")\n",
    "print(\"Training set : \")\n",
    "\n",
    "class_counts_train, total_images_train = count_images_in_classes(output_train_dir, classes)\n",
    "\n",
    "for cls, count in class_counts_train.items():\n",
    "    print(f\"{cls} : {count} images\")\n",
    "print(f\"Total training images : {total_images_train}\")\n",
    "\n",
    "print(\"\\nTest set : \")\n",
    "class_counts_test, total_images_test = count_images_in_classes(output_test_dir, classes)\n",
    "\n",
    "for cls, count in class_counts_test.items():\n",
    "    print(f\"{cls} : {count} images\")\n",
    "print(f\"Total test images : {total_images_test}\")\n",
    "\n",
    "\n",
    "print(f\"\\nTotal images : {total_images_train + total_images_test}\")\n",
    "print(\"\\nData Splitting Complete\")\n"
   ]
  },
  {
   "cell_type": "code",
   "execution_count": null,
   "id": "df68711c",
   "metadata": {},
   "outputs": [],
   "source": []
  }
 ],
 "metadata": {
  "kernelspec": {
   "display_name": "Python 3 (ipykernel)",
   "language": "python",
   "name": "python3"
  },
  "language_info": {
   "codemirror_mode": {
    "name": "ipython",
    "version": 3
   },
   "file_extension": ".py",
   "mimetype": "text/x-python",
   "name": "python",
   "nbconvert_exporter": "python",
   "pygments_lexer": "ipython3",
   "version": "3.11.7"
  }
 },
 "nbformat": 4,
 "nbformat_minor": 5
}
