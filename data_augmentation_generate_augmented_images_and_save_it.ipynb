{
 "cells": [
  {
   "cell_type": "code",
   "execution_count": 42,
   "id": "92aa0abb",
   "metadata": {},
   "outputs": [],
   "source": [
    "import os\n",
    "import numpy as np\n",
    "import shutil\n",
    "import tensorflow as tf\n",
    "from tensorflow.keras.preprocessing.image import ImageDataGenerator,img_to_array, load_img,array_to_img"
   ]
  },
  {
   "cell_type": "code",
   "execution_count": 56,
   "id": "35ed52d7",
   "metadata": {},
   "outputs": [],
   "source": [
    "input_dir = \"dataset/\" # original image location\n",
    "output_dir = \"augmented/\" # augmented image locaion"
   ]
  },
  {
   "cell_type": "code",
   "execution_count": 57,
   "id": "1ca74dee",
   "metadata": {},
   "outputs": [],
   "source": [
    "# Enter classes names\n",
    "classes = [\"Potato___Early_blight\",\"Potato___healthy\",\"Potato___Late_blight\"]"
   ]
  },
  {
   "cell_type": "code",
   "execution_count": 58,
   "id": "50f8d72c",
   "metadata": {},
   "outputs": [],
   "source": [
    "# Number of augmented images to generate per original image\n",
    "num_augmented_images = 4\n",
    "image_size = (224,224) # u can change image size\n",
    "\n",
    "# Create output directories\n",
    "for cls in classes:\n",
    "    os.makedirs(os.path.join(output_dir,f'{cls}_aug'),exist_ok = True)"
   ]
  },
  {
   "cell_type": "code",
   "execution_count": 59,
   "id": "94786f94",
   "metadata": {},
   "outputs": [],
   "source": [
    "# Define an augmentation generator\n",
    "datagen = ImageDataGenerator(rotation_range=40, # change parameter as your requirements\n",
    "                            width_shift_range=0.2,\n",
    "                            height_shift_range=0.2,\n",
    "                            shear_range=0.2,\n",
    "                            zoom_range=0.2,\n",
    "                            horizontal_flip=True,\n",
    "                            fill_mode = \"nearest\")"
   ]
  },
  {
   "cell_type": "code",
   "execution_count": 60,
   "id": "01814b58",
   "metadata": {},
   "outputs": [],
   "source": [
    "# image resize funcion\n",
    "def resize_image(image,size):\n",
    "    return tf.image.resize(image,size)"
   ]
  },
  {
   "cell_type": "code",
   "execution_count": 61,
   "id": "f97dc90f",
   "metadata": {},
   "outputs": [
    {
     "name": "stdout",
     "output_type": "stream",
     "text": [
      "Number of images before augmentation and estimated augmented images :\n",
      "Potato___Early_blight: 1000 images,\n",
      " estimated Potato___Early_blight_augmented: 4000 images \n",
      "\n",
      "Potato___healthy: 152 images,\n",
      " estimated Potato___healthy_augmented: 608 images \n",
      "\n",
      "Potato___Late_blight: 1000 images,\n",
      " estimated Potato___Late_blight_augmented: 4000 images \n",
      "\n",
      "Total original images: 2152 \n",
      "\n",
      "Total estimated augmented images: 8608 \n",
      "\n"
     ]
    }
   ],
   "source": [
    "# Count the number of images before augmentation and estimate the number of augmented images\n",
    "print(\"Number of images before augmentation and estimated augmented images :\")\n",
    "total_original_images = 0\n",
    "total_estimated_augmented_images = 0\n",
    "\n",
    "for cls in classes:\n",
    "    class_input_dir = os.path.join(input_dir,cls)\n",
    "    num_images = len(os.listdir(class_input_dir))\n",
    "    total_original_images += num_images\n",
    "    estimated_augmented_images = num_images * num_augmented_images\n",
    "    total_estimated_augmented_images += estimated_augmented_images\n",
    "    print(f\"{cls}: {num_images} images,\\n estimated {cls}_augmented: {estimated_augmented_images} images \\n\")\n",
    "    \n",
    "print(f\"Total original images: {total_original_images} \\n\")\n",
    "print(f\"Total estimated augmented images: {total_estimated_augmented_images} \\n\")"
   ]
  },
  {
   "cell_type": "code",
   "execution_count": 62,
   "id": "be9e63fe",
   "metadata": {
    "scrolled": true
   },
   "outputs": [
    {
     "name": "stdout",
     "output_type": "stream",
     "text": [
      "Augmented : 8608"
     ]
    }
   ],
   "source": [
    "# Iterate over each class and augment the images\n",
    "cnt = 1\n",
    "\n",
    "for cls in classes:\n",
    "    class_input_dir = os.path.join(input_dir,cls)\n",
    "    class_output_dir = os.path.join(output_dir,f'{cls}_aug')\n",
    "    \n",
    "    for img_name in os.listdir(class_input_dir):\n",
    "        img_path = os.path.join(class_input_dir,img_name)\n",
    "        img = load_img(img_path)\n",
    "        x = img_to_array(img) # Convert image to numpy array\n",
    "        x = resize_image(x,image_size)\n",
    "        x = np.expand_dims(x,axis=0) # Reshape\n",
    "        \n",
    "        # Generate augmented images\n",
    "        for i in range(num_augmented_images):\n",
    "            augmented_image = next(datagen.flow(x,batch_size = 1))\n",
    "            augmented_image_path = os.path.join(class_output_dir,f\"{os.path.splitext(img_name)[0]}_aug_{i}.jpg\")\n",
    "            tf.keras.preprocessing.image.save_img(augmented_image_path,augmented_image[0])\n",
    "            print(f\"\\rAugmented : {cnt}\",end = '',flush=True)\n",
    "            cnt += 1\n"
   ]
  },
  {
   "cell_type": "code",
   "execution_count": 63,
   "id": "a7a84f78",
   "metadata": {},
   "outputs": [
    {
     "name": "stdout",
     "output_type": "stream",
     "text": [
      "Potato___Early_blight_augmented : 4000 images\n",
      "Potato___healthy_augmented : 608 images\n",
      "Potato___Late_blight_augmented : 4000 images\n",
      "\n",
      "Total Augmented images: 8608\n",
      "Data Augmentation complete\n"
     ]
    }
   ],
   "source": [
    "# Count the number of images after augmentaion\n",
    "total_augmented_images = 0\n",
    "\n",
    "for cls in classes:\n",
    "    class_output_dir = os.path.join(output_dir,f\"{cls}_aug\")\n",
    "    num_images = len(os.listdir(class_output_dir))\n",
    "    total_augmented_images += num_images\n",
    "    print(f\"{cls}_augmented : {num_images} images\")\n",
    "\n",
    "print(f\"\\nTotal Augmented images: {total_augmented_images}\")           \n",
    "print(\"Data Augmentation complete\")"
   ]
  },
  {
   "cell_type": "code",
   "execution_count": null,
   "id": "a3aa6f69",
   "metadata": {},
   "outputs": [],
   "source": [
    "   "
   ]
  }
 ],
 "metadata": {
  "kernelspec": {
   "display_name": "Python 3 (ipykernel)",
   "language": "python",
   "name": "python3"
  },
  "language_info": {
   "codemirror_mode": {
    "name": "ipython",
    "version": 3
   },
   "file_extension": ".py",
   "mimetype": "text/x-python",
   "name": "python",
   "nbconvert_exporter": "python",
   "pygments_lexer": "ipython3",
   "version": "3.11.7"
  }
 },
 "nbformat": 4,
 "nbformat_minor": 5
}
