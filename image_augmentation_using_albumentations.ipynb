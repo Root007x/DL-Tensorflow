{
 "cells": [
  {
   "cell_type": "code",
   "execution_count": 36,
   "id": "f344e63e",
   "metadata": {},
   "outputs": [],
   "source": [
    "import os\n",
    "import numpy as np\n",
    "import cv2\n",
    "import albumentations as A\n",
    "from tensorflow.keras.preprocessing.image import img_to_array, load_img"
   ]
  },
  {
   "cell_type": "code",
   "execution_count": 37,
   "id": "54c00e84",
   "metadata": {},
   "outputs": [],
   "source": [
    "input_dir = \"dataset/\"  # original image location\n",
    "output_dir = \"augmented/\"  # augmented image location"
   ]
  },
  {
   "cell_type": "code",
   "execution_count": 38,
   "id": "513de9a3",
   "metadata": {},
   "outputs": [],
   "source": [
    "# Enter class names\n",
    "classes = [\"Immature_Dragon_Fruit\", \"Mature_Dragon_Fruit\"]\n",
    "# Number of augmented images to generate per original image\n",
    "num_augmented_images = 3\n",
    "image_size = (300, 300)  # you can change image size"
   ]
  },
  {
   "cell_type": "code",
   "execution_count": 39,
   "id": "f132f724",
   "metadata": {},
   "outputs": [],
   "source": [
    "# Create output directories\n",
    "for cls in classes:\n",
    "    os.makedirs(os.path.join(output_dir, f'{cls}_aug'), exist_ok=True)"
   ]
  },
  {
   "cell_type": "code",
   "execution_count": 40,
   "id": "33448343",
   "metadata": {},
   "outputs": [],
   "source": [
    "# Define an augmentation pipeline with recommended parameters\n",
    "augmentation_pipeline = A.Compose([\n",
    "    A.HorizontalFlip(p=0.5),\n",
    "    A.VerticalFlip(p=0.5),\n",
    "    A.RandomRotate90(p=0.5),\n",
    "    A.Transpose(p=0.5),\n",
    "    A.ShiftScaleRotate(shift_limit=0.1, scale_limit=0.1, rotate_limit=45, p=0.5),\n",
    "    A.RandomBrightnessContrast(brightness_limit=0.2, contrast_limit=0.2, p=0.5),\n",
    "    A.HueSaturationValue(hue_shift_limit=10, sat_shift_limit=20, val_shift_limit=10, p=0.5),\n",
    "    A.RGBShift(r_shift_limit=10, g_shift_limit=10, b_shift_limit=10, p=0.5),\n",
    "    A.RandomGamma(gamma_limit=(80, 120), p=0.5),\n",
    "    A.Blur(blur_limit=3, p=0.2),\n",
    "    A.GaussNoise(var_limit=(10.0, 50.0), p=0.2),\n",
    "    A.Resize(height=image_size[0], width=image_size[1])\n",
    "])"
   ]
  },
  {
   "cell_type": "code",
   "execution_count": 41,
   "id": "55e8723d",
   "metadata": {},
   "outputs": [],
   "source": [
    "# Function to load image\n",
    "def load_image(image_path):\n",
    "    return cv2.imread(image_path)"
   ]
  },
  {
   "cell_type": "code",
   "execution_count": 42,
   "id": "8fc01249",
   "metadata": {},
   "outputs": [],
   "source": [
    "# Function to save image\n",
    "def save_image(image_path, image):\n",
    "    cv2.imwrite(image_path, image)"
   ]
  },
  {
   "cell_type": "code",
   "execution_count": 43,
   "id": "f99b9341",
   "metadata": {},
   "outputs": [],
   "source": [
    "# Function to resize image\n",
    "def resize_image(image, size):\n",
    "    return cv2.resize(image, size)"
   ]
  },
  {
   "cell_type": "code",
   "execution_count": 44,
   "id": "b2d37da7",
   "metadata": {},
   "outputs": [
    {
     "name": "stdout",
     "output_type": "stream",
     "text": [
      "Number of images before augmentation and estimated augmented images:\n",
      "Immature_Dragon_Fruit: 1241 images,\n",
      " estimated Immature_Dragon_Fruit_augmented: 3723 images\n",
      "\n",
      "Mature_Dragon_Fruit: 886 images,\n",
      " estimated Mature_Dragon_Fruit_augmented: 2658 images\n",
      "\n",
      "Total original images: 2127\n",
      "\n",
      "Total estimated augmented images: 6381\n",
      "\n"
     ]
    }
   ],
   "source": [
    "# Count the number of images before augmentation and estimate the number of augmented images\n",
    "print(\"Number of images before augmentation and estimated augmented images:\")\n",
    "total_original_images = 0\n",
    "total_estimated_augmented_images = 0\n",
    "\n",
    "for cls in classes:\n",
    "    class_input_dir = os.path.join(input_dir, cls)\n",
    "    num_images = len(os.listdir(class_input_dir))\n",
    "    total_original_images += num_images\n",
    "    estimated_augmented_images = num_images * num_augmented_images\n",
    "    total_estimated_augmented_images += estimated_augmented_images\n",
    "    print(f\"{cls}: {num_images} images,\\n estimated {cls}_augmented: {estimated_augmented_images} images\\n\")\n",
    "\n",
    "print(f\"Total original images: {total_original_images}\\n\")\n",
    "print(f\"Total estimated augmented images: {total_estimated_augmented_images}\\n\")"
   ]
  },
  {
   "cell_type": "code",
   "execution_count": 45,
   "id": "746d3b72",
   "metadata": {},
   "outputs": [
    {
     "name": "stdout",
     "output_type": "stream",
     "text": [
      "Augmented: 6381"
     ]
    }
   ],
   "source": [
    "# Iterate over each class and augment the images\n",
    "cnt = 1\n",
    "\n",
    "for cls in classes:\n",
    "    class_input_dir = os.path.join(input_dir, cls)\n",
    "    class_output_dir = os.path.join(output_dir, f'{cls}_aug')\n",
    "\n",
    "    for img_name in os.listdir(class_input_dir):\n",
    "        img_path = os.path.join(class_input_dir, img_name)\n",
    "        image = load_image(img_path)\n",
    "        resized_image = resize_image(image, image_size)\n",
    "        \n",
    "        for i in range(num_augmented_images):\n",
    "            augmented_image = augmentation_pipeline(image=resized_image)['image']\n",
    "            augmented_image_path = os.path.join(class_output_dir, f\"{os.path.splitext(img_name)[0]}_aug_{cnt}.png\")\n",
    "            save_image(augmented_image_path, augmented_image)\n",
    "            print(f\"\\rAugmented: {cnt}\", end='', flush=True)\n",
    "            cnt += 1"
   ]
  },
  {
   "cell_type": "code",
   "execution_count": 46,
   "id": "40486dd4",
   "metadata": {},
   "outputs": [
    {
     "name": "stdout",
     "output_type": "stream",
     "text": [
      "Immature_Dragon_Fruit_augmented: 3723 images\n",
      "Mature_Dragon_Fruit_augmented: 2658 images\n",
      "\n",
      "Total Augmented images: 6381\n",
      "Data Augmentation complete\n"
     ]
    }
   ],
   "source": [
    "# Count the number of images after augmentation\n",
    "total_augmented_images = 0\n",
    "\n",
    "for cls in classes:\n",
    "    class_output_dir = os.path.join(output_dir, f\"{cls}_aug\")\n",
    "    num_images = len(os.listdir(class_output_dir))\n",
    "    total_augmented_images += num_images\n",
    "    print(f\"{cls}_augmented: {num_images} images\")\n",
    "\n",
    "print(f\"\\nTotal Augmented images: {total_augmented_images}\")\n",
    "print(\"Data Augmentation complete\")"
   ]
  },
  {
   "cell_type": "code",
   "execution_count": null,
   "id": "9bba0a1e",
   "metadata": {},
   "outputs": [],
   "source": []
  }
 ],
 "metadata": {
  "kernelspec": {
   "display_name": "Python 3 (ipykernel)",
   "language": "python",
   "name": "python3"
  },
  "language_info": {
   "codemirror_mode": {
    "name": "ipython",
    "version": 3
   },
   "file_extension": ".py",
   "mimetype": "text/x-python",
   "name": "python",
   "nbconvert_exporter": "python",
   "pygments_lexer": "ipython3",
   "version": "3.9.19"
  }
 },
 "nbformat": 4,
 "nbformat_minor": 5
}
