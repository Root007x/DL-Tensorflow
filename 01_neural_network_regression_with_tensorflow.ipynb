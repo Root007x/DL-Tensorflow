{
  "nbformat": 4,
  "nbformat_minor": 0,
  "metadata": {
    "colab": {
      "provenance": [],
      "gpuType": "T4"
    },
    "kernelspec": {
      "name": "python3",
      "display_name": "Python 3"
    },
    "language_info": {
      "name": "python"
    },
    "accelerator": "GPU"
  },
  "cells": [
    {
      "cell_type": "code",
      "execution_count": 1,
      "metadata": {
        "colab": {
          "base_uri": "https://localhost:8080/"
        },
        "id": "ENYMGgn4Rl00",
        "outputId": "427cda01-7ee1-4757-d437-caf00467b732"
      },
      "outputs": [
        {
          "output_type": "stream",
          "name": "stdout",
          "text": [
            "2.15.0\n"
          ]
        }
      ],
      "source": [
        "# Import TensorFlow\n",
        "import tensorflow as tf\n",
        "print(tf.__version__)"
      ]
    },
    {
      "cell_type": "markdown",
      "source": [
        "# Creating data to view and fit"
      ],
      "metadata": {
        "id": "Uu9MvhjqSEca"
      }
    },
    {
      "cell_type": "code",
      "source": [
        "import numpy as np\n",
        "import matplotlib.pyplot as plt\n",
        "\n",
        "# Create freatures\n",
        "x = np.array([-7.0, -4.0, -1.0, 2.0, 5.0, 8.0, 11.0, 14.0])\n",
        "\n",
        "# Create labels\n",
        "y = np.array([3.0,6.0,9.0,12.0,15.0,18.0,21.0,24.0])\n",
        "\n",
        "# Visulalize\n",
        "plt.scatter(x,y)"
      ],
      "metadata": {
        "colab": {
          "base_uri": "https://localhost:8080/",
          "height": 452
        },
        "id": "lfSjOo_mSSpA",
        "outputId": "7e889cc3-361f-4afb-e64b-fc7e62dcd171"
      },
      "execution_count": 2,
      "outputs": [
        {
          "output_type": "execute_result",
          "data": {
            "text/plain": [
              "<matplotlib.collections.PathCollection at 0x7d12851306a0>"
            ]
          },
          "metadata": {},
          "execution_count": 2
        },
        {
          "output_type": "display_data",
          "data": {
            "text/plain": [
              "<Figure size 640x480 with 1 Axes>"
            ],
            "image/png": "[encoded data removed]"
          },
          "metadata": {}
        }
      ]
    },
    {
      "cell_type": "code",
      "source": [
        "y == x + 10"
      ],
      "metadata": {
        "colab": {
          "base_uri": "https://localhost:8080/"
        },
        "id": "QyOXaoVlSrG3",
        "outputId": "b44a4ee6-89a1-4f31-b31e-a741c3ee6a02"
      },
      "execution_count": 3,
      "outputs": [
        {
          "output_type": "execute_result",
          "data": {
            "text/plain": [
              "array([ True,  True,  True,  True,  True,  True,  True,  True])"
            ]
          },
          "metadata": {},
          "execution_count": 3
        }
      ]
    },
    {
      "cell_type": "markdown",
      "source": [
        "## Input and output shapes"
      ],
      "metadata": {
        "id": "YeF0KFMjTEP2"
      }
    },
    {
      "cell_type": "code",
      "source": [
        "# Demo\n",
        "house_info = tf.constant(['bedroom','bathroom','garage'])\n",
        "house_price = tf.constant([939700])\n",
        "house_info, house_price"
      ],
      "metadata": {
        "colab": {
          "base_uri": "https://localhost:8080/"
        },
        "id": "KDhaepIlTLWu",
        "outputId": "edfaf8b6-0145-45fe-f425-c8bdd2f3fa59"
      },
      "execution_count": 4,
      "outputs": [
        {
          "output_type": "execute_result",
          "data": {
            "text/plain": [
              "(<tf.Tensor: shape=(3,), dtype=string, numpy=array([b'bedroom', b'bathroom', b'garage'], dtype=object)>,\n",
              " <tf.Tensor: shape=(1,), dtype=int32, numpy=array([939700], dtype=int32)>)"
            ]
          },
          "metadata": {},
          "execution_count": 4
        }
      ]
    },
    {
      "cell_type": "code",
      "source": [
        "input_shape = x.shape\n",
        "output_shape = y.shape\n",
        "\n",
        "input_shape, output_shape"
      ],
      "metadata": {
        "colab": {
          "base_uri": "https://localhost:8080/"
        },
        "id": "2HXzZOaYTppf",
        "outputId": "ffdbd1da-34c2-4659-c34a-849d96bc19b1"
      },
      "execution_count": 5,
      "outputs": [
        {
          "output_type": "execute_result",
          "data": {
            "text/plain": [
              "((8,), (8,))"
            ]
          },
          "metadata": {},
          "execution_count": 5
        }
      ]
    },
    {
      "cell_type": "code",
      "source": [
        "x[0],y[0]"
      ],
      "metadata": {
        "colab": {
          "base_uri": "https://localhost:8080/"
        },
        "id": "RceBdXraT2-T",
        "outputId": "0e7f6f11-0260-46d7-c449-dd214fd96bb1"
      },
      "execution_count": 6,
      "outputs": [
        {
          "output_type": "execute_result",
          "data": {
            "text/plain": [
              "(-7.0, 3.0)"
            ]
          },
          "metadata": {},
          "execution_count": 6
        }
      ]
    },
    {
      "cell_type": "code",
      "source": [
        "# Trun our numpy array to tensors\n",
        "x = tf.constant(x)\n",
        "y = tf.constant(y)\n",
        "x,y"
      ],
      "metadata": {
        "colab": {
          "base_uri": "https://localhost:8080/"
        },
        "id": "lLMWebR9UXT5",
        "outputId": "fe7cfe3e-161e-4428-9b6f-47715a0a8aed"
      },
      "execution_count": 7,
      "outputs": [
        {
          "output_type": "execute_result",
          "data": {
            "text/plain": [
              "(<tf.Tensor: shape=(8,), dtype=float64, numpy=array([-7., -4., -1.,  2.,  5.,  8., 11., 14.])>,\n",
              " <tf.Tensor: shape=(8,), dtype=float64, numpy=array([ 3.,  6.,  9., 12., 15., 18., 21., 24.])>)"
            ]
          },
          "metadata": {},
          "execution_count": 7
        }
      ]
    },
    {
      "cell_type": "code",
      "source": [
        "input_shape = x[0].shape\n",
        "output_shape = y[0].shape\n",
        "input_shape, output_shape"
      ],
      "metadata": {
        "colab": {
          "base_uri": "https://localhost:8080/"
        },
        "id": "zBCq7BqfUzUg",
        "outputId": "c568d754-a5e4-41ae-a793-9319742ba280"
      },
      "execution_count": 8,
      "outputs": [
        {
          "output_type": "execute_result",
          "data": {
            "text/plain": [
              "(TensorShape([]), TensorShape([]))"
            ]
          },
          "metadata": {},
          "execution_count": 8
        }
      ]
    },
    {
      "cell_type": "code",
      "source": [
        "plt.scatter(x,y)"
      ],
      "metadata": {
        "colab": {
          "base_uri": "https://localhost:8080/",
          "height": 452
        },
        "id": "logcA8xQU9R4",
        "outputId": "6d5f8ffe-dbbb-4705-f374-443cc7678a2f"
      },
      "execution_count": 9,
      "outputs": [
        {
          "output_type": "execute_result",
          "data": {
            "text/plain": [
              "<matplotlib.collections.PathCollection at 0x7d1283076b60>"
            ]
          },
          "metadata": {},
          "execution_count": 9
        },
        {
          "output_type": "display_data",
          "data": {
            "text/plain": [
              "<Figure size 640x480 with 1 Axes>"
            ],
            "image/png": "[encoded data removed]"
          },
          "metadata": {}
        }
      ]
    },
    {
      "cell_type": "markdown",
      "source": [
        "## Steps in modelling with tensorFlow\n",
        "\n",
        "1. **Creating a model** - define the input and output layers, as well\n",
        "as the hidden layers\n",
        "\n",
        "2. **Compiling a modle** - define the loss function (the funciton which tells our model how wrong it is) and the optimizer (tells our model how to improve the patterns its learning) and evaluation metrics\n",
        "\n",
        "3. **Fitting a model** - letting the model try to find the patterns between x & y (features and labels)"
      ],
      "metadata": {
        "id": "rftKL987VAOo"
      }
    },
    {
      "cell_type": "code",
      "source": [
        "tf.random.set_seed(42)\n",
        "\n",
        "# 1. Create a model using the Sequential API\n",
        "model = tf.keras.Sequential([\n",
        "    tf.keras.layers.Dense(1)\n",
        "])\n",
        "\n",
        "# 2. Compile the model\n",
        "model.compile(loss=tf.keras.losses.mae,\n",
        "              optimizer=tf.keras.optimizers.SGD(),\n",
        "              metrics=[\"mae\"])\n",
        "\n",
        "# 3. Fit the model\n",
        "model.fit(tf.expand_dims(x,axis=-1),y,epochs = 5)"
      ],
      "metadata": {
        "colab": {
          "base_uri": "https://localhost:8080/"
        },
        "id": "x1rU0oHuVP4t",
        "outputId": "3e1fce0e-2a4a-48d8-e316-944fd561595c"
      },
      "execution_count": 10,
      "outputs": [
        {
          "output_type": "stream",
          "name": "stdout",
          "text": [
            "Epoch 1/5\n",
            "1/1 [==============================] - 1s 837ms/step - loss: 16.8055 - mae: 16.8055\n",
            "Epoch 2/5\n",
            "1/1 [==============================] - 0s 29ms/step - loss: 16.5242 - mae: 16.5242\n",
            "Epoch 3/5\n",
            "1/1 [==============================] - 0s 28ms/step - loss: 16.2430 - mae: 16.2430\n",
            "Epoch 4/5\n",
            "1/1 [==============================] - 0s 15ms/step - loss: 15.9617 - mae: 15.9617\n",
            "Epoch 5/5\n",
            "1/1 [==============================] - 0s 15ms/step - loss: 15.6805 - mae: 15.6805\n"
          ]
        },
        {
          "output_type": "execute_result",
          "data": {
            "text/plain": [
              "<keras.src.callbacks.History at 0x7d128060b0d0>"
            ]
          },
          "metadata": {},
          "execution_count": 10
        }
      ]
    },
    {
      "cell_type": "code",
      "source": [
        "# other way\n",
        "# model = tf.keras.Sequential()\n",
        "\n",
        "# model.add(tf.keras.Dense(1))\n",
        "\n",
        "# model.compile(loss=tf.keras.losses.mae,\n",
        "#               optimizer=tf.keras.optimizer.SGD,\n",
        "#               metrics=[\"mae\"])\n",
        "\n",
        "# model.fit(X, y, epochs=5)"
      ],
      "metadata": {
        "id": "CvT3spZ2YJZ5"
      },
      "execution_count": 11,
      "outputs": []
    },
    {
      "cell_type": "code",
      "source": [
        "# Check out x and y\n",
        "x, y"
      ],
      "metadata": {
        "colab": {
          "base_uri": "https://localhost:8080/"
        },
        "id": "izcssdNBZ5QV",
        "outputId": "9b956a5f-ac6a-48f3-de5c-1f747275c295"
      },
      "execution_count": 12,
      "outputs": [
        {
          "output_type": "execute_result",
          "data": {
            "text/plain": [
              "(<tf.Tensor: shape=(8,), dtype=float64, numpy=array([-7., -4., -1.,  2.,  5.,  8., 11., 14.])>,\n",
              " <tf.Tensor: shape=(8,), dtype=float64, numpy=array([ 3.,  6.,  9., 12., 15., 18., 21., 24.])>)"
            ]
          },
          "metadata": {},
          "execution_count": 12
        }
      ]
    },
    {
      "cell_type": "code",
      "source": [
        "# Try and make a prediction\n",
        "y_pred = model.predict([17.0])\n",
        "y_pred"
      ],
      "metadata": {
        "colab": {
          "base_uri": "https://localhost:8080/"
        },
        "id": "KQlc8njlZ9YQ",
        "outputId": "85690a50-eb40-4eb6-f9fb-2d6d755210dc"
      },
      "execution_count": 13,
      "outputs": [
        {
          "output_type": "stream",
          "name": "stdout",
          "text": [
            "1/1 [==============================] - 0s 308ms/step\n"
          ]
        },
        {
          "output_type": "execute_result",
          "data": {
            "text/plain": [
              "array([[-8.63194]], dtype=float32)"
            ]
          },
          "metadata": {},
          "execution_count": 13
        }
      ]
    },
    {
      "cell_type": "code",
      "source": [
        "y_pred + 11"
      ],
      "metadata": {
        "colab": {
          "base_uri": "https://localhost:8080/"
        },
        "id": "YUNBOZo0aFxe",
        "outputId": "62d65ba7-5be7-4e43-f449-57eee1f16f8f"
      },
      "execution_count": 14,
      "outputs": [
        {
          "output_type": "execute_result",
          "data": {
            "text/plain": [
              "array([[2.36806]], dtype=float32)"
            ]
          },
          "metadata": {},
          "execution_count": 14
        }
      ]
    },
    {
      "cell_type": "markdown",
      "source": [
        "## Improving our model\n",
        "\n",
        "1. **Creating a model** - Add more layers, increase number of neurons, change the activation function\n",
        "\n",
        "2. **Compiling a model** - Change optimization function or perhaps the **learning rate** of the optimization function.\n",
        "\n",
        "3. **Fitting a model** - Increase number of epochs or more data"
      ],
      "metadata": {
        "id": "9CEqbiaVaZAH"
      }
    },
    {
      "cell_type": "code",
      "source": [
        "# Let's rebuild our model\n",
        "\n",
        "# 1. Create the model\n",
        "model = tf.keras.Sequential([\n",
        "    tf.keras.layers.Dense(1)\n",
        "])\n",
        "\n",
        "# 2. Compile the model\n",
        "model.compile(loss=tf.keras.losses.mae,\n",
        "              optimizer=tf.keras.optimizers.SGD(),\n",
        "              metrics=['mae'])\n",
        "\n",
        "# 3. Fit the model\n",
        "model.fit(tf.expand_dims(x,axis=-1),y,epochs=100)"
      ],
      "metadata": {
        "colab": {
          "base_uri": "https://localhost:8080/"
        },
        "id": "IqGuCHMJa5Rn",
        "outputId": "f7363d2b-fe74-4cde-f6e4-a9932c0a7ca3"
      },
      "execution_count": 15,
      "outputs": [
        {
          "output_type": "stream",
          "name": "stdout",
          "text": [
            "Epoch 1/100\n",
            "1/1 [==============================] - 0s 493ms/step - loss: 9.8250 - mae: 9.8250\n",
            "Epoch 2/100\n",
            "1/1 [==============================] - 0s 12ms/step - loss: 9.6925 - mae: 9.6925\n",
            "Epoch 3/100\n",
            "1/1 [==============================] - 0s 14ms/step - loss: 9.5600 - mae: 9.5600\n",
            "Epoch 4/100\n",
            "1/1 [==============================] - 0s 10ms/step - loss: 9.4275 - mae: 9.4275\n",
            "Epoch 5/100\n",
            "1/1 [==============================] - 0s 11ms/step - loss: 9.2950 - mae: 9.2950\n",
            "Epoch 6/100\n",
            "1/1 [==============================] - 0s 12ms/step - loss: 9.1625 - mae: 9.1625\n",
            "Epoch 7/100\n",
            "1/1 [==============================] - 0s 10ms/step - loss: 9.0300 - mae: 9.0300\n",
            "Epoch 8/100\n",
            "1/1 [==============================] - 0s 9ms/step - loss: 8.8975 - mae: 8.8975\n",
            "Epoch 9/100\n",
            "1/1 [==============================] - 0s 10ms/step - loss: 8.7650 - mae: 8.7650\n",
            "Epoch 10/100\n",
            "1/1 [==============================] - 0s 11ms/step - loss: 8.6325 - mae: 8.6325\n",
            "Epoch 11/100\n",
            "1/1 [==============================] - 0s 11ms/step - loss: 8.5000 - mae: 8.5000\n",
            "Epoch 12/100\n",
            "1/1 [==============================] - 0s 12ms/step - loss: 8.3675 - mae: 8.3675\n",
            "Epoch 13/100\n",
            "1/1 [==============================] - 0s 11ms/step - loss: 8.2350 - mae: 8.2350\n",
            "Epoch 14/100\n",
            "1/1 [==============================] - 0s 9ms/step - loss: 8.1025 - mae: 8.1025\n",
            "Epoch 15/100\n",
            "1/1 [==============================] - 0s 10ms/step - loss: 7.9700 - mae: 7.9700\n",
            "Epoch 16/100\n",
            "1/1 [==============================] - 0s 12ms/step - loss: 7.8375 - mae: 7.8375\n",
            "Epoch 17/100\n",
            "1/1 [==============================] - 0s 10ms/step - loss: 7.7050 - mae: 7.7050\n",
            "Epoch 18/100\n",
            "1/1 [==============================] - 0s 10ms/step - loss: 7.5725 - mae: 7.5725\n",
            "Epoch 19/100\n",
            "1/1 [==============================] - 0s 10ms/step - loss: 7.4400 - mae: 7.4400\n",
            "Epoch 20/100\n",
            "1/1 [==============================] - 0s 10ms/step - loss: 7.3575 - mae: 7.3575\n",
            "Epoch 21/100\n",
            "1/1 [==============================] - 0s 10ms/step - loss: 7.3519 - mae: 7.3519\n",
            "Epoch 22/100\n",
            "1/1 [==============================] - 0s 10ms/step - loss: 7.3463 - mae: 7.3463\n",
            "Epoch 23/100\n",
            "1/1 [==============================] - 0s 9ms/step - loss: 7.3406 - mae: 7.3406\n",
            "Epoch 24/100\n",
            "1/1 [==============================] - 0s 10ms/step - loss: 7.3350 - mae: 7.3350\n",
            "Epoch 25/100\n",
            "1/1 [==============================] - 0s 9ms/step - loss: 7.3294 - mae: 7.3294\n",
            "Epoch 26/100\n",
            "1/1 [==============================] - 0s 9ms/step - loss: 7.3238 - mae: 7.3238\n",
            "Epoch 27/100\n",
            "1/1 [==============================] - 0s 9ms/step - loss: 7.3181 - mae: 7.3181\n",
            "Epoch 28/100\n",
            "1/1 [==============================] - 0s 9ms/step - loss: 7.3125 - mae: 7.3125\n",
            "Epoch 29/100\n",
            "1/1 [==============================] - 0s 10ms/step - loss: 7.3069 - mae: 7.3069\n",
            "Epoch 30/100\n",
            "1/1 [==============================] - 0s 9ms/step - loss: 7.3012 - mae: 7.3012\n",
            "Epoch 31/100\n",
            "1/1 [==============================] - 0s 8ms/step - loss: 7.2956 - mae: 7.2956\n",
            "Epoch 32/100\n",
            "1/1 [==============================] - 0s 8ms/step - loss: 7.2900 - mae: 7.2900\n",
            "Epoch 33/100\n",
            "1/1 [==============================] - 0s 15ms/step - loss: 7.2844 - mae: 7.2844\n",
            "Epoch 34/100\n",
            "1/1 [==============================] - 0s 10ms/step - loss: 7.2788 - mae: 7.2788\n",
            "Epoch 35/100\n",
            "1/1 [==============================] - 0s 12ms/step - loss: 7.2731 - mae: 7.2731\n",
            "Epoch 36/100\n",
            "1/1 [==============================] - 0s 11ms/step - loss: 7.2675 - mae: 7.2675\n",
            "Epoch 37/100\n",
            "1/1 [==============================] - 0s 10ms/step - loss: 7.2619 - mae: 7.2619\n",
            "Epoch 38/100\n",
            "1/1 [==============================] - 0s 9ms/step - loss: 7.2563 - mae: 7.2563\n",
            "Epoch 39/100\n",
            "1/1 [==============================] - 0s 9ms/step - loss: 7.2506 - mae: 7.2506\n",
            "Epoch 40/100\n",
            "1/1 [==============================] - 0s 9ms/step - loss: 7.2450 - mae: 7.2450\n",
            "Epoch 41/100\n",
            "1/1 [==============================] - 0s 9ms/step - loss: 7.2394 - mae: 7.2394\n",
            "Epoch 42/100\n",
            "1/1 [==============================] - 0s 9ms/step - loss: 7.2338 - mae: 7.2338\n",
            "Epoch 43/100\n",
            "1/1 [==============================] - 0s 9ms/step - loss: 7.2281 - mae: 7.2281\n",
            "Epoch 44/100\n",
            "1/1 [==============================] - 0s 11ms/step - loss: 7.2225 - mae: 7.2225\n",
            "Epoch 45/100\n",
            "1/1 [==============================] - 0s 10ms/step - loss: 7.2169 - mae: 7.2169\n",
            "Epoch 46/100\n",
            "1/1 [==============================] - 0s 14ms/step - loss: 7.2113 - mae: 7.2113\n",
            "Epoch 47/100\n",
            "1/1 [==============================] - 0s 12ms/step - loss: 7.2056 - mae: 7.2056\n",
            "Epoch 48/100\n",
            "1/1 [==============================] - 0s 16ms/step - loss: 7.2000 - mae: 7.2000\n",
            "Epoch 49/100\n",
            "1/1 [==============================] - 0s 13ms/step - loss: 7.1944 - mae: 7.1944\n",
            "Epoch 50/100\n",
            "1/1 [==============================] - 0s 9ms/step - loss: 7.1888 - mae: 7.1888\n",
            "Epoch 51/100\n",
            "1/1 [==============================] - 0s 9ms/step - loss: 7.1831 - mae: 7.1831\n",
            "Epoch 52/100\n",
            "1/1 [==============================] - 0s 9ms/step - loss: 7.1775 - mae: 7.1775\n",
            "Epoch 53/100\n",
            "1/1 [==============================] - 0s 9ms/step - loss: 7.1719 - mae: 7.1719\n",
            "Epoch 54/100\n",
            "1/1 [==============================] - 0s 9ms/step - loss: 7.1663 - mae: 7.1663\n",
            "Epoch 55/100\n",
            "1/1 [==============================] - 0s 9ms/step - loss: 7.1606 - mae: 7.1606\n",
            "Epoch 56/100\n",
            "1/1 [==============================] - 0s 9ms/step - loss: 7.1550 - mae: 7.1550\n",
            "Epoch 57/100\n",
            "1/1 [==============================] - 0s 9ms/step - loss: 7.1494 - mae: 7.1494\n",
            "Epoch 58/100\n",
            "1/1 [==============================] - 0s 9ms/step - loss: 7.1438 - mae: 7.1438\n",
            "Epoch 59/100\n",
            "1/1 [==============================] - 0s 9ms/step - loss: 7.1381 - mae: 7.1381\n",
            "Epoch 60/100\n",
            "1/1 [==============================] - 0s 9ms/step - loss: 7.1325 - mae: 7.1325\n",
            "Epoch 61/100\n",
            "1/1 [==============================] - 0s 10ms/step - loss: 7.1269 - mae: 7.1269\n",
            "Epoch 62/100\n",
            "1/1 [==============================] - 0s 9ms/step - loss: 7.1213 - mae: 7.1213\n",
            "Epoch 63/100\n",
            "1/1 [==============================] - 0s 9ms/step - loss: 7.1156 - mae: 7.1156\n",
            "Epoch 64/100\n",
            "1/1 [==============================] - 0s 10ms/step - loss: 7.1100 - mae: 7.1100\n",
            "Epoch 65/100\n",
            "1/1 [==============================] - 0s 10ms/step - loss: 7.1044 - mae: 7.1044\n",
            "Epoch 66/100\n",
            "1/1 [==============================] - 0s 9ms/step - loss: 7.0988 - mae: 7.0988\n",
            "Epoch 67/100\n",
            "1/1 [==============================] - 0s 10ms/step - loss: 7.0931 - mae: 7.0931\n",
            "Epoch 68/100\n",
            "1/1 [==============================] - 0s 17ms/step - loss: 7.0875 - mae: 7.0875\n",
            "Epoch 69/100\n",
            "1/1 [==============================] - 0s 12ms/step - loss: 7.0819 - mae: 7.0819\n",
            "Epoch 70/100\n",
            "1/1 [==============================] - 0s 10ms/step - loss: 7.0763 - mae: 7.0763\n",
            "Epoch 71/100\n",
            "1/1 [==============================] - 0s 10ms/step - loss: 7.0706 - mae: 7.0706\n",
            "Epoch 72/100\n",
            "1/1 [==============================] - 0s 9ms/step - loss: 7.0650 - mae: 7.0650\n",
            "Epoch 73/100\n",
            "1/1 [==============================] - 0s 11ms/step - loss: 7.0594 - mae: 7.0594\n",
            "Epoch 74/100\n",
            "1/1 [==============================] - 0s 10ms/step - loss: 7.0538 - mae: 7.0538\n",
            "Epoch 75/100\n",
            "1/1 [==============================] - 0s 9ms/step - loss: 7.0481 - mae: 7.0481\n",
            "Epoch 76/100\n",
            "1/1 [==============================] - 0s 9ms/step - loss: 7.0425 - mae: 7.0425\n",
            "Epoch 77/100\n",
            "1/1 [==============================] - 0s 9ms/step - loss: 7.0369 - mae: 7.0369\n",
            "Epoch 78/100\n",
            "1/1 [==============================] - 0s 10ms/step - loss: 7.0313 - mae: 7.0313\n",
            "Epoch 79/100\n",
            "1/1 [==============================] - 0s 9ms/step - loss: 7.0256 - mae: 7.0256\n",
            "Epoch 80/100\n",
            "1/1 [==============================] - 0s 10ms/step - loss: 7.0200 - mae: 7.0200\n",
            "Epoch 81/100\n",
            "1/1 [==============================] - 0s 10ms/step - loss: 7.0144 - mae: 7.0144\n",
            "Epoch 82/100\n",
            "1/1 [==============================] - 0s 9ms/step - loss: 7.0088 - mae: 7.0088\n",
            "Epoch 83/100\n",
            "1/1 [==============================] - 0s 10ms/step - loss: 7.0031 - mae: 7.0031\n",
            "Epoch 84/100\n",
            "1/1 [==============================] - 0s 10ms/step - loss: 6.9975 - mae: 6.9975\n",
            "Epoch 85/100\n",
            "1/1 [==============================] - 0s 10ms/step - loss: 6.9919 - mae: 6.9919\n",
            "Epoch 86/100\n",
            "1/1 [==============================] - 0s 9ms/step - loss: 6.9863 - mae: 6.9863\n",
            "Epoch 87/100\n",
            "1/1 [==============================] - 0s 9ms/step - loss: 6.9806 - mae: 6.9806\n",
            "Epoch 88/100\n",
            "1/1 [==============================] - 0s 10ms/step - loss: 6.9750 - mae: 6.9750\n",
            "Epoch 89/100\n",
            "1/1 [==============================] - 0s 9ms/step - loss: 6.9694 - mae: 6.9694\n",
            "Epoch 90/100\n",
            "1/1 [==============================] - 0s 9ms/step - loss: 6.9638 - mae: 6.9638\n",
            "Epoch 91/100\n",
            "1/1 [==============================] - 0s 9ms/step - loss: 6.9581 - mae: 6.9581\n",
            "Epoch 92/100\n",
            "1/1 [==============================] - 0s 11ms/step - loss: 6.9525 - mae: 6.9525\n",
            "Epoch 93/100\n",
            "1/1 [==============================] - 0s 10ms/step - loss: 6.9469 - mae: 6.9469\n",
            "Epoch 94/100\n",
            "1/1 [==============================] - 0s 9ms/step - loss: 6.9413 - mae: 6.9413\n",
            "Epoch 95/100\n",
            "1/1 [==============================] - 0s 9ms/step - loss: 6.9356 - mae: 6.9356\n",
            "Epoch 96/100\n",
            "1/1 [==============================] - 0s 10ms/step - loss: 6.9300 - mae: 6.9300\n",
            "Epoch 97/100\n",
            "1/1 [==============================] - 0s 9ms/step - loss: 6.9244 - mae: 6.9244\n",
            "Epoch 98/100\n",
            "1/1 [==============================] - 0s 9ms/step - loss: 6.9188 - mae: 6.9188\n",
            "Epoch 99/100\n",
            "1/1 [==============================] - 0s 9ms/step - loss: 6.9131 - mae: 6.9131\n",
            "Epoch 100/100\n",
            "1/1 [==============================] - 0s 9ms/step - loss: 6.9075 - mae: 6.9075\n"
          ]
        },
        {
          "output_type": "execute_result",
          "data": {
            "text/plain": [
              "<keras.src.callbacks.History at 0x7d1280491ab0>"
            ]
          },
          "metadata": {},
          "execution_count": 15
        }
      ]
    },
    {
      "cell_type": "code",
      "source": [
        "x,y"
      ],
      "metadata": {
        "colab": {
          "base_uri": "https://localhost:8080/"
        },
        "id": "Qj-Puj4BdXkt",
        "outputId": "6d9885ef-c01c-4f3c-fb1b-a94dac7835a9"
      },
      "execution_count": 16,
      "outputs": [
        {
          "output_type": "execute_result",
          "data": {
            "text/plain": [
              "(<tf.Tensor: shape=(8,), dtype=float64, numpy=array([-7., -4., -1.,  2.,  5.,  8., 11., 14.])>,\n",
              " <tf.Tensor: shape=(8,), dtype=float64, numpy=array([ 3.,  6.,  9., 12., 15., 18., 21., 24.])>)"
            ]
          },
          "metadata": {},
          "execution_count": 16
        }
      ]
    },
    {
      "cell_type": "code",
      "source": [
        "model.predict([17.0])"
      ],
      "metadata": {
        "colab": {
          "base_uri": "https://localhost:8080/"
        },
        "id": "90gE_7W-d9aF",
        "outputId": "4fe36e38-6d2f-4aeb-bb29-3ba2f57f4914"
      },
      "execution_count": 17,
      "outputs": [
        {
          "output_type": "stream",
          "name": "stdout",
          "text": [
            "1/1 [==============================] - 0s 64ms/step\n"
          ]
        },
        {
          "output_type": "execute_result",
          "data": {
            "text/plain": [
              "array([[29.952375]], dtype=float32)"
            ]
          },
          "metadata": {},
          "execution_count": 17
        }
      ]
    },
    {
      "cell_type": "code",
      "source": [
        "# Let's build again\n",
        "\n",
        "#  1. Create the model (Extra hidden layers)\n",
        "model = tf.keras.Sequential([\n",
        "    tf.keras.layers.Dense(50,activation=None),\n",
        "    tf.keras.layers.Dense(1)\n",
        "])\n",
        "\n",
        "# 2. Compile the model\n",
        "model.compile(loss=\"mae\",\n",
        "              optimizer=tf.keras.optimizers.Adam(learning_rate=0.01),\n",
        "              metrics=['mae'])\n",
        "\n",
        "# 3. Fit the model\n",
        "model.fit(tf.expand_dims(x,axis=-1),y,epochs=100)"
      ],
      "metadata": {
        "colab": {
          "base_uri": "https://localhost:8080/"
        },
        "id": "ynrrGDFpeDBd",
        "outputId": "09ca3dd7-5ea3-437c-ff97-b34d687d66b1"
      },
      "execution_count": 18,
      "outputs": [
        {
          "output_type": "stream",
          "name": "stdout",
          "text": [
            "Epoch 1/100\n",
            "1/1 [==============================] - 1s 604ms/step - loss: 12.6280 - mae: 12.6280\n",
            "Epoch 2/100\n",
            "1/1 [==============================] - 0s 16ms/step - loss: 11.9727 - mae: 11.9727\n",
            "Epoch 3/100\n",
            "1/1 [==============================] - 0s 16ms/step - loss: 11.3123 - mae: 11.3123\n",
            "Epoch 4/100\n",
            "1/1 [==============================] - 0s 14ms/step - loss: 10.6444 - mae: 10.6444\n",
            "Epoch 5/100\n",
            "1/1 [==============================] - 0s 14ms/step - loss: 9.9662 - mae: 9.9662\n",
            "Epoch 6/100\n",
            "1/1 [==============================] - 0s 13ms/step - loss: 9.2746 - mae: 9.2746\n",
            "Epoch 7/100\n",
            "1/1 [==============================] - 0s 10ms/step - loss: 8.5670 - mae: 8.5670\n",
            "Epoch 8/100\n",
            "1/1 [==============================] - 0s 10ms/step - loss: 7.8410 - mae: 7.8410\n",
            "Epoch 9/100\n",
            "1/1 [==============================] - 0s 10ms/step - loss: 7.0939 - mae: 7.0939\n",
            "Epoch 10/100\n",
            "1/1 [==============================] - 0s 11ms/step - loss: 6.8255 - mae: 6.8255\n",
            "Epoch 11/100\n",
            "1/1 [==============================] - 0s 12ms/step - loss: 7.1442 - mae: 7.1442\n",
            "Epoch 12/100\n",
            "1/1 [==============================] - 0s 10ms/step - loss: 7.4232 - mae: 7.4232\n",
            "Epoch 13/100\n",
            "1/1 [==============================] - 0s 10ms/step - loss: 7.7316 - mae: 7.7316\n",
            "Epoch 14/100\n",
            "1/1 [==============================] - 0s 10ms/step - loss: 7.8086 - mae: 7.8086\n",
            "Epoch 15/100\n",
            "1/1 [==============================] - 0s 10ms/step - loss: 7.6873 - mae: 7.6873\n",
            "Epoch 16/100\n",
            "1/1 [==============================] - 0s 11ms/step - loss: 7.4199 - mae: 7.4199\n",
            "Epoch 17/100\n",
            "1/1 [==============================] - 0s 10ms/step - loss: 7.0814 - mae: 7.0814\n",
            "Epoch 18/100\n",
            "1/1 [==============================] - 0s 10ms/step - loss: 6.8245 - mae: 6.8245\n",
            "Epoch 19/100\n",
            "1/1 [==============================] - 0s 10ms/step - loss: 6.5536 - mae: 6.5536\n",
            "Epoch 20/100\n",
            "1/1 [==============================] - 0s 10ms/step - loss: 6.2730 - mae: 6.2730\n",
            "Epoch 21/100\n",
            "1/1 [==============================] - 0s 10ms/step - loss: 6.1846 - mae: 6.1846\n",
            "Epoch 22/100\n",
            "1/1 [==============================] - 0s 9ms/step - loss: 6.1448 - mae: 6.1448\n",
            "Epoch 23/100\n",
            "1/1 [==============================] - 0s 10ms/step - loss: 6.3125 - mae: 6.3125\n",
            "Epoch 24/100\n",
            "1/1 [==============================] - 0s 10ms/step - loss: 6.3943 - mae: 6.3943\n",
            "Epoch 25/100\n",
            "1/1 [==============================] - 0s 11ms/step - loss: 6.3776 - mae: 6.3776\n",
            "Epoch 26/100\n",
            "1/1 [==============================] - 0s 15ms/step - loss: 6.2744 - mae: 6.2744\n",
            "Epoch 27/100\n",
            "1/1 [==============================] - 0s 14ms/step - loss: 6.0935 - mae: 6.0935\n",
            "Epoch 28/100\n",
            "1/1 [==============================] - 0s 15ms/step - loss: 5.8409 - mae: 5.8409\n",
            "Epoch 29/100\n",
            "1/1 [==============================] - 0s 13ms/step - loss: 5.6080 - mae: 5.6080\n",
            "Epoch 30/100\n",
            "1/1 [==============================] - 0s 12ms/step - loss: 5.4970 - mae: 5.4970\n",
            "Epoch 31/100\n",
            "1/1 [==============================] - 0s 10ms/step - loss: 5.3855 - mae: 5.3855\n",
            "Epoch 32/100\n",
            "1/1 [==============================] - 0s 9ms/step - loss: 5.3910 - mae: 5.3910\n",
            "Epoch 33/100\n",
            "1/1 [==============================] - 0s 12ms/step - loss: 5.3539 - mae: 5.3539\n",
            "Epoch 34/100\n",
            "1/1 [==============================] - 0s 14ms/step - loss: 5.2773 - mae: 5.2773\n",
            "Epoch 35/100\n",
            "1/1 [==============================] - 0s 13ms/step - loss: 5.1641 - mae: 5.1641\n",
            "Epoch 36/100\n",
            "1/1 [==============================] - 0s 13ms/step - loss: 5.0173 - mae: 5.0173\n",
            "Epoch 37/100\n",
            "1/1 [==============================] - 0s 10ms/step - loss: 4.8395 - mae: 4.8395\n",
            "Epoch 38/100\n",
            "1/1 [==============================] - 0s 13ms/step - loss: 4.6976 - mae: 4.6976\n",
            "Epoch 39/100\n",
            "1/1 [==============================] - 0s 12ms/step - loss: 4.6010 - mae: 4.6010\n",
            "Epoch 40/100\n",
            "1/1 [==============================] - 0s 10ms/step - loss: 4.4960 - mae: 4.4960\n",
            "Epoch 41/100\n",
            "1/1 [==============================] - 0s 10ms/step - loss: 4.3825 - mae: 4.3825\n",
            "Epoch 42/100\n",
            "1/1 [==============================] - 0s 10ms/step - loss: 4.3281 - mae: 4.3281\n",
            "Epoch 43/100\n",
            "1/1 [==============================] - 0s 10ms/step - loss: 4.1588 - mae: 4.1588\n",
            "Epoch 44/100\n",
            "1/1 [==============================] - 0s 9ms/step - loss: 3.9581 - mae: 3.9581\n",
            "Epoch 45/100\n",
            "1/1 [==============================] - 0s 10ms/step - loss: 3.7901 - mae: 3.7901\n",
            "Epoch 46/100\n",
            "1/1 [==============================] - 0s 10ms/step - loss: 3.6195 - mae: 3.6195\n",
            "Epoch 47/100\n",
            "1/1 [==============================] - 0s 10ms/step - loss: 3.5038 - mae: 3.5038\n",
            "Epoch 48/100\n",
            "1/1 [==============================] - 0s 10ms/step - loss: 3.3368 - mae: 3.3368\n",
            "Epoch 49/100\n",
            "1/1 [==============================] - 0s 10ms/step - loss: 3.1206 - mae: 3.1206\n",
            "Epoch 50/100\n",
            "1/1 [==============================] - 0s 9ms/step - loss: 2.9390 - mae: 2.9390\n",
            "Epoch 51/100\n",
            "1/1 [==============================] - 0s 12ms/step - loss: 2.7608 - mae: 2.7608\n",
            "Epoch 52/100\n",
            "1/1 [==============================] - 0s 12ms/step - loss: 2.6207 - mae: 2.6207\n",
            "Epoch 53/100\n",
            "1/1 [==============================] - 0s 10ms/step - loss: 2.3688 - mae: 2.3688\n",
            "Epoch 54/100\n",
            "1/1 [==============================] - 0s 9ms/step - loss: 2.1162 - mae: 2.1162\n",
            "Epoch 55/100\n",
            "1/1 [==============================] - 0s 12ms/step - loss: 1.9758 - mae: 1.9758\n",
            "Epoch 56/100\n",
            "1/1 [==============================] - 0s 9ms/step - loss: 1.8012 - mae: 1.8012\n",
            "Epoch 57/100\n",
            "1/1 [==============================] - 0s 9ms/step - loss: 1.5668 - mae: 1.5668\n",
            "Epoch 58/100\n",
            "1/1 [==============================] - 0s 9ms/step - loss: 1.2124 - mae: 1.2124\n",
            "Epoch 59/100\n",
            "1/1 [==============================] - 0s 12ms/step - loss: 0.9645 - mae: 0.9645\n",
            "Epoch 60/100\n",
            "1/1 [==============================] - 0s 10ms/step - loss: 0.7795 - mae: 0.7795\n",
            "Epoch 61/100\n",
            "1/1 [==============================] - 0s 10ms/step - loss: 0.4171 - mae: 0.4171\n",
            "Epoch 62/100\n",
            "1/1 [==============================] - 0s 14ms/step - loss: 0.3090 - mae: 0.3090\n",
            "Epoch 63/100\n",
            "1/1 [==============================] - 0s 10ms/step - loss: 0.3409 - mae: 0.3409\n",
            "Epoch 64/100\n",
            "1/1 [==============================] - 0s 9ms/step - loss: 0.4265 - mae: 0.4265\n",
            "Epoch 65/100\n",
            "1/1 [==============================] - 0s 12ms/step - loss: 0.6230 - mae: 0.6230\n",
            "Epoch 66/100\n",
            "1/1 [==============================] - 0s 10ms/step - loss: 0.6596 - mae: 0.6596\n",
            "Epoch 67/100\n",
            "1/1 [==============================] - 0s 9ms/step - loss: 0.7274 - mae: 0.7274\n",
            "Epoch 68/100\n",
            "1/1 [==============================] - 0s 11ms/step - loss: 0.7226 - mae: 0.7226\n",
            "Epoch 69/100\n",
            "1/1 [==============================] - 0s 12ms/step - loss: 0.6881 - mae: 0.6881\n",
            "Epoch 70/100\n",
            "1/1 [==============================] - 0s 10ms/step - loss: 0.6392 - mae: 0.6392\n",
            "Epoch 71/100\n",
            "1/1 [==============================] - 0s 12ms/step - loss: 0.5196 - mae: 0.5196\n",
            "Epoch 72/100\n",
            "1/1 [==============================] - 0s 10ms/step - loss: 0.4639 - mae: 0.4639\n",
            "Epoch 73/100\n",
            "1/1 [==============================] - 0s 9ms/step - loss: 0.2696 - mae: 0.2696\n",
            "Epoch 74/100\n",
            "1/1 [==============================] - 0s 10ms/step - loss: 0.2294 - mae: 0.2294\n",
            "Epoch 75/100\n",
            "1/1 [==============================] - 0s 10ms/step - loss: 0.2115 - mae: 0.2115\n",
            "Epoch 76/100\n",
            "1/1 [==============================] - 0s 10ms/step - loss: 0.3099 - mae: 0.3099\n",
            "Epoch 77/100\n",
            "1/1 [==============================] - 0s 10ms/step - loss: 0.4649 - mae: 0.4649\n",
            "Epoch 78/100\n",
            "1/1 [==============================] - 0s 10ms/step - loss: 0.4384 - mae: 0.4384\n",
            "Epoch 79/100\n",
            "1/1 [==============================] - 0s 9ms/step - loss: 0.4186 - mae: 0.4186\n",
            "Epoch 80/100\n",
            "1/1 [==============================] - 0s 10ms/step - loss: 0.4519 - mae: 0.4519\n",
            "Epoch 81/100\n",
            "1/1 [==============================] - 0s 10ms/step - loss: 0.3328 - mae: 0.3328\n",
            "Epoch 82/100\n",
            "1/1 [==============================] - 0s 9ms/step - loss: 0.3784 - mae: 0.3784\n",
            "Epoch 83/100\n",
            "1/1 [==============================] - 0s 21ms/step - loss: 0.3133 - mae: 0.3133\n",
            "Epoch 84/100\n",
            "1/1 [==============================] - 0s 10ms/step - loss: 0.0936 - mae: 0.0936\n",
            "Epoch 85/100\n",
            "1/1 [==============================] - 0s 9ms/step - loss: 0.3350 - mae: 0.3350\n",
            "Epoch 86/100\n",
            "1/1 [==============================] - 0s 9ms/step - loss: 0.3859 - mae: 0.3859\n",
            "Epoch 87/100\n",
            "1/1 [==============================] - 0s 9ms/step - loss: 0.3262 - mae: 0.3262\n",
            "Epoch 88/100\n",
            "1/1 [==============================] - 0s 9ms/step - loss: 0.3858 - mae: 0.3858\n",
            "Epoch 89/100\n",
            "1/1 [==============================] - 0s 10ms/step - loss: 0.4973 - mae: 0.4973\n",
            "Epoch 90/100\n",
            "1/1 [==============================] - 0s 10ms/step - loss: 0.3425 - mae: 0.3425\n",
            "Epoch 91/100\n",
            "1/1 [==============================] - 0s 10ms/step - loss: 0.3047 - mae: 0.3047\n",
            "Epoch 92/100\n",
            "1/1 [==============================] - 0s 10ms/step - loss: 0.3141 - mae: 0.3141\n",
            "Epoch 93/100\n",
            "1/1 [==============================] - 0s 10ms/step - loss: 0.1943 - mae: 0.1943\n",
            "Epoch 94/100\n",
            "1/1 [==============================] - 0s 12ms/step - loss: 0.1773 - mae: 0.1773\n",
            "Epoch 95/100\n",
            "1/1 [==============================] - 0s 11ms/step - loss: 0.2582 - mae: 0.2582\n",
            "Epoch 96/100\n",
            "1/1 [==============================] - 0s 9ms/step - loss: 0.2012 - mae: 0.2012\n",
            "Epoch 97/100\n",
            "1/1 [==============================] - 0s 13ms/step - loss: 0.3156 - mae: 0.3156\n",
            "Epoch 98/100\n",
            "1/1 [==============================] - 0s 10ms/step - loss: 0.3332 - mae: 0.3332\n",
            "Epoch 99/100\n",
            "1/1 [==============================] - 0s 10ms/step - loss: 0.1309 - mae: 0.1309\n",
            "Epoch 100/100\n",
            "1/1 [==============================] - 0s 10ms/step - loss: 0.2506 - mae: 0.2506\n"
          ]
        },
        {
          "output_type": "execute_result",
          "data": {
            "text/plain": [
              "<keras.src.callbacks.History at 0x7d12802ff550>"
            ]
          },
          "metadata": {},
          "execution_count": 18
        }
      ]
    },
    {
      "cell_type": "code",
      "source": [
        "x,y"
      ],
      "metadata": {
        "colab": {
          "base_uri": "https://localhost:8080/"
        },
        "id": "dSvfn_9sfjt3",
        "outputId": "92ee9cf6-e0ae-4593-85b2-e70e3d272230"
      },
      "execution_count": 19,
      "outputs": [
        {
          "output_type": "execute_result",
          "data": {
            "text/plain": [
              "(<tf.Tensor: shape=(8,), dtype=float64, numpy=array([-7., -4., -1.,  2.,  5.,  8., 11., 14.])>,\n",
              " <tf.Tensor: shape=(8,), dtype=float64, numpy=array([ 3.,  6.,  9., 12., 15., 18., 21., 24.])>)"
            ]
          },
          "metadata": {},
          "execution_count": 19
        }
      ]
    },
    {
      "cell_type": "code",
      "source": [
        "model.predict([17.0])"
      ],
      "metadata": {
        "colab": {
          "base_uri": "https://localhost:8080/"
        },
        "id": "-YVa77JtfnBt",
        "outputId": "3a2b9d78-215b-4276-ec9e-cbd33b53159e"
      },
      "execution_count": 20,
      "outputs": [
        {
          "output_type": "stream",
          "name": "stdout",
          "text": [
            "1/1 [==============================] - 0s 130ms/step\n"
          ]
        },
        {
          "output_type": "execute_result",
          "data": {
            "text/plain": [
              "array([[26.364952]], dtype=float32)"
            ]
          },
          "metadata": {},
          "execution_count": 20
        }
      ]
    },
    {
      "cell_type": "markdown",
      "source": [
        "## Evaluting a Model\n",
        "\n",
        "**Visualize**\n",
        "1. The data\n",
        "2. The model itselt\n",
        "3. The traning of a model\n",
        "4. The predictions of the model"
      ],
      "metadata": {
        "id": "6S_loMt1fpjO"
      }
    },
    {
      "cell_type": "code",
      "source": [
        "# Make a bigger dataset\n",
        "x = tf.range(-100,100,4)\n",
        "x"
      ],
      "metadata": {
        "colab": {
          "base_uri": "https://localhost:8080/"
        },
        "id": "SPdsyTpXhr6R",
        "outputId": "4dac3b14-186b-49eb-ebcd-2db7855861b3"
      },
      "execution_count": 21,
      "outputs": [
        {
          "output_type": "execute_result",
          "data": {
            "text/plain": [
              "<tf.Tensor: shape=(50,), dtype=int32, numpy=\n",
              "array([-100,  -96,  -92,  -88,  -84,  -80,  -76,  -72,  -68,  -64,  -60,\n",
              "        -56,  -52,  -48,  -44,  -40,  -36,  -32,  -28,  -24,  -20,  -16,\n",
              "        -12,   -8,   -4,    0,    4,    8,   12,   16,   20,   24,   28,\n",
              "         32,   36,   40,   44,   48,   52,   56,   60,   64,   68,   72,\n",
              "         76,   80,   84,   88,   92,   96], dtype=int32)>"
            ]
          },
          "metadata": {},
          "execution_count": 21
        }
      ]
    },
    {
      "cell_type": "code",
      "source": [
        "y = x + 10\n",
        "y"
      ],
      "metadata": {
        "colab": {
          "base_uri": "https://localhost:8080/"
        },
        "id": "AmvHv9bwi1OV",
        "outputId": "1e41a836-75dd-4f78-eccc-1c188e5f91f7"
      },
      "execution_count": 22,
      "outputs": [
        {
          "output_type": "execute_result",
          "data": {
            "text/plain": [
              "<tf.Tensor: shape=(50,), dtype=int32, numpy=\n",
              "array([-90, -86, -82, -78, -74, -70, -66, -62, -58, -54, -50, -46, -42,\n",
              "       -38, -34, -30, -26, -22, -18, -14, -10,  -6,  -2,   2,   6,  10,\n",
              "        14,  18,  22,  26,  30,  34,  38,  42,  46,  50,  54,  58,  62,\n",
              "        66,  70,  74,  78,  82,  86,  90,  94,  98, 102, 106], dtype=int32)>"
            ]
          },
          "metadata": {},
          "execution_count": 22
        }
      ]
    },
    {
      "cell_type": "code",
      "source": [
        "# Visualize the data\n",
        "import matplotlib.pyplot as plt\n",
        "plt.scatter(x,y)"
      ],
      "metadata": {
        "colab": {
          "base_uri": "https://localhost:8080/",
          "height": 447
        },
        "id": "4YTa9vVqi5-l",
        "outputId": "5c33f292-0c04-4676-a0f3-460dc3c6ee87"
      },
      "execution_count": 23,
      "outputs": [
        {
          "output_type": "execute_result",
          "data": {
            "text/plain": [
              "<matplotlib.collections.PathCollection at 0x7d12802152a0>"
            ]
          },
          "metadata": {},
          "execution_count": 23
        },
        {
          "output_type": "display_data",
          "data": {
            "text/plain": [
              "<Figure size 640x480 with 1 Axes>"
            ],
            "image/png": "[encoded data removed]"
          },
          "metadata": {}
        }
      ]
    },
    {
      "cell_type": "markdown",
      "source": [
        "### 3 sets....\n",
        "\n",
        "* **Traning set** - model learn form this data\n",
        "* **Validation set** - the model gets tuned on this data.\n",
        "* **Test set** - the model gets evaluated on this data to test\n",
        "what is has learned."
      ],
      "metadata": {
        "id": "O5aRXzwjjDIF"
      }
    },
    {
      "cell_type": "code",
      "source": [
        "len(x)"
      ],
      "metadata": {
        "colab": {
          "base_uri": "https://localhost:8080/"
        },
        "id": "afir6thijvhI",
        "outputId": "c151bbcb-877c-47f6-975d-8c66c284b0e7"
      },
      "execution_count": 24,
      "outputs": [
        {
          "output_type": "execute_result",
          "data": {
            "text/plain": [
              "50"
            ]
          },
          "metadata": {},
          "execution_count": 24
        }
      ]
    },
    {
      "cell_type": "code",
      "source": [
        "# Split the data into train and test sets\n",
        "x_train = x[:40] # 80%\n",
        "x_test = x[40:] # 20%\n",
        "y_train = y[:40]\n",
        "y_test = y[40:]\n",
        "\n",
        "len(x_train), len(x_test)"
      ],
      "metadata": {
        "colab": {
          "base_uri": "https://localhost:8080/"
        },
        "id": "cGwhdtzklESt",
        "outputId": "424ab03a-5bf4-4806-a406-ca6d73872699"
      },
      "execution_count": 25,
      "outputs": [
        {
          "output_type": "execute_result",
          "data": {
            "text/plain": [
              "(40, 10)"
            ]
          },
          "metadata": {},
          "execution_count": 25
        }
      ]
    },
    {
      "cell_type": "markdown",
      "source": [
        "### Visualizing the data"
      ],
      "metadata": {
        "id": "JPkyFZFmleH2"
      }
    },
    {
      "cell_type": "code",
      "source": [
        "plt.figure(figsize=(10,7))\n",
        "# plot tranning data\n",
        "plt.scatter(x_train,y_train,c='b',label='Traning data')\n",
        "# Plot test data\n",
        "plt.scatter(x_test,y_test,c='g',label='Testing data')\n",
        "# Show a legend\n",
        "plt.legend()\n",
        "plt.show()"
      ],
      "metadata": {
        "colab": {
          "base_uri": "https://localhost:8080/",
          "height": 599
        },
        "id": "SnNHjNw1lx1I",
        "outputId": "c3ac3eb0-6559-4c25-ba12-161bb5c343eb"
      },
      "execution_count": 26,
      "outputs": [
        {
          "output_type": "display_data",
          "data": {
            "text/plain": [
              "<Figure size 1000x700 with 1 Axes>"
            ],
            "image/png": "[encoded data removed]"
          },
          "metadata": {}
        }
      ]
    },
    {
      "cell_type": "code",
      "source": [
        "# Let's build a model\n",
        "\n",
        "model = tf.keras.Sequential([\n",
        "    tf.keras.layers.Dense(1)\n",
        "])\n",
        "\n",
        "model.compile(loss=tf.keras.losses.mae,\n",
        "              optimizer=tf.keras.optimizers.SGD(),\n",
        "              metrics=['mae'])\n",
        "\n",
        "# model.fit(tf.expand_dims(x_train,axis=-1),y_train,epochs=100)"
      ],
      "metadata": {
        "id": "dmgT7ulvmV2O"
      },
      "execution_count": 27,
      "outputs": []
    },
    {
      "cell_type": "markdown",
      "source": [
        "## Visualizing the model"
      ],
      "metadata": {
        "id": "ywUv3Y7SnQVi"
      }
    },
    {
      "cell_type": "code",
      "source": [
        "model.summary()"
      ],
      "metadata": {
        "colab": {
          "base_uri": "https://localhost:8080/",
          "height": 263
        },
        "id": "YiAL-bKxoAOR",
        "outputId": "1de88b93-7bd1-46ec-98cd-33e0abd95f37"
      },
      "execution_count": 28,
      "outputs": [
        {
          "output_type": "error",
          "ename": "ValueError",
          "evalue": "This model has not yet been built. Build the model first by calling `build()` or by calling the model on a batch of data.",
          "traceback": [
            "\u001b[0;31m---------------------------------------------------------------------------\u001b[0m",
            "\u001b[0;31mValueError\u001b[0m                                Traceback (most recent call last)",
            "\u001b[0;32m<ipython-input-28-5f15418b3570>\u001b[0m in \u001b[0;36m<cell line: 1>\u001b[0;34m()\u001b[0m\n\u001b[0;32m----> 1\u001b[0;31m \u001b[0mmodel\u001b[0m\u001b[0;34m.\u001b[0m\u001b[0msummary\u001b[0m\u001b[0;34m(\u001b[0m\u001b[0;34m)\u001b[0m\u001b[0;34m\u001b[0m\u001b[0;34m\u001b[0m\u001b[0m\n\u001b[0m",
            "\u001b[0;32m/usr/local/lib/python3.10/dist-packages/keras/src/engine/training.py\u001b[0m in \u001b[0;36msummary\u001b[0;34m(self, line_length, positions, print_fn, expand_nested, show_trainable, layer_range)\u001b[0m\n\u001b[1;32m   3504\u001b[0m         \"\"\"\n\u001b[1;32m   3505\u001b[0m         \u001b[0;32mif\u001b[0m \u001b[0;32mnot\u001b[0m \u001b[0mself\u001b[0m\u001b[0;34m.\u001b[0m\u001b[0mbuilt\u001b[0m\u001b[0;34m:\u001b[0m\u001b[0;34m\u001b[0m\u001b[0;34m\u001b[0m\u001b[0m\n\u001b[0;32m-> 3506\u001b[0;31m             raise ValueError(\n\u001b[0m\u001b[1;32m   3507\u001b[0m                 \u001b[0;34m\"This model has not yet been built. \"\u001b[0m\u001b[0;34m\u001b[0m\u001b[0;34m\u001b[0m\u001b[0m\n\u001b[1;32m   3508\u001b[0m                 \u001b[0;34m\"Build the model first by calling `build()` or by calling \"\u001b[0m\u001b[0;34m\u001b[0m\u001b[0;34m\u001b[0m\u001b[0m\n",
            "\u001b[0;31mValueError\u001b[0m: This model has not yet been built. Build the model first by calling `build()` or by calling the model on a batch of data."
          ]
        }
      ]
    },
    {
      "cell_type": "code",
      "source": [
        "# Let's create a model which build automatically\n",
        "tf.random.set_seed(42)\n",
        "\n",
        "# Create a model\n",
        "model = tf.keras.Sequential([\n",
        "    tf.keras.layers.Dense(10, input_shape=[1],name=\"input_layer\"),\n",
        "    tf.keras.layers.Dense(1,name=\"output_layer\")\n",
        "])\n",
        "\n",
        "model.compile(loss=tf.keras.losses.mae,\n",
        "              optimizer=tf.keras.optimizers.SGD(),\n",
        "              metrics=['mae'])\n",
        "model.summary()"
      ],
      "metadata": {
        "colab": {
          "base_uri": "https://localhost:8080/"
        },
        "id": "tIX29TDwoCzM",
        "outputId": "bea5aefb-daf3-4bdd-c4fc-7da90668fce3"
      },
      "execution_count": 29,
      "outputs": [
        {
          "output_type": "stream",
          "name": "stdout",
          "text": [
            "Model: \"sequential_4\"\n",
            "_________________________________________________________________\n",
            " Layer (type)                Output Shape              Param #   \n",
            "=================================================================\n",
            " input_layer (Dense)         (None, 10)                20        \n",
            "                                                                 \n",
            " output_layer (Dense)        (None, 1)                 11        \n",
            "                                                                 \n",
            "=================================================================\n",
            "Total params: 31 (124.00 Byte)\n",
            "Trainable params: 31 (124.00 Byte)\n",
            "Non-trainable params: 0 (0.00 Byte)\n",
            "_________________________________________________________________\n"
          ]
        }
      ]
    },
    {
      "cell_type": "markdown",
      "source": [
        "## Summary\n",
        "\n",
        "* **Total params:** The total number of parameters in the model.\n",
        "* **Trainable params:** The number of parameters that are updated during training.\n",
        "* **Non-trainable params:** Parameters that are not updated during training"
      ],
      "metadata": {
        "id": "OB7hCWKeo1ql"
      }
    },
    {
      "cell_type": "code",
      "source": [
        "# Fit model\n",
        "model.fit(x_train,y_train,epochs=100,verbose=0)"
      ],
      "metadata": {
        "colab": {
          "base_uri": "https://localhost:8080/"
        },
        "id": "mi07_f4_qauN",
        "outputId": "ad85e5fc-63c1-4ac0-b31a-2b71e501349e"
      },
      "execution_count": 30,
      "outputs": [
        {
          "output_type": "execute_result",
          "data": {
            "text/plain": [
              "<keras.src.callbacks.History at 0x7d12726a17e0>"
            ]
          },
          "metadata": {},
          "execution_count": 30
        }
      ]
    },
    {
      "cell_type": "code",
      "source": [
        "model.summary()"
      ],
      "metadata": {
        "colab": {
          "base_uri": "https://localhost:8080/"
        },
        "id": "P436tnDgrnml",
        "outputId": "6d46d32d-3179-4467-b961-24cbf1cdf725"
      },
      "execution_count": 31,
      "outputs": [
        {
          "output_type": "stream",
          "name": "stdout",
          "text": [
            "Model: \"sequential_4\"\n",
            "_________________________________________________________________\n",
            " Layer (type)                Output Shape              Param #   \n",
            "=================================================================\n",
            " input_layer (Dense)         (None, 10)                20        \n",
            "                                                                 \n",
            " output_layer (Dense)        (None, 1)                 11        \n",
            "                                                                 \n",
            "=================================================================\n",
            "Total params: 31 (124.00 Byte)\n",
            "Trainable params: 31 (124.00 Byte)\n",
            "Non-trainable params: 0 (0.00 Byte)\n",
            "_________________________________________________________________\n"
          ]
        }
      ]
    },
    {
      "cell_type": "code",
      "source": [
        "from tensorflow.keras.utils import plot_model\n",
        "plot_model(model=model,show_shapes=True)"
      ],
      "metadata": {
        "colab": {
          "base_uri": "https://localhost:8080/",
          "height": 312
        },
        "id": "Y41btgY0suhN",
        "outputId": "6b371bda-ce89-44c0-c8d5-db53cb107f22"
      },
      "execution_count": 32,
      "outputs": [
        {
          "output_type": "execute_result",
          "data": {
            "image/png": "[encoded data removed]",
            "text/plain": [
              "<IPython.core.display.Image object>"
            ]
          },
          "metadata": {},
          "execution_count": 32
        }
      ]
    },
    {
      "cell_type": "markdown",
      "source": [
        "## Visualizing model's predictions"
      ],
      "metadata": {
        "id": "oCMgp7mDs4ZM"
      }
    },
    {
      "cell_type": "code",
      "source": [
        "y_pred = model.predict(x_test)\n",
        "y_pred"
      ],
      "metadata": {
        "colab": {
          "base_uri": "https://localhost:8080/"
        },
        "id": "xIZ1oSckuo5f",
        "outputId": "bdb589df-c3c1-43c4-dc55-33d6ae354f5f"
      },
      "execution_count": 33,
      "outputs": [
        {
          "output_type": "stream",
          "name": "stdout",
          "text": [
            "1/1 [==============================] - 0s 161ms/step\n"
          ]
        },
        {
          "output_type": "execute_result",
          "data": {
            "text/plain": [
              "array([[ 75.76291 ],\n",
              "       [ 80.700066],\n",
              "       [ 85.637215],\n",
              "       [ 90.57436 ],\n",
              "       [ 95.511505],\n",
              "       [100.44866 ],\n",
              "       [105.38581 ],\n",
              "       [110.32295 ],\n",
              "       [115.2601  ],\n",
              "       [120.19725 ]], dtype=float32)"
            ]
          },
          "metadata": {},
          "execution_count": 33
        }
      ]
    },
    {
      "cell_type": "code",
      "source": [
        "y_test"
      ],
      "metadata": {
        "colab": {
          "base_uri": "https://localhost:8080/"
        },
        "id": "igqu-x87u99M",
        "outputId": "5418e56e-e55e-452a-b296-f15860214af0"
      },
      "execution_count": 34,
      "outputs": [
        {
          "output_type": "execute_result",
          "data": {
            "text/plain": [
              "<tf.Tensor: shape=(10,), dtype=int32, numpy=array([ 70,  74,  78,  82,  86,  90,  94,  98, 102, 106], dtype=int32)>"
            ]
          },
          "metadata": {},
          "execution_count": 34
        }
      ]
    },
    {
      "cell_type": "code",
      "source": [
        "# Create a plotting function\n",
        "import matplotlib.pyplot as plt\n",
        "\n",
        "def plot_prediction(train_data=x_train,\n",
        "                    train_labels=y_train,\n",
        "                    test_data=x_test,\n",
        "                    test_labels=y_test,\n",
        "                    predictions=y_pred):\n",
        "\n",
        "     plt.figure(figsize=(10,7))\n",
        "     # Plot traning data in blue\n",
        "     plt.scatter(train_data,train_labels,c=\"b\",label=\"Traning Data\")\n",
        "     # Plot testing data in green\n",
        "     plt.scatter(test_data,test_labels,c=\"g\",label=\"Testing Data\")\n",
        "     # Plot model's prediction in red\n",
        "     plt.scatter(test_data,predictions,c=\"r\",label=\"Predictions\")\n",
        "     # Show the legend\n",
        "     plt.legend()\n",
        "     plt.show()\n"
      ],
      "metadata": {
        "id": "dz9YnjXkvCjG"
      },
      "execution_count": 35,
      "outputs": []
    },
    {
      "cell_type": "code",
      "source": [
        "plot_prediction(x_train,y_train,x_test,y_test,y_pred)"
      ],
      "metadata": {
        "colab": {
          "base_uri": "https://localhost:8080/",
          "height": 599
        },
        "id": "THyxecrawn8-",
        "outputId": "8ce5050a-4a50-4999-f7ea-5c817e9772bb"
      },
      "execution_count": 36,
      "outputs": [
        {
          "output_type": "display_data",
          "data": {
            "text/plain": [
              "<Figure size 1000x700 with 1 Axes>"
            ],
            "image/png": "[encoded data removed]"
          },
          "metadata": {}
        }
      ]
    },
    {
      "cell_type": "markdown",
      "source": [
        "## Evaluting our model's predictions with regression evaluation metrics\n",
        "\n",
        "* MAE - mean absolute error\n",
        "* MSE - mean square error"
      ],
      "metadata": {
        "id": "I9zAFVnuxD4f"
      }
    },
    {
      "cell_type": "code",
      "source": [
        "model.evaluate(x_test,y_test)"
      ],
      "metadata": {
        "colab": {
          "base_uri": "https://localhost:8080/"
        },
        "id": "MAERR6aENa5n",
        "outputId": "cbeb82f3-aa86-4383-c941-8fcb0bee9e74"
      },
      "execution_count": 38,
      "outputs": [
        {
          "output_type": "stream",
          "name": "stdout",
          "text": [
            "1/1 [==============================] - 0s 309ms/step - loss: 9.9801 - mae: 9.9801\n"
          ]
        },
        {
          "output_type": "execute_result",
          "data": {
            "text/plain": [
              "[9.980081558227539, 9.980081558227539]"
            ]
          },
          "metadata": {},
          "execution_count": 38
        }
      ]
    },
    {
      "cell_type": "code",
      "source": [
        "# Calculate the mean absolute error\n",
        "mae = tf.metrics.mean_absolute_error(y_test,y_pred)\n",
        "mae"
      ],
      "metadata": {
        "colab": {
          "base_uri": "https://localhost:8080/"
        },
        "id": "XVAiumAPPNNh",
        "outputId": "8a2bbb53-3fca-4e7a-c7ad-ef44009ba079"
      },
      "execution_count": 39,
      "outputs": [
        {
          "output_type": "execute_result",
          "data": {
            "text/plain": [
              "<tf.Tensor: shape=(10,), dtype=float32, numpy=\n",
              "array([13.742254, 11.319974, 10.072557, 10.114873, 11.404602, 13.869197,\n",
              "       17.508648, 22.322952, 27.260101, 32.19725 ], dtype=float32)>"
            ]
          },
          "metadata": {},
          "execution_count": 39
        }
      ]
    },
    {
      "cell_type": "code",
      "source": [
        "y_test\n"
      ],
      "metadata": {
        "colab": {
          "base_uri": "https://localhost:8080/"
        },
        "id": "1EGbdO87PxyN",
        "outputId": "a86db157-19b1-4504-f368-f9d33915da33"
      },
      "execution_count": 40,
      "outputs": [
        {
          "output_type": "execute_result",
          "data": {
            "text/plain": [
              "<tf.Tensor: shape=(10,), dtype=int32, numpy=array([ 70,  74,  78,  82,  86,  90,  94,  98, 102, 106], dtype=int32)>"
            ]
          },
          "metadata": {},
          "execution_count": 40
        }
      ]
    },
    {
      "cell_type": "code",
      "source": [
        "y_pred = tf.constant(y_pred)\n",
        "y_pred"
      ],
      "metadata": {
        "colab": {
          "base_uri": "https://localhost:8080/"
        },
        "id": "G35rg5yMQTPI",
        "outputId": "65d96fd3-aed8-4690-c838-37a8ab4f6c57"
      },
      "execution_count": 47,
      "outputs": [
        {
          "output_type": "execute_result",
          "data": {
            "text/plain": [
              "<tf.Tensor: shape=(10,), dtype=float32, numpy=\n",
              "array([ 75.76291 ,  80.700066,  85.637215,  90.57436 ,  95.511505,\n",
              "       100.44866 , 105.38581 , 110.32295 , 115.2601  , 120.19725 ],\n",
              "      dtype=float32)>"
            ]
          },
          "metadata": {},
          "execution_count": 47
        }
      ]
    },
    {
      "cell_type": "code",
      "source": [
        "tf.squeeze(y_pred)"
      ],
      "metadata": {
        "colab": {
          "base_uri": "https://localhost:8080/"
        },
        "id": "m-nbcI8OQUeJ",
        "outputId": "77dc3e0f-ed7d-46f0-ad3c-b9ff11192a65"
      },
      "execution_count": 48,
      "outputs": [
        {
          "output_type": "execute_result",
          "data": {
            "text/plain": [
              "<tf.Tensor: shape=(10,), dtype=float32, numpy=\n",
              "array([ 75.76291 ,  80.700066,  85.637215,  90.57436 ,  95.511505,\n",
              "       100.44866 , 105.38581 , 110.32295 , 115.2601  , 120.19725 ],\n",
              "      dtype=float32)>"
            ]
          },
          "metadata": {},
          "execution_count": 48
        }
      ]
    },
    {
      "cell_type": "code",
      "source": [
        "# Calculate the mean absolute error\n",
        "mae = tf.metrics.mean_absolute_error(y_true=y_test,\n",
        "                                     y_pred=tf.squeeze(y_pred))\n",
        "mae"
      ],
      "metadata": {
        "colab": {
          "base_uri": "https://localhost:8080/"
        },
        "id": "MWINE4H0QeBY",
        "outputId": "a3f2d0dc-31e8-41d8-8245-fd5ff5cbf864"
      },
      "execution_count": 49,
      "outputs": [
        {
          "output_type": "execute_result",
          "data": {
            "text/plain": [
              "<tf.Tensor: shape=(), dtype=float32, numpy=9.980083>"
            ]
          },
          "metadata": {},
          "execution_count": 49
        }
      ]
    },
    {
      "cell_type": "code",
      "source": [
        "# Calculate the mean square error\n",
        "mse = tf.metrics.mean_squared_error(y_true=y_test,\n",
        "                                    y_pred=tf.squeeze(y_pred))\n",
        "mse"
      ],
      "metadata": {
        "colab": {
          "base_uri": "https://localhost:8080/"
        },
        "id": "fezbFcssQmxR",
        "outputId": "f6eeca20-ebe6-49a9-aa29-57ee35697dbe"
      },
      "execution_count": 50,
      "outputs": [
        {
          "output_type": "execute_result",
          "data": {
            "text/plain": [
              "<tf.Tensor: shape=(), dtype=float32, numpy=106.84761>"
            ]
          },
          "metadata": {},
          "execution_count": 50
        }
      ]
    },
    {
      "cell_type": "markdown",
      "source": [
        "### Running experiments to improve our model"
      ],
      "metadata": {
        "id": "mQ8hXBAfRc-x"
      }
    },
    {
      "cell_type": "code",
      "source": [
        "x_train, y_train"
      ],
      "metadata": {
        "colab": {
          "base_uri": "https://localhost:8080/"
        },
        "id": "EHoZhvJaSPKq",
        "outputId": "b6dae621-940c-4d57-c8f3-4b3cdbf81568"
      },
      "execution_count": 51,
      "outputs": [
        {
          "output_type": "execute_result",
          "data": {
            "text/plain": [
              "(<tf.Tensor: shape=(40,), dtype=int32, numpy=\n",
              " array([-100,  -96,  -92,  -88,  -84,  -80,  -76,  -72,  -68,  -64,  -60,\n",
              "         -56,  -52,  -48,  -44,  -40,  -36,  -32,  -28,  -24,  -20,  -16,\n",
              "         -12,   -8,   -4,    0,    4,    8,   12,   16,   20,   24,   28,\n",
              "          32,   36,   40,   44,   48,   52,   56], dtype=int32)>,\n",
              " <tf.Tensor: shape=(40,), dtype=int32, numpy=\n",
              " array([-90, -86, -82, -78, -74, -70, -66, -62, -58, -54, -50, -46, -42,\n",
              "        -38, -34, -30, -26, -22, -18, -14, -10,  -6,  -2,   2,   6,  10,\n",
              "         14,  18,  22,  26,  30,  34,  38,  42,  46,  50,  54,  58,  62,\n",
              "         66], dtype=int32)>)"
            ]
          },
          "metadata": {},
          "execution_count": 51
        }
      ]
    },
    {
      "cell_type": "markdown",
      "source": [
        "#### Build model_1"
      ],
      "metadata": {
        "id": "MogLWLqqSm6p"
      }
    },
    {
      "cell_type": "code",
      "source": [
        "tf.random.set_seed(42)\n",
        "\n",
        "model_1 = tf.keras.Sequential([\n",
        "    tf.keras.layers.Dense(1,input_shape=[1])\n",
        "])\n",
        "\n",
        "model_1.compile(loss=tf.keras.losses.mae,\n",
        "                optimizer=tf.keras.optimizers.SGD(),\n",
        "                metrics=['mae'])\n",
        "\n",
        "model_1.fit(x_train,y_train,epochs=100)"
      ],
      "metadata": {
        "colab": {
          "base_uri": "https://localhost:8080/"
        },
        "id": "KW_XJ4reS44x",
        "outputId": "f7e986c5-9099-4230-b4be-80da1fa84ca5"
      },
      "execution_count": 54,
      "outputs": [
        {
          "output_type": "stream",
          "name": "stdout",
          "text": [
            "Epoch 1/100\n",
            "2/2 [==============================] - 0s 11ms/step - loss: 14.2485 - mae: 14.2485\n",
            "Epoch 2/100\n",
            "2/2 [==============================] - 0s 6ms/step - loss: 10.3878 - mae: 10.3878\n",
            "Epoch 3/100\n",
            "2/2 [==============================] - 0s 6ms/step - loss: 10.7825 - mae: 10.7825\n",
            "Epoch 4/100\n",
            "2/2 [==============================] - 0s 6ms/step - loss: 9.4943 - mae: 9.4943\n",
            "Epoch 5/100\n",
            "2/2 [==============================] - 0s 7ms/step - loss: 10.3929 - mae: 10.3929\n",
            "Epoch 6/100\n",
            "2/2 [==============================] - 0s 6ms/step - loss: 9.6283 - mae: 9.6283\n",
            "Epoch 7/100\n",
            "2/2 [==============================] - 0s 6ms/step - loss: 8.7357 - mae: 8.7357\n",
            "Epoch 8/100\n",
            "2/2 [==============================] - 0s 7ms/step - loss: 9.0569 - mae: 9.0569\n",
            "Epoch 9/100\n",
            "2/2 [==============================] - 0s 6ms/step - loss: 19.1680 - mae: 19.1680\n",
            "Epoch 10/100\n",
            "2/2 [==============================] - 0s 7ms/step - loss: 10.3449 - mae: 10.3449\n",
            "Epoch 11/100\n",
            "2/2 [==============================] - 0s 9ms/step - loss: 8.4870 - mae: 8.4870\n",
            "Epoch 12/100\n",
            "2/2 [==============================] - 0s 9ms/step - loss: 10.8482 - mae: 10.8482\n",
            "Epoch 13/100\n",
            "2/2 [==============================] - 0s 8ms/step - loss: 9.8936 - mae: 9.8936\n",
            "Epoch 14/100\n",
            "2/2 [==============================] - 0s 10ms/step - loss: 12.1132 - mae: 12.1132\n",
            "Epoch 15/100\n",
            "2/2 [==============================] - 0s 8ms/step - loss: 12.3576 - mae: 12.3576\n",
            "Epoch 16/100\n",
            "2/2 [==============================] - 0s 8ms/step - loss: 8.4293 - mae: 8.4293\n",
            "Epoch 17/100\n",
            "2/2 [==============================] - 0s 8ms/step - loss: 13.3849 - mae: 13.3849\n",
            "Epoch 18/100\n",
            "2/2 [==============================] - 0s 9ms/step - loss: 11.1517 - mae: 11.1517\n",
            "Epoch 19/100\n",
            "2/2 [==============================] - 0s 8ms/step - loss: 18.3824 - mae: 18.3824\n",
            "Epoch 20/100\n",
            "2/2 [==============================] - 0s 8ms/step - loss: 15.0843 - mae: 15.0843\n",
            "Epoch 21/100\n",
            "2/2 [==============================] - 0s 8ms/step - loss: 11.0496 - mae: 11.0496\n",
            "Epoch 22/100\n",
            "2/2 [==============================] - 0s 7ms/step - loss: 8.1806 - mae: 8.1806\n",
            "Epoch 23/100\n",
            "2/2 [==============================] - 0s 8ms/step - loss: 9.4888 - mae: 9.4888\n",
            "Epoch 24/100\n",
            "2/2 [==============================] - 0s 10ms/step - loss: 7.6643 - mae: 7.6643\n",
            "Epoch 25/100\n",
            "2/2 [==============================] - 0s 7ms/step - loss: 13.1353 - mae: 13.1353\n",
            "Epoch 26/100\n",
            "2/2 [==============================] - 0s 8ms/step - loss: 16.4554 - mae: 16.4554\n",
            "Epoch 27/100\n",
            "2/2 [==============================] - 0s 9ms/step - loss: 13.1937 - mae: 13.1937\n",
            "Epoch 28/100\n",
            "2/2 [==============================] - 0s 8ms/step - loss: 14.2922 - mae: 14.2922\n",
            "Epoch 29/100\n",
            "2/2 [==============================] - 0s 8ms/step - loss: 10.0743 - mae: 10.0743\n",
            "Epoch 30/100\n",
            "2/2 [==============================] - 0s 9ms/step - loss: 16.3972 - mae: 16.3972\n",
            "Epoch 31/100\n",
            "2/2 [==============================] - 0s 7ms/step - loss: 23.5902 - mae: 23.5902\n",
            "Epoch 32/100\n",
            "2/2 [==============================] - 0s 9ms/step - loss: 7.6094 - mae: 7.6094\n",
            "Epoch 33/100\n",
            "2/2 [==============================] - 0s 7ms/step - loss: 9.3072 - mae: 9.3072\n",
            "Epoch 34/100\n",
            "2/2 [==============================] - 0s 7ms/step - loss: 13.6891 - mae: 13.6891\n",
            "Epoch 35/100\n",
            "2/2 [==============================] - 0s 8ms/step - loss: 11.1472 - mae: 11.1472\n",
            "Epoch 36/100\n",
            "2/2 [==============================] - 0s 9ms/step - loss: 13.3650 - mae: 13.3650\n",
            "Epoch 37/100\n",
            "2/2 [==============================] - 0s 7ms/step - loss: 9.4551 - mae: 9.4551\n",
            "Epoch 38/100\n",
            "2/2 [==============================] - 0s 8ms/step - loss: 10.1091 - mae: 10.1091\n",
            "Epoch 39/100\n",
            "2/2 [==============================] - 0s 9ms/step - loss: 10.1992 - mae: 10.1992\n",
            "Epoch 40/100\n",
            "2/2 [==============================] - 0s 11ms/step - loss: 10.9423 - mae: 10.9423\n",
            "Epoch 41/100\n",
            "2/2 [==============================] - 0s 8ms/step - loss: 7.9183 - mae: 7.9183\n",
            "Epoch 42/100\n",
            "2/2 [==============================] - 0s 7ms/step - loss: 10.5871 - mae: 10.5871\n",
            "Epoch 43/100\n",
            "2/2 [==============================] - 0s 8ms/step - loss: 7.2078 - mae: 7.2078\n",
            "Epoch 44/100\n",
            "2/2 [==============================] - 0s 11ms/step - loss: 7.9983 - mae: 7.9983\n",
            "Epoch 45/100\n",
            "2/2 [==============================] - 0s 9ms/step - loss: 9.7929 - mae: 9.7929\n",
            "Epoch 46/100\n",
            "2/2 [==============================] - 0s 9ms/step - loss: 8.8698 - mae: 8.8698\n",
            "Epoch 47/100\n",
            "2/2 [==============================] - 0s 9ms/step - loss: 7.5691 - mae: 7.5691\n",
            "Epoch 48/100\n",
            "2/2 [==============================] - 0s 10ms/step - loss: 8.5646 - mae: 8.5646\n",
            "Epoch 49/100\n",
            "2/2 [==============================] - 0s 8ms/step - loss: 9.9992 - mae: 9.9992\n",
            "Epoch 50/100\n",
            "2/2 [==============================] - 0s 8ms/step - loss: 9.0155 - mae: 9.0155\n",
            "Epoch 51/100\n",
            "2/2 [==============================] - 0s 8ms/step - loss: 10.6699 - mae: 10.6699\n",
            "Epoch 52/100\n",
            "2/2 [==============================] - 0s 7ms/step - loss: 15.2892 - mae: 15.2892\n",
            "Epoch 53/100\n",
            "2/2 [==============================] - 0s 9ms/step - loss: 14.3117 - mae: 14.3117\n",
            "Epoch 54/100\n",
            "2/2 [==============================] - 0s 7ms/step - loss: 21.6016 - mae: 21.6016\n",
            "Epoch 55/100\n",
            "2/2 [==============================] - 0s 7ms/step - loss: 15.9975 - mae: 15.9975\n",
            "Epoch 56/100\n",
            "2/2 [==============================] - 0s 10ms/step - loss: 10.2803 - mae: 10.2803\n",
            "Epoch 57/100\n",
            "2/2 [==============================] - 0s 13ms/step - loss: 9.7682 - mae: 9.7682\n",
            "Epoch 58/100\n",
            "2/2 [==============================] - 0s 8ms/step - loss: 9.0534 - mae: 9.0534\n",
            "Epoch 59/100\n",
            "2/2 [==============================] - 0s 7ms/step - loss: 8.2584 - mae: 8.2584\n",
            "Epoch 60/100\n",
            "2/2 [==============================] - 0s 7ms/step - loss: 9.3545 - mae: 9.3545\n",
            "Epoch 61/100\n",
            "2/2 [==============================] - 0s 7ms/step - loss: 11.1661 - mae: 11.1661\n",
            "Epoch 62/100\n",
            "2/2 [==============================] - 0s 8ms/step - loss: 12.0687 - mae: 12.0687\n",
            "Epoch 63/100\n",
            "2/2 [==============================] - 0s 8ms/step - loss: 7.2667 - mae: 7.2667\n",
            "Epoch 64/100\n",
            "2/2 [==============================] - 0s 8ms/step - loss: 12.4325 - mae: 12.4325\n",
            "Epoch 65/100\n",
            "2/2 [==============================] - 0s 8ms/step - loss: 10.5019 - mae: 10.5019\n",
            "Epoch 66/100\n",
            "2/2 [==============================] - 0s 9ms/step - loss: 15.6017 - mae: 15.6017\n",
            "Epoch 67/100\n",
            "2/2 [==============================] - 0s 8ms/step - loss: 10.0044 - mae: 10.0044\n",
            "Epoch 68/100\n",
            "2/2 [==============================] - 0s 9ms/step - loss: 8.7168 - mae: 8.7168\n",
            "Epoch 69/100\n",
            "2/2 [==============================] - 0s 7ms/step - loss: 13.4781 - mae: 13.4781\n",
            "Epoch 70/100\n",
            "2/2 [==============================] - 0s 10ms/step - loss: 7.4655 - mae: 7.4655\n",
            "Epoch 71/100\n",
            "2/2 [==============================] - 0s 7ms/step - loss: 12.2288 - mae: 12.2288\n",
            "Epoch 72/100\n",
            "2/2 [==============================] - 0s 8ms/step - loss: 8.5261 - mae: 8.5261\n",
            "Epoch 73/100\n",
            "2/2 [==============================] - 0s 8ms/step - loss: 7.0355 - mae: 7.0355\n",
            "Epoch 74/100\n",
            "2/2 [==============================] - 0s 11ms/step - loss: 9.9211 - mae: 9.9211\n",
            "Epoch 75/100\n",
            "2/2 [==============================] - 0s 8ms/step - loss: 9.9374 - mae: 9.9374\n",
            "Epoch 76/100\n",
            "2/2 [==============================] - 0s 10ms/step - loss: 10.1029 - mae: 10.1029\n",
            "Epoch 77/100\n",
            "2/2 [==============================] - 0s 10ms/step - loss: 12.9561 - mae: 12.9561\n",
            "Epoch 78/100\n",
            "2/2 [==============================] - 0s 9ms/step - loss: 11.1423 - mae: 11.1423\n",
            "Epoch 79/100\n",
            "2/2 [==============================] - 0s 8ms/step - loss: 14.6918 - mae: 14.6918\n",
            "Epoch 80/100\n",
            "2/2 [==============================] - 0s 8ms/step - loss: 8.9250 - mae: 8.9250\n",
            "Epoch 81/100\n",
            "2/2 [==============================] - 0s 8ms/step - loss: 10.7704 - mae: 10.7704\n",
            "Epoch 82/100\n",
            "2/2 [==============================] - 0s 9ms/step - loss: 8.3805 - mae: 8.3805\n",
            "Epoch 83/100\n",
            "2/2 [==============================] - 0s 9ms/step - loss: 9.2256 - mae: 9.2256\n",
            "Epoch 84/100\n",
            "2/2 [==============================] - 0s 9ms/step - loss: 8.9407 - mae: 8.9407\n",
            "Epoch 85/100\n",
            "2/2 [==============================] - 0s 8ms/step - loss: 13.2053 - mae: 13.2053\n",
            "Epoch 86/100\n",
            "2/2 [==============================] - 0s 8ms/step - loss: 13.6965 - mae: 13.6965\n",
            "Epoch 87/100\n",
            "2/2 [==============================] - 0s 8ms/step - loss: 13.1806 - mae: 13.1806\n",
            "Epoch 88/100\n",
            "2/2 [==============================] - 0s 9ms/step - loss: 11.5057 - mae: 11.5057\n",
            "Epoch 89/100\n",
            "2/2 [==============================] - 0s 10ms/step - loss: 7.7985 - mae: 7.7985\n",
            "Epoch 90/100\n",
            "2/2 [==============================] - 0s 9ms/step - loss: 10.9205 - mae: 10.9205\n",
            "Epoch 91/100\n",
            "2/2 [==============================] - 0s 8ms/step - loss: 6.7463 - mae: 6.7463\n",
            "Epoch 92/100\n",
            "2/2 [==============================] - 0s 8ms/step - loss: 10.1130 - mae: 10.1130\n",
            "Epoch 93/100\n",
            "2/2 [==============================] - 0s 7ms/step - loss: 7.6071 - mae: 7.6071\n",
            "Epoch 94/100\n",
            "2/2 [==============================] - 0s 7ms/step - loss: 9.2397 - mae: 9.2397\n",
            "Epoch 95/100\n",
            "2/2 [==============================] - 0s 8ms/step - loss: 10.8319 - mae: 10.8319\n",
            "Epoch 96/100\n",
            "2/2 [==============================] - 0s 8ms/step - loss: 10.2860 - mae: 10.2860\n",
            "Epoch 97/100\n",
            "2/2 [==============================] - 0s 9ms/step - loss: 7.6801 - mae: 7.6801\n",
            "Epoch 98/100\n",
            "2/2 [==============================] - 0s 9ms/step - loss: 8.6147 - mae: 8.6147\n",
            "Epoch 99/100\n",
            "2/2 [==============================] - 0s 8ms/step - loss: 9.3937 - mae: 9.3937\n",
            "Epoch 100/100\n",
            "2/2 [==============================] - 0s 9ms/step - loss: 8.8382 - mae: 8.8382\n"
          ]
        },
        {
          "output_type": "execute_result",
          "data": {
            "text/plain": [
              "<keras.src.callbacks.History at 0x7d12805702e0>"
            ]
          },
          "metadata": {},
          "execution_count": 54
        }
      ]
    },
    {
      "cell_type": "code",
      "source": [
        "y_preds_1 = model_1.predict(x_test)\n",
        "plot_prediction(predictions=y_preds_1)"
      ],
      "metadata": {
        "colab": {
          "base_uri": "https://localhost:8080/",
          "height": 654
        },
        "id": "3NoKqZC2TS7h",
        "outputId": "99823e5e-20f9-4d5f-af07-896c95c36b92"
      },
      "execution_count": 55,
      "outputs": [
        {
          "output_type": "stream",
          "name": "stderr",
          "text": [
            "WARNING:tensorflow:5 out of the last 5 calls to <function Model.make_predict_function.<locals>.predict_function at 0x7d1271753f40> triggered tf.function retracing. Tracing is expensive and the excessive number of tracings could be due to (1) creating @tf.function repeatedly in a loop, (2) passing tensors with different shapes, (3) passing Python objects instead of tensors. For (1), please define your @tf.function outside of the loop. For (2), @tf.function has reduce_retracing=True option that can avoid unnecessary retracing. For (3), please refer to https://www.tensorflow.org/guide/function#controlling_retracing and https://www.tensorflow.org/api_docs/python/tf/function for  more details.\n"
          ]
        },
        {
          "output_type": "stream",
          "name": "stdout",
          "text": [
            "1/1 [==============================] - 0s 86ms/step\n"
          ]
        },
        {
          "output_type": "display_data",
          "data": {
            "text/plain": [
              "<Figure size 1000x700 with 1 Axes>"
            ],
            "image/png": "[encoded data removed]"
          },
          "metadata": {}
        }
      ]
    },
    {
      "cell_type": "code",
      "source": [
        "tf.metrics.mean_absolute_error(y_test,tf.squeeze(y_preds_1)), tf.metrics.mean_squared_error(y_test,tf.squeeze(y_preds_1))"
      ],
      "metadata": {
        "colab": {
          "base_uri": "https://localhost:8080/"
        },
        "id": "K1z6zdC8UCDp",
        "outputId": "13602e04-54fd-476b-ab77-13fb9727e4b6"
      },
      "execution_count": 58,
      "outputs": [
        {
          "output_type": "execute_result",
          "data": {
            "text/plain": [
              "(<tf.Tensor: shape=(), dtype=float32, numpy=8.656392>,\n",
              " <tf.Tensor: shape=(), dtype=float32, numpy=81.46476>)"
            ]
          },
          "metadata": {},
          "execution_count": 58
        }
      ]
    },
    {
      "cell_type": "code",
      "source": [
        "def mae(y_test,y_preds):\n",
        "    return tf.metrics.mean_absolute_error(y_test,tf.squeeze(y_preds))\n",
        "\n",
        "def mse(y_test,y_preds):\n",
        "    return tf.metrics.mean_squared_error(y_test,tf.squeeze(y_preds))"
      ],
      "metadata": {
        "id": "-VfdFD9iUQyh"
      },
      "execution_count": 59,
      "outputs": []
    },
    {
      "cell_type": "code",
      "source": [
        "mae_1 = mae(y_test,y_preds_1)\n",
        "mse_1 = mse(y_test,y_preds_1)\n",
        "mae_1,mse_1"
      ],
      "metadata": {
        "colab": {
          "base_uri": "https://localhost:8080/"
        },
        "id": "5wzyXrNhUxKq",
        "outputId": "3c8772bf-394d-4771-c2cc-01e224438e2c"
      },
      "execution_count": 78,
      "outputs": [
        {
          "output_type": "execute_result",
          "data": {
            "text/plain": [
              "(<tf.Tensor: shape=(), dtype=float32, numpy=8.656392>,\n",
              " <tf.Tensor: shape=(), dtype=float32, numpy=81.46476>)"
            ]
          },
          "metadata": {},
          "execution_count": 78
        }
      ]
    },
    {
      "cell_type": "markdown",
      "source": [
        "#### Build model_2"
      ],
      "metadata": {
        "id": "rGqqxP-qUz1x"
      }
    },
    {
      "cell_type": "code",
      "source": [
        "tf.random.set_seed(42)\n",
        "\n",
        "model_2 = tf.keras.Sequential([\n",
        "    tf.keras.layers.Dense(10,input_dim=1),\n",
        "    tf.keras.layers.Dense(1)\n",
        "])\n",
        "\n",
        "model_2.compile(loss=tf.keras.losses.mae,\n",
        "                optimizer=tf.keras.optimizers.SGD(),\n",
        "                metrics=['mae'])\n",
        "\n",
        "model_2.fit(x_train,y_train,epochs=100)"
      ],
      "metadata": {
        "colab": {
          "base_uri": "https://localhost:8080/"
        },
        "id": "BMDAhggAU6Pr",
        "outputId": "ab7cddd8-4ec9-46c5-8fb6-e314369ffbf1"
      },
      "execution_count": 71,
      "outputs": [
        {
          "output_type": "stream",
          "name": "stdout",
          "text": [
            "Epoch 1/100\n",
            "2/2 [==============================] - 0s 11ms/step - loss: 30.5720 - mae: 30.5720\n",
            "Epoch 2/100\n",
            "2/2 [==============================] - 0s 8ms/step - loss: 10.9009 - mae: 10.9009\n",
            "Epoch 3/100\n",
            "2/2 [==============================] - 0s 7ms/step - loss: 26.8475 - mae: 26.8475\n",
            "Epoch 4/100\n",
            "2/2 [==============================] - 0s 7ms/step - loss: 13.6423 - mae: 13.6423\n",
            "Epoch 5/100\n",
            "2/2 [==============================] - 0s 7ms/step - loss: 18.3757 - mae: 18.3757\n",
            "Epoch 6/100\n",
            "2/2 [==============================] - 0s 7ms/step - loss: 9.2877 - mae: 9.2877\n",
            "Epoch 7/100\n",
            "2/2 [==============================] - 0s 7ms/step - loss: 10.2469 - mae: 10.2469\n",
            "Epoch 8/100\n",
            "2/2 [==============================] - 0s 7ms/step - loss: 11.1984 - mae: 11.1984\n",
            "Epoch 9/100\n",
            "2/2 [==============================] - 0s 7ms/step - loss: 41.7117 - mae: 41.7117\n",
            "Epoch 10/100\n",
            "2/2 [==============================] - 0s 7ms/step - loss: 28.9446 - mae: 28.9446\n",
            "Epoch 11/100\n",
            "2/2 [==============================] - 0s 8ms/step - loss: 8.5475 - mae: 8.5475\n",
            "Epoch 12/100\n",
            "2/2 [==============================] - 0s 10ms/step - loss: 27.4193 - mae: 27.4193\n",
            "Epoch 13/100\n",
            "2/2 [==============================] - 0s 7ms/step - loss: 12.1277 - mae: 12.1277\n",
            "Epoch 14/100\n",
            "2/2 [==============================] - 0s 8ms/step - loss: 34.8620 - mae: 34.8620\n",
            "Epoch 15/100\n",
            "2/2 [==============================] - 0s 7ms/step - loss: 22.6918 - mae: 22.6918\n",
            "Epoch 16/100\n",
            "2/2 [==============================] - 0s 7ms/step - loss: 9.9496 - mae: 9.9496\n",
            "Epoch 17/100\n",
            "2/2 [==============================] - 0s 8ms/step - loss: 17.9174 - mae: 17.9174\n",
            "Epoch 18/100\n",
            "2/2 [==============================] - 0s 8ms/step - loss: 14.3885 - mae: 14.3885\n",
            "Epoch 19/100\n",
            "2/2 [==============================] - 0s 7ms/step - loss: 14.5001 - mae: 14.5001\n",
            "Epoch 20/100\n",
            "2/2 [==============================] - 0s 9ms/step - loss: 10.4927 - mae: 10.4927\n",
            "Epoch 21/100\n",
            "2/2 [==============================] - 0s 9ms/step - loss: 15.2688 - mae: 15.2688\n",
            "Epoch 22/100\n",
            "2/2 [==============================] - 0s 8ms/step - loss: 15.6147 - mae: 15.6147\n",
            "Epoch 23/100\n",
            "2/2 [==============================] - 0s 7ms/step - loss: 9.2377 - mae: 9.2377\n",
            "Epoch 24/100\n",
            "2/2 [==============================] - 0s 6ms/step - loss: 17.2313 - mae: 17.2313\n",
            "Epoch 25/100\n",
            "2/2 [==============================] - 0s 7ms/step - loss: 15.9171 - mae: 15.9171\n",
            "Epoch 26/100\n",
            "2/2 [==============================] - 0s 7ms/step - loss: 20.8758 - mae: 20.8758\n",
            "Epoch 27/100\n",
            "2/2 [==============================] - 0s 7ms/step - loss: 26.0875 - mae: 26.0875\n",
            "Epoch 28/100\n",
            "2/2 [==============================] - 0s 7ms/step - loss: 18.5692 - mae: 18.5692\n",
            "Epoch 29/100\n",
            "2/2 [==============================] - 0s 7ms/step - loss: 9.2513 - mae: 9.2513\n",
            "Epoch 30/100\n",
            "2/2 [==============================] - 0s 7ms/step - loss: 29.1873 - mae: 29.1873\n",
            "Epoch 31/100\n",
            "2/2 [==============================] - 0s 7ms/step - loss: 52.8756 - mae: 52.8756\n",
            "Epoch 32/100\n",
            "2/2 [==============================] - 0s 7ms/step - loss: 11.9720 - mae: 11.9720\n",
            "Epoch 33/100\n",
            "2/2 [==============================] - 0s 7ms/step - loss: 15.5882 - mae: 15.5882\n",
            "Epoch 34/100\n",
            "2/2 [==============================] - 0s 8ms/step - loss: 12.6627 - mae: 12.6627\n",
            "Epoch 35/100\n",
            "2/2 [==============================] - 0s 8ms/step - loss: 9.2294 - mae: 9.2294\n",
            "Epoch 36/100\n",
            "2/2 [==============================] - 0s 8ms/step - loss: 16.5833 - mae: 16.5833\n",
            "Epoch 37/100\n",
            "2/2 [==============================] - 0s 8ms/step - loss: 11.0617 - mae: 11.0617\n",
            "Epoch 38/100\n",
            "2/2 [==============================] - 0s 7ms/step - loss: 18.1886 - mae: 18.1886\n",
            "Epoch 39/100\n",
            "2/2 [==============================] - 0s 7ms/step - loss: 19.1245 - mae: 19.1245\n",
            "Epoch 40/100\n",
            "2/2 [==============================] - 0s 7ms/step - loss: 20.4733 - mae: 20.4733\n",
            "Epoch 41/100\n",
            "2/2 [==============================] - 0s 9ms/step - loss: 14.8678 - mae: 14.8678\n",
            "Epoch 42/100\n",
            "2/2 [==============================] - 0s 7ms/step - loss: 12.2490 - mae: 12.2490\n",
            "Epoch 43/100\n",
            "2/2 [==============================] - 0s 9ms/step - loss: 10.7186 - mae: 10.7186\n",
            "Epoch 44/100\n",
            "2/2 [==============================] - 0s 8ms/step - loss: 22.9098 - mae: 22.9098\n",
            "Epoch 45/100\n",
            "2/2 [==============================] - 0s 15ms/step - loss: 10.3623 - mae: 10.3623\n",
            "Epoch 46/100\n",
            "2/2 [==============================] - 0s 12ms/step - loss: 11.7451 - mae: 11.7451\n",
            "Epoch 47/100\n",
            "2/2 [==============================] - 0s 10ms/step - loss: 9.6696 - mae: 9.6696\n",
            "Epoch 48/100\n",
            "2/2 [==============================] - 0s 9ms/step - loss: 17.2848 - mae: 17.2848\n",
            "Epoch 49/100\n",
            "2/2 [==============================] - 0s 7ms/step - loss: 9.5463 - mae: 9.5463\n",
            "Epoch 50/100\n",
            "2/2 [==============================] - 0s 8ms/step - loss: 13.7651 - mae: 13.7651\n",
            "Epoch 51/100\n",
            "2/2 [==============================] - 0s 9ms/step - loss: 11.5793 - mae: 11.5793\n",
            "Epoch 52/100\n",
            "2/2 [==============================] - 0s 9ms/step - loss: 30.3926 - mae: 30.3926\n",
            "Epoch 53/100\n",
            "2/2 [==============================] - 0s 8ms/step - loss: 14.2867 - mae: 14.2867\n",
            "Epoch 54/100\n",
            "2/2 [==============================] - 0s 9ms/step - loss: 23.6225 - mae: 23.6225\n",
            "Epoch 55/100\n",
            "2/2 [==============================] - 0s 7ms/step - loss: 24.5490 - mae: 24.5490\n",
            "Epoch 56/100\n",
            "2/2 [==============================] - 0s 9ms/step - loss: 11.3258 - mae: 11.3258\n",
            "Epoch 57/100\n",
            "2/2 [==============================] - 0s 9ms/step - loss: 13.3393 - mae: 13.3393\n",
            "Epoch 58/100\n",
            "2/2 [==============================] - 0s 8ms/step - loss: 9.9356 - mae: 9.9356\n",
            "Epoch 59/100\n",
            "2/2 [==============================] - 0s 8ms/step - loss: 13.8882 - mae: 13.8882\n",
            "Epoch 60/100\n",
            "2/2 [==============================] - 0s 9ms/step - loss: 9.9782 - mae: 9.9782\n",
            "Epoch 61/100\n",
            "2/2 [==============================] - 0s 7ms/step - loss: 14.9442 - mae: 14.9442\n",
            "Epoch 62/100\n",
            "2/2 [==============================] - 0s 8ms/step - loss: 11.9072 - mae: 11.9072\n",
            "Epoch 63/100\n",
            "2/2 [==============================] - 0s 10ms/step - loss: 10.2762 - mae: 10.2762\n",
            "Epoch 64/100\n",
            "2/2 [==============================] - 0s 14ms/step - loss: 23.8414 - mae: 23.8414\n",
            "Epoch 65/100\n",
            "2/2 [==============================] - 0s 10ms/step - loss: 10.4521 - mae: 10.4521\n",
            "Epoch 66/100\n",
            "2/2 [==============================] - 0s 8ms/step - loss: 20.8920 - mae: 20.8920\n",
            "Epoch 67/100\n",
            "2/2 [==============================] - 0s 7ms/step - loss: 10.4274 - mae: 10.4274\n",
            "Epoch 68/100\n",
            "2/2 [==============================] - 0s 7ms/step - loss: 14.1468 - mae: 14.1468\n",
            "Epoch 69/100\n",
            "2/2 [==============================] - 0s 7ms/step - loss: 10.4958 - mae: 10.4958\n",
            "Epoch 70/100\n",
            "2/2 [==============================] - 0s 6ms/step - loss: 12.5647 - mae: 12.5647\n",
            "Epoch 71/100\n",
            "2/2 [==============================] - 0s 7ms/step - loss: 12.9949 - mae: 12.9949\n",
            "Epoch 72/100\n",
            "2/2 [==============================] - 0s 6ms/step - loss: 19.3193 - mae: 19.3193\n",
            "Epoch 73/100\n",
            "2/2 [==============================] - 0s 7ms/step - loss: 11.1163 - mae: 11.1163\n",
            "Epoch 74/100\n",
            "2/2 [==============================] - 0s 7ms/step - loss: 21.4022 - mae: 21.4022\n",
            "Epoch 75/100\n",
            "2/2 [==============================] - 0s 8ms/step - loss: 9.4447 - mae: 9.4447\n",
            "Epoch 76/100\n",
            "2/2 [==============================] - 0s 7ms/step - loss: 12.2655 - mae: 12.2655\n",
            "Epoch 77/100\n",
            "2/2 [==============================] - 0s 7ms/step - loss: 16.2885 - mae: 16.2885\n",
            "Epoch 78/100\n",
            "2/2 [==============================] - 0s 9ms/step - loss: 9.0015 - mae: 9.0015\n",
            "Epoch 79/100\n",
            "2/2 [==============================] - 0s 7ms/step - loss: 23.5304 - mae: 23.5304\n",
            "Epoch 80/100\n",
            "2/2 [==============================] - 0s 13ms/step - loss: 26.2185 - mae: 26.2185\n",
            "Epoch 81/100\n",
            "2/2 [==============================] - 0s 7ms/step - loss: 11.4174 - mae: 11.4174\n",
            "Epoch 82/100\n",
            "2/2 [==============================] - 0s 8ms/step - loss: 12.4539 - mae: 12.4539\n",
            "Epoch 83/100\n",
            "2/2 [==============================] - 0s 7ms/step - loss: 17.1236 - mae: 17.1236\n",
            "Epoch 84/100\n",
            "2/2 [==============================] - 0s 9ms/step - loss: 6.5543 - mae: 6.5543\n",
            "Epoch 85/100\n",
            "2/2 [==============================] - 0s 8ms/step - loss: 20.4074 - mae: 20.4074\n",
            "Epoch 86/100\n",
            "2/2 [==============================] - 0s 9ms/step - loss: 10.1665 - mae: 10.1665\n",
            "Epoch 87/100\n",
            "2/2 [==============================] - 0s 11ms/step - loss: 24.4725 - mae: 24.4725\n",
            "Epoch 88/100\n",
            "2/2 [==============================] - 0s 8ms/step - loss: 19.1330 - mae: 19.1330\n",
            "Epoch 89/100\n",
            "2/2 [==============================] - 0s 9ms/step - loss: 7.1431 - mae: 7.1431\n",
            "Epoch 90/100\n",
            "2/2 [==============================] - 0s 10ms/step - loss: 18.2027 - mae: 18.2027\n",
            "Epoch 91/100\n",
            "2/2 [==============================] - 0s 8ms/step - loss: 13.2505 - mae: 13.2505\n",
            "Epoch 92/100\n",
            "2/2 [==============================] - 0s 11ms/step - loss: 14.7819 - mae: 14.7819\n",
            "Epoch 93/100\n",
            "2/2 [==============================] - 0s 13ms/step - loss: 11.0793 - mae: 11.0793\n",
            "Epoch 94/100\n",
            "2/2 [==============================] - 0s 8ms/step - loss: 16.6688 - mae: 16.6688\n",
            "Epoch 95/100\n",
            "2/2 [==============================] - 0s 10ms/step - loss: 16.0352 - mae: 16.0352\n",
            "Epoch 96/100\n",
            "2/2 [==============================] - 0s 8ms/step - loss: 10.5589 - mae: 10.5589\n",
            "Epoch 97/100\n",
            "2/2 [==============================] - 0s 8ms/step - loss: 21.2033 - mae: 21.2033\n",
            "Epoch 98/100\n",
            "2/2 [==============================] - 0s 9ms/step - loss: 10.4386 - mae: 10.4386\n",
            "Epoch 99/100\n",
            "2/2 [==============================] - 0s 12ms/step - loss: 14.5303 - mae: 14.5303\n",
            "Epoch 100/100\n",
            "2/2 [==============================] - 0s 13ms/step - loss: 17.6956 - mae: 17.6956\n"
          ]
        },
        {
          "output_type": "execute_result",
          "data": {
            "text/plain": [
              "<keras.src.callbacks.History at 0x7d12716ca410>"
            ]
          },
          "metadata": {},
          "execution_count": 71
        }
      ]
    },
    {
      "cell_type": "code",
      "source": [
        "y_preds_2 = model_2.predict(x_test)\n",
        "plot_prediction(predictions=y_preds_2)"
      ],
      "metadata": {
        "colab": {
          "base_uri": "https://localhost:8080/",
          "height": 616
        },
        "id": "AAN028WKVOM0",
        "outputId": "5c88453c-8d6d-45bf-aef4-94b145fe765d"
      },
      "execution_count": 72,
      "outputs": [
        {
          "output_type": "stream",
          "name": "stdout",
          "text": [
            "1/1 [==============================] - 0s 51ms/step\n"
          ]
        },
        {
          "output_type": "display_data",
          "data": {
            "text/plain": [
              "<Figure size 1000x700 with 1 Axes>"
            ],
            "image/png": "[encoded data removed]"
          },
          "metadata": {}
        }
      ]
    },
    {
      "cell_type": "code",
      "source": [
        "mae_2 = mae(y_test,y_preds_2)\n",
        "mse_2 = mse(y_test,y_preds_2)\n",
        "mae_2,mse_2"
      ],
      "metadata": {
        "colab": {
          "base_uri": "https://localhost:8080/"
        },
        "id": "VKHOAwsKVoNK",
        "outputId": "aab350e4-b195-4b50-d401-20c5a35e4cad"
      },
      "execution_count": 79,
      "outputs": [
        {
          "output_type": "execute_result",
          "data": {
            "text/plain": [
              "(<tf.Tensor: shape=(), dtype=float32, numpy=1.978482>,\n",
              " <tf.Tensor: shape=(), dtype=float32, numpy=5.796738>)"
            ]
          },
          "metadata": {},
          "execution_count": 79
        }
      ]
    },
    {
      "cell_type": "markdown",
      "source": [
        "#### Build model_3"
      ],
      "metadata": {
        "id": "keZ7rMrNVyEK"
      }
    },
    {
      "cell_type": "code",
      "source": [
        "tf.random.set_seed(42)\n",
        "\n",
        "model_2 = tf.keras.Sequential([\n",
        "    tf.keras.layers.Dense(10,input_dim=1),\n",
        "    tf.keras.layers.Dense(1)\n",
        "])\n",
        "\n",
        "model_2.compile(loss=tf.keras.losses.mae,\n",
        "                optimizer=tf.keras.optimizers.SGD(),\n",
        "                metrics=['mae'])\n",
        "\n",
        "model_2.fit(x_train,y_train,epochs=500)"
      ],
      "metadata": {
        "colab": {
          "base_uri": "https://localhost:8080/"
        },
        "id": "F6jA9G6DXQPK",
        "outputId": "1a93ad07-1ea7-4022-ee56-688139a158df"
      },
      "execution_count": 75,
      "outputs": [
        {
          "output_type": "stream",
          "name": "stdout",
          "text": [
            "Epoch 1/500\n",
            "2/2 [==============================] - 1s 21ms/step - loss: 23.1703 - mae: 23.1703\n",
            "Epoch 2/500\n",
            "2/2 [==============================] - 0s 11ms/step - loss: 22.5151 - mae: 22.5151\n",
            "Epoch 3/500\n",
            "2/2 [==============================] - 0s 22ms/step - loss: 28.2211 - mae: 28.2211\n",
            "Epoch 4/500\n",
            "2/2 [==============================] - 0s 20ms/step - loss: 12.6006 - mae: 12.6006\n",
            "Epoch 5/500\n",
            "2/2 [==============================] - 0s 10ms/step - loss: 15.5444 - mae: 15.5444\n",
            "Epoch 6/500\n",
            "2/2 [==============================] - 0s 22ms/step - loss: 12.3311 - mae: 12.3311\n",
            "Epoch 7/500\n",
            "2/2 [==============================] - 0s 11ms/step - loss: 11.6157 - mae: 11.6157\n",
            "Epoch 8/500\n",
            "2/2 [==============================] - 0s 12ms/step - loss: 12.0295 - mae: 12.0295\n",
            "Epoch 9/500\n",
            "2/2 [==============================] - 0s 17ms/step - loss: 37.6022 - mae: 37.6022\n",
            "Epoch 10/500\n",
            "2/2 [==============================] - 0s 12ms/step - loss: 25.2541 - mae: 25.2541\n",
            "Epoch 11/500\n",
            "2/2 [==============================] - 0s 12ms/step - loss: 10.2384 - mae: 10.2384\n",
            "Epoch 12/500\n",
            "2/2 [==============================] - 0s 11ms/step - loss: 25.4032 - mae: 25.4032\n",
            "Epoch 13/500\n",
            "2/2 [==============================] - 0s 33ms/step - loss: 16.8553 - mae: 16.8553\n",
            "Epoch 14/500\n",
            "2/2 [==============================] - 0s 25ms/step - loss: 25.6927 - mae: 25.6927\n",
            "Epoch 15/500\n",
            "2/2 [==============================] - 0s 24ms/step - loss: 17.5544 - mae: 17.5544\n",
            "Epoch 16/500\n",
            "2/2 [==============================] - 0s 17ms/step - loss: 10.0314 - mae: 10.0314\n",
            "Epoch 17/500\n",
            "2/2 [==============================] - 0s 19ms/step - loss: 18.5736 - mae: 18.5736\n",
            "Epoch 18/500\n",
            "2/2 [==============================] - 0s 10ms/step - loss: 11.7353 - mae: 11.7353\n",
            "Epoch 19/500\n",
            "2/2 [==============================] - 0s 26ms/step - loss: 16.4063 - mae: 16.4063\n",
            "Epoch 20/500\n",
            "2/2 [==============================] - 0s 18ms/step - loss: 8.2318 - mae: 8.2318\n",
            "Epoch 21/500\n",
            "2/2 [==============================] - 0s 27ms/step - loss: 14.4364 - mae: 14.4364\n",
            "Epoch 22/500\n",
            "2/2 [==============================] - 0s 19ms/step - loss: 12.8564 - mae: 12.8564\n",
            "Epoch 23/500\n",
            "2/2 [==============================] - 0s 11ms/step - loss: 15.4844 - mae: 15.4844\n",
            "Epoch 24/500\n",
            "2/2 [==============================] - 0s 19ms/step - loss: 15.2757 - mae: 15.2757\n",
            "Epoch 25/500\n",
            "2/2 [==============================] - 0s 10ms/step - loss: 14.3389 - mae: 14.3389\n",
            "Epoch 26/500\n",
            "2/2 [==============================] - 0s 14ms/step - loss: 19.3545 - mae: 19.3545\n",
            "Epoch 27/500\n",
            "2/2 [==============================] - 0s 9ms/step - loss: 11.4302 - mae: 11.4302\n",
            "Epoch 28/500\n",
            "2/2 [==============================] - 0s 8ms/step - loss: 29.0629 - mae: 29.0629\n",
            "Epoch 29/500\n",
            "2/2 [==============================] - 0s 12ms/step - loss: 9.2363 - mae: 9.2363\n",
            "Epoch 30/500\n",
            "2/2 [==============================] - 0s 9ms/step - loss: 29.8122 - mae: 29.8122\n",
            "Epoch 31/500\n",
            "2/2 [==============================] - 0s 10ms/step - loss: 54.0897 - mae: 54.0897\n",
            "Epoch 32/500\n",
            "2/2 [==============================] - 0s 9ms/step - loss: 9.5490 - mae: 9.5490\n",
            "Epoch 33/500\n",
            "2/2 [==============================] - 0s 13ms/step - loss: 12.1407 - mae: 12.1407\n",
            "Epoch 34/500\n",
            "2/2 [==============================] - 0s 10ms/step - loss: 23.8786 - mae: 23.8786\n",
            "Epoch 35/500\n",
            "2/2 [==============================] - 0s 9ms/step - loss: 12.6136 - mae: 12.6136\n",
            "Epoch 36/500\n",
            "2/2 [==============================] - 0s 10ms/step - loss: 21.5347 - mae: 21.5347\n",
            "Epoch 37/500\n",
            "2/2 [==============================] - 0s 10ms/step - loss: 11.3579 - mae: 11.3579\n",
            "Epoch 38/500\n",
            "2/2 [==============================] - 0s 10ms/step - loss: 13.4449 - mae: 13.4449\n",
            "Epoch 39/500\n",
            "2/2 [==============================] - 0s 9ms/step - loss: 10.7718 - mae: 10.7718\n",
            "Epoch 40/500\n",
            "2/2 [==============================] - 0s 10ms/step - loss: 16.5877 - mae: 16.5877\n",
            "Epoch 41/500\n",
            "2/2 [==============================] - 0s 10ms/step - loss: 10.9564 - mae: 10.9564\n",
            "Epoch 42/500\n",
            "2/2 [==============================] - 0s 13ms/step - loss: 9.2868 - mae: 9.2868\n",
            "Epoch 43/500\n",
            "2/2 [==============================] - 0s 10ms/step - loss: 9.5797 - mae: 9.5797\n",
            "Epoch 44/500\n",
            "2/2 [==============================] - 0s 10ms/step - loss: 28.0164 - mae: 28.0164\n",
            "Epoch 45/500\n",
            "2/2 [==============================] - 0s 8ms/step - loss: 11.2759 - mae: 11.2759\n",
            "Epoch 46/500\n",
            "2/2 [==============================] - 0s 10ms/step - loss: 14.0789 - mae: 14.0789\n",
            "Epoch 47/500\n",
            "2/2 [==============================] - 0s 8ms/step - loss: 13.4894 - mae: 13.4894\n",
            "Epoch 48/500\n",
            "2/2 [==============================] - 0s 8ms/step - loss: 17.3199 - mae: 17.3199\n",
            "Epoch 49/500\n",
            "2/2 [==============================] - 0s 8ms/step - loss: 9.5117 - mae: 9.5117\n",
            "Epoch 50/500\n",
            "2/2 [==============================] - 0s 8ms/step - loss: 13.7107 - mae: 13.7107\n",
            "Epoch 51/500\n",
            "2/2 [==============================] - 0s 13ms/step - loss: 11.5535 - mae: 11.5535\n",
            "Epoch 52/500\n",
            "2/2 [==============================] - 0s 14ms/step - loss: 30.2902 - mae: 30.2902\n",
            "Epoch 53/500\n",
            "2/2 [==============================] - 0s 11ms/step - loss: 14.2375 - mae: 14.2375\n",
            "Epoch 54/500\n",
            "2/2 [==============================] - 0s 11ms/step - loss: 23.5447 - mae: 23.5447\n",
            "Epoch 55/500\n",
            "2/2 [==============================] - 0s 15ms/step - loss: 24.4578 - mae: 24.4578\n",
            "Epoch 56/500\n",
            "2/2 [==============================] - 0s 15ms/step - loss: 11.2884 - mae: 11.2884\n",
            "Epoch 57/500\n",
            "2/2 [==============================] - 0s 9ms/step - loss: 13.2941 - mae: 13.2941\n",
            "Epoch 58/500\n",
            "2/2 [==============================] - 0s 9ms/step - loss: 9.9080 - mae: 9.9080\n",
            "Epoch 59/500\n",
            "2/2 [==============================] - 0s 12ms/step - loss: 13.8424 - mae: 13.8424\n",
            "Epoch 60/500\n",
            "2/2 [==============================] - 0s 9ms/step - loss: 9.9530 - mae: 9.9530\n",
            "Epoch 61/500\n",
            "2/2 [==============================] - 0s 11ms/step - loss: 14.9038 - mae: 14.9038\n",
            "Epoch 62/500\n",
            "2/2 [==============================] - 0s 15ms/step - loss: 11.8773 - mae: 11.8773\n",
            "Epoch 63/500\n",
            "2/2 [==============================] - 0s 8ms/step - loss: 10.2566 - mae: 10.2566\n",
            "Epoch 64/500\n",
            "2/2 [==============================] - 0s 10ms/step - loss: 23.7944 - mae: 23.7944\n",
            "Epoch 65/500\n",
            "2/2 [==============================] - 0s 12ms/step - loss: 10.4328 - mae: 10.4328\n",
            "Epoch 66/500\n",
            "2/2 [==============================] - 0s 10ms/step - loss: 20.8540 - mae: 20.8540\n",
            "Epoch 67/500\n",
            "2/2 [==============================] - 0s 11ms/step - loss: 10.4081 - mae: 10.4081\n",
            "Epoch 68/500\n",
            "2/2 [==============================] - 0s 9ms/step - loss: 14.1219 - mae: 14.1219\n",
            "Epoch 69/500\n",
            "2/2 [==============================] - 0s 10ms/step - loss: 10.4771 - mae: 10.4771\n",
            "Epoch 70/500\n",
            "2/2 [==============================] - 0s 10ms/step - loss: 12.5454 - mae: 12.5454\n",
            "Epoch 71/500\n",
            "2/2 [==============================] - 0s 9ms/step - loss: 12.9788 - mae: 12.9788\n",
            "Epoch 72/500\n",
            "2/2 [==============================] - 0s 11ms/step - loss: 19.3034 - mae: 19.3034\n",
            "Epoch 73/500\n",
            "2/2 [==============================] - 0s 12ms/step - loss: 11.1047 - mae: 11.1047\n",
            "Epoch 74/500\n",
            "2/2 [==============================] - 0s 9ms/step - loss: 21.3948 - mae: 21.3948\n",
            "Epoch 75/500\n",
            "2/2 [==============================] - 0s 11ms/step - loss: 9.4352 - mae: 9.4352\n",
            "Epoch 76/500\n",
            "2/2 [==============================] - 0s 10ms/step - loss: 12.2566 - mae: 12.2566\n",
            "Epoch 77/500\n",
            "2/2 [==============================] - 0s 12ms/step - loss: 16.2897 - mae: 16.2897\n",
            "Epoch 78/500\n",
            "2/2 [==============================] - 0s 11ms/step - loss: 8.9932 - mae: 8.9932\n",
            "Epoch 79/500\n",
            "2/2 [==============================] - 0s 10ms/step - loss: 23.5412 - mae: 23.5412\n",
            "Epoch 80/500\n",
            "2/2 [==============================] - 0s 10ms/step - loss: 26.2313 - mae: 26.2313\n",
            "Epoch 81/500\n",
            "2/2 [==============================] - 0s 10ms/step - loss: 11.4158 - mae: 11.4158\n",
            "Epoch 82/500\n",
            "2/2 [==============================] - 0s 10ms/step - loss: 12.4453 - mae: 12.4453\n",
            "Epoch 83/500\n",
            "2/2 [==============================] - 0s 12ms/step - loss: 17.1104 - mae: 17.1104\n",
            "Epoch 84/500\n",
            "2/2 [==============================] - 0s 11ms/step - loss: 7.2480 - mae: 7.2480\n",
            "Epoch 85/500\n",
            "2/2 [==============================] - 0s 9ms/step - loss: 37.1577 - mae: 37.1577\n",
            "Epoch 86/500\n",
            "2/2 [==============================] - 0s 11ms/step - loss: 21.1833 - mae: 21.1833\n",
            "Epoch 87/500\n",
            "2/2 [==============================] - 0s 10ms/step - loss: 11.0064 - mae: 11.0064\n",
            "Epoch 88/500\n",
            "2/2 [==============================] - 0s 12ms/step - loss: 25.0479 - mae: 25.0479\n",
            "Epoch 89/500\n",
            "2/2 [==============================] - 0s 12ms/step - loss: 9.3413 - mae: 9.3413\n",
            "Epoch 90/500\n",
            "2/2 [==============================] - 0s 10ms/step - loss: 17.3577 - mae: 17.3577\n",
            "Epoch 91/500\n",
            "2/2 [==============================] - 0s 9ms/step - loss: 10.7834 - mae: 10.7834\n",
            "Epoch 92/500\n",
            "2/2 [==============================] - 0s 9ms/step - loss: 19.0513 - mae: 19.0513\n",
            "Epoch 93/500\n",
            "2/2 [==============================] - 0s 9ms/step - loss: 8.3038 - mae: 8.3038\n",
            "Epoch 94/500\n",
            "2/2 [==============================] - 0s 14ms/step - loss: 11.5441 - mae: 11.5441\n",
            "Epoch 95/500\n",
            "2/2 [==============================] - 0s 10ms/step - loss: 26.1008 - mae: 26.1008\n",
            "Epoch 96/500\n",
            "2/2 [==============================] - 0s 10ms/step - loss: 11.1724 - mae: 11.1724\n",
            "Epoch 97/500\n",
            "2/2 [==============================] - 0s 17ms/step - loss: 16.7746 - mae: 16.7746\n",
            "Epoch 98/500\n",
            "2/2 [==============================] - 0s 8ms/step - loss: 6.5777 - mae: 6.5777\n",
            "Epoch 99/500\n",
            "2/2 [==============================] - 0s 8ms/step - loss: 12.5973 - mae: 12.5973\n",
            "Epoch 100/500\n",
            "2/2 [==============================] - 0s 9ms/step - loss: 19.4125 - mae: 19.4125\n",
            "Epoch 101/500\n",
            "2/2 [==============================] - 0s 10ms/step - loss: 16.0561 - mae: 16.0561\n",
            "Epoch 102/500\n",
            "2/2 [==============================] - 0s 10ms/step - loss: 11.1762 - mae: 11.1762\n",
            "Epoch 103/500\n",
            "2/2 [==============================] - 0s 10ms/step - loss: 9.3153 - mae: 9.3153\n",
            "Epoch 104/500\n",
            "2/2 [==============================] - 0s 9ms/step - loss: 24.9414 - mae: 24.9414\n",
            "Epoch 105/500\n",
            "2/2 [==============================] - 0s 9ms/step - loss: 11.9706 - mae: 11.9706\n",
            "Epoch 106/500\n",
            "2/2 [==============================] - 0s 9ms/step - loss: 10.0756 - mae: 10.0756\n",
            "Epoch 107/500\n",
            "2/2 [==============================] - 0s 8ms/step - loss: 22.5053 - mae: 22.5053\n",
            "Epoch 108/500\n",
            "2/2 [==============================] - 0s 8ms/step - loss: 8.1204 - mae: 8.1204\n",
            "Epoch 109/500\n",
            "2/2 [==============================] - 0s 8ms/step - loss: 13.3247 - mae: 13.3247\n",
            "Epoch 110/500\n",
            "2/2 [==============================] - 0s 9ms/step - loss: 7.9850 - mae: 7.9850\n",
            "Epoch 111/500\n",
            "2/2 [==============================] - 0s 9ms/step - loss: 15.7584 - mae: 15.7584\n",
            "Epoch 112/500\n",
            "2/2 [==============================] - 0s 9ms/step - loss: 8.7448 - mae: 8.7448\n",
            "Epoch 113/500\n",
            "2/2 [==============================] - 0s 8ms/step - loss: 22.6663 - mae: 22.6663\n",
            "Epoch 114/500\n",
            "2/2 [==============================] - 0s 8ms/step - loss: 19.0165 - mae: 19.0165\n",
            "Epoch 115/500\n",
            "2/2 [==============================] - 0s 8ms/step - loss: 11.0846 - mae: 11.0846\n",
            "Epoch 116/500\n",
            "2/2 [==============================] - 0s 8ms/step - loss: 23.1134 - mae: 23.1134\n",
            "Epoch 117/500\n",
            "2/2 [==============================] - 0s 9ms/step - loss: 9.5675 - mae: 9.5675\n",
            "Epoch 118/500\n",
            "2/2 [==============================] - 0s 8ms/step - loss: 10.6299 - mae: 10.6299\n",
            "Epoch 119/500\n",
            "2/2 [==============================] - 0s 7ms/step - loss: 8.0405 - mae: 8.0405\n",
            "Epoch 120/500\n",
            "2/2 [==============================] - 0s 12ms/step - loss: 29.4188 - mae: 29.4188\n",
            "Epoch 121/500\n",
            "2/2 [==============================] - 0s 9ms/step - loss: 8.0773 - mae: 8.0773\n",
            "Epoch 122/500\n",
            "2/2 [==============================] - 0s 12ms/step - loss: 28.0831 - mae: 28.0831\n",
            "Epoch 123/500\n",
            "2/2 [==============================] - 0s 11ms/step - loss: 32.6215 - mae: 32.6215\n",
            "Epoch 124/500\n",
            "2/2 [==============================] - 0s 9ms/step - loss: 19.4231 - mae: 19.4231\n",
            "Epoch 125/500\n",
            "2/2 [==============================] - 0s 7ms/step - loss: 9.5444 - mae: 9.5444\n",
            "Epoch 126/500\n",
            "2/2 [==============================] - 0s 8ms/step - loss: 9.6141 - mae: 9.6141\n",
            "Epoch 127/500\n",
            "2/2 [==============================] - 0s 8ms/step - loss: 12.7603 - mae: 12.7603\n",
            "Epoch 128/500\n",
            "2/2 [==============================] - 0s 8ms/step - loss: 12.8487 - mae: 12.8487\n",
            "Epoch 129/500\n",
            "2/2 [==============================] - 0s 7ms/step - loss: 13.9959 - mae: 13.9959\n",
            "Epoch 130/500\n",
            "2/2 [==============================] - 0s 8ms/step - loss: 10.2515 - mae: 10.2515\n",
            "Epoch 131/500\n",
            "2/2 [==============================] - 0s 8ms/step - loss: 21.7846 - mae: 21.7846\n",
            "Epoch 132/500\n",
            "2/2 [==============================] - 0s 9ms/step - loss: 8.2956 - mae: 8.2956\n",
            "Epoch 133/500\n",
            "2/2 [==============================] - 0s 7ms/step - loss: 9.0753 - mae: 9.0753\n",
            "Epoch 134/500\n",
            "2/2 [==============================] - 0s 8ms/step - loss: 16.9614 - mae: 16.9614\n",
            "Epoch 135/500\n",
            "2/2 [==============================] - 0s 8ms/step - loss: 10.6750 - mae: 10.6750\n",
            "Epoch 136/500\n",
            "2/2 [==============================] - 0s 8ms/step - loss: 18.5670 - mae: 18.5670\n",
            "Epoch 137/500\n",
            "2/2 [==============================] - 0s 8ms/step - loss: 23.5794 - mae: 23.5794\n",
            "Epoch 138/500\n",
            "2/2 [==============================] - 0s 8ms/step - loss: 9.3083 - mae: 9.3083\n",
            "Epoch 139/500\n",
            "2/2 [==============================] - 0s 9ms/step - loss: 9.0296 - mae: 9.0296\n",
            "Epoch 140/500\n",
            "2/2 [==============================] - 0s 8ms/step - loss: 17.0279 - mae: 17.0279\n",
            "Epoch 141/500\n",
            "2/2 [==============================] - 0s 9ms/step - loss: 8.3218 - mae: 8.3218\n",
            "Epoch 142/500\n",
            "2/2 [==============================] - 0s 8ms/step - loss: 34.1413 - mae: 34.1413\n",
            "Epoch 143/500\n",
            "2/2 [==============================] - 0s 8ms/step - loss: 23.1770 - mae: 23.1770\n",
            "Epoch 144/500\n",
            "2/2 [==============================] - 0s 9ms/step - loss: 10.4736 - mae: 10.4736\n",
            "Epoch 145/500\n",
            "2/2 [==============================] - 0s 8ms/step - loss: 25.8756 - mae: 25.8756\n",
            "Epoch 146/500\n",
            "2/2 [==============================] - 0s 8ms/step - loss: 9.8625 - mae: 9.8625\n",
            "Epoch 147/500\n",
            "2/2 [==============================] - 0s 8ms/step - loss: 15.0205 - mae: 15.0205\n",
            "Epoch 148/500\n",
            "2/2 [==============================] - 0s 8ms/step - loss: 17.4632 - mae: 17.4632\n",
            "Epoch 149/500\n",
            "2/2 [==============================] - 0s 7ms/step - loss: 8.7693 - mae: 8.7693\n",
            "Epoch 150/500\n",
            "2/2 [==============================] - 0s 10ms/step - loss: 7.7340 - mae: 7.7340\n",
            "Epoch 151/500\n",
            "2/2 [==============================] - 0s 11ms/step - loss: 19.8991 - mae: 19.8991\n",
            "Epoch 152/500\n",
            "2/2 [==============================] - 0s 10ms/step - loss: 10.2422 - mae: 10.2422\n",
            "Epoch 153/500\n",
            "2/2 [==============================] - 0s 8ms/step - loss: 29.2794 - mae: 29.2794\n",
            "Epoch 154/500\n",
            "2/2 [==============================] - 0s 9ms/step - loss: 10.6322 - mae: 10.6322\n",
            "Epoch 155/500\n",
            "2/2 [==============================] - 0s 7ms/step - loss: 15.5238 - mae: 15.5238\n",
            "Epoch 156/500\n",
            "2/2 [==============================] - 0s 11ms/step - loss: 17.1692 - mae: 17.1692\n",
            "Epoch 157/500\n",
            "2/2 [==============================] - 0s 13ms/step - loss: 32.4263 - mae: 32.4263\n",
            "Epoch 158/500\n",
            "2/2 [==============================] - 0s 9ms/step - loss: 10.5996 - mae: 10.5996\n",
            "Epoch 159/500\n",
            "2/2 [==============================] - 0s 9ms/step - loss: 8.8633 - mae: 8.8633\n",
            "Epoch 160/500\n",
            "2/2 [==============================] - 0s 9ms/step - loss: 21.8436 - mae: 21.8436\n",
            "Epoch 161/500\n",
            "2/2 [==============================] - 0s 9ms/step - loss: 11.0774 - mae: 11.0774\n",
            "Epoch 162/500\n",
            "2/2 [==============================] - 0s 10ms/step - loss: 21.3818 - mae: 21.3818\n",
            "Epoch 163/500\n",
            "2/2 [==============================] - 0s 12ms/step - loss: 18.8598 - mae: 18.8598\n",
            "Epoch 164/500\n",
            "2/2 [==============================] - 0s 12ms/step - loss: 12.7014 - mae: 12.7014\n",
            "Epoch 165/500\n",
            "2/2 [==============================] - 0s 9ms/step - loss: 12.7252 - mae: 12.7252\n",
            "Epoch 166/500\n",
            "2/2 [==============================] - 0s 9ms/step - loss: 18.8989 - mae: 18.8989\n",
            "Epoch 167/500\n",
            "2/2 [==============================] - 0s 9ms/step - loss: 26.8272 - mae: 26.8272\n",
            "Epoch 168/500\n",
            "2/2 [==============================] - 0s 9ms/step - loss: 9.9765 - mae: 9.9765\n",
            "Epoch 169/500\n",
            "2/2 [==============================] - 0s 9ms/step - loss: 23.0873 - mae: 23.0873\n",
            "Epoch 170/500\n",
            "2/2 [==============================] - 0s 9ms/step - loss: 10.0762 - mae: 10.0762\n",
            "Epoch 171/500\n",
            "2/2 [==============================] - 0s 12ms/step - loss: 17.8285 - mae: 17.8285\n",
            "Epoch 172/500\n",
            "2/2 [==============================] - 0s 11ms/step - loss: 29.3672 - mae: 29.3672\n",
            "Epoch 173/500\n",
            "2/2 [==============================] - 0s 14ms/step - loss: 16.9532 - mae: 16.9532\n",
            "Epoch 174/500\n",
            "2/2 [==============================] - 0s 11ms/step - loss: 11.1749 - mae: 11.1749\n",
            "Epoch 175/500\n",
            "2/2 [==============================] - 0s 8ms/step - loss: 27.4500 - mae: 27.4500\n",
            "Epoch 176/500\n",
            "2/2 [==============================] - 0s 10ms/step - loss: 8.4340 - mae: 8.4340\n",
            "Epoch 177/500\n",
            "2/2 [==============================] - 0s 9ms/step - loss: 9.3891 - mae: 9.3891\n",
            "Epoch 178/500\n",
            "2/2 [==============================] - 0s 10ms/step - loss: 18.5721 - mae: 18.5721\n",
            "Epoch 179/500\n",
            "2/2 [==============================] - 0s 12ms/step - loss: 10.4121 - mae: 10.4121\n",
            "Epoch 180/500\n",
            "2/2 [==============================] - 0s 11ms/step - loss: 7.9910 - mae: 7.9910\n",
            "Epoch 181/500\n",
            "2/2 [==============================] - 0s 9ms/step - loss: 17.7533 - mae: 17.7533\n",
            "Epoch 182/500\n",
            "2/2 [==============================] - 0s 12ms/step - loss: 11.1865 - mae: 11.1865\n",
            "Epoch 183/500\n",
            "2/2 [==============================] - 0s 12ms/step - loss: 12.3894 - mae: 12.3894\n",
            "Epoch 184/500\n",
            "2/2 [==============================] - 0s 11ms/step - loss: 27.3509 - mae: 27.3509\n",
            "Epoch 185/500\n",
            "2/2 [==============================] - 0s 9ms/step - loss: 7.5644 - mae: 7.5644\n",
            "Epoch 186/500\n",
            "2/2 [==============================] - 0s 10ms/step - loss: 15.9537 - mae: 15.9537\n",
            "Epoch 187/500\n",
            "2/2 [==============================] - 0s 9ms/step - loss: 8.5916 - mae: 8.5916\n",
            "Epoch 188/500\n",
            "2/2 [==============================] - 0s 9ms/step - loss: 28.8522 - mae: 28.8522\n",
            "Epoch 189/500\n",
            "2/2 [==============================] - 0s 10ms/step - loss: 13.1518 - mae: 13.1518\n",
            "Epoch 190/500\n",
            "2/2 [==============================] - 0s 9ms/step - loss: 18.2920 - mae: 18.2920\n",
            "Epoch 191/500\n",
            "2/2 [==============================] - 0s 10ms/step - loss: 13.7168 - mae: 13.7168\n",
            "Epoch 192/500\n",
            "2/2 [==============================] - 0s 8ms/step - loss: 13.7098 - mae: 13.7098\n",
            "Epoch 193/500\n",
            "2/2 [==============================] - 0s 10ms/step - loss: 28.5651 - mae: 28.5651\n",
            "Epoch 194/500\n",
            "2/2 [==============================] - 0s 9ms/step - loss: 7.1092 - mae: 7.1092\n",
            "Epoch 195/500\n",
            "2/2 [==============================] - 0s 11ms/step - loss: 7.0707 - mae: 7.0707\n",
            "Epoch 196/500\n",
            "2/2 [==============================] - 0s 10ms/step - loss: 21.9882 - mae: 21.9882\n",
            "Epoch 197/500\n",
            "2/2 [==============================] - 0s 15ms/step - loss: 20.8860 - mae: 20.8860\n",
            "Epoch 198/500\n",
            "2/2 [==============================] - 0s 18ms/step - loss: 12.5014 - mae: 12.5014\n",
            "Epoch 199/500\n",
            "2/2 [==============================] - 0s 13ms/step - loss: 17.9448 - mae: 17.9448\n",
            "Epoch 200/500\n",
            "2/2 [==============================] - 0s 14ms/step - loss: 13.7830 - mae: 13.7830\n",
            "Epoch 201/500\n",
            "2/2 [==============================] - 0s 9ms/step - loss: 5.4870 - mae: 5.4870\n",
            "Epoch 202/500\n",
            "2/2 [==============================] - 0s 9ms/step - loss: 13.7288 - mae: 13.7288\n",
            "Epoch 203/500\n",
            "2/2 [==============================] - 0s 11ms/step - loss: 9.4381 - mae: 9.4381\n",
            "Epoch 204/500\n",
            "2/2 [==============================] - 0s 11ms/step - loss: 20.9950 - mae: 20.9950\n",
            "Epoch 205/500\n",
            "2/2 [==============================] - 0s 16ms/step - loss: 9.5701 - mae: 9.5701\n",
            "Epoch 206/500\n",
            "2/2 [==============================] - 0s 15ms/step - loss: 11.7425 - mae: 11.7425\n",
            "Epoch 207/500\n",
            "2/2 [==============================] - 0s 13ms/step - loss: 14.3806 - mae: 14.3806\n",
            "Epoch 208/500\n",
            "2/2 [==============================] - 0s 9ms/step - loss: 14.8673 - mae: 14.8673\n",
            "Epoch 209/500\n",
            "2/2 [==============================] - 0s 9ms/step - loss: 14.9657 - mae: 14.9657\n",
            "Epoch 210/500\n",
            "2/2 [==============================] - 0s 10ms/step - loss: 17.8955 - mae: 17.8955\n",
            "Epoch 211/500\n",
            "2/2 [==============================] - 0s 9ms/step - loss: 9.8498 - mae: 9.8498\n",
            "Epoch 212/500\n",
            "2/2 [==============================] - 0s 8ms/step - loss: 18.3191 - mae: 18.3191\n",
            "Epoch 213/500\n",
            "2/2 [==============================] - 0s 10ms/step - loss: 15.0524 - mae: 15.0524\n",
            "Epoch 214/500\n",
            "2/2 [==============================] - 0s 10ms/step - loss: 14.5981 - mae: 14.5981\n",
            "Epoch 215/500\n",
            "2/2 [==============================] - 0s 11ms/step - loss: 23.3154 - mae: 23.3154\n",
            "Epoch 216/500\n",
            "2/2 [==============================] - 0s 7ms/step - loss: 13.3453 - mae: 13.3453\n",
            "Epoch 217/500\n",
            "2/2 [==============================] - 0s 9ms/step - loss: 9.8530 - mae: 9.8530\n",
            "Epoch 218/500\n",
            "2/2 [==============================] - 0s 9ms/step - loss: 12.5695 - mae: 12.5695\n",
            "Epoch 219/500\n",
            "2/2 [==============================] - 0s 11ms/step - loss: 4.9646 - mae: 4.9646\n",
            "Epoch 220/500\n",
            "2/2 [==============================] - 0s 9ms/step - loss: 7.1334 - mae: 7.1334\n",
            "Epoch 221/500\n",
            "2/2 [==============================] - 0s 9ms/step - loss: 35.3873 - mae: 35.3873\n",
            "Epoch 222/500\n",
            "2/2 [==============================] - 0s 9ms/step - loss: 34.7753 - mae: 34.7753\n",
            "Epoch 223/500\n",
            "2/2 [==============================] - 0s 18ms/step - loss: 8.0012 - mae: 8.0012\n",
            "Epoch 224/500\n",
            "2/2 [==============================] - 0s 18ms/step - loss: 14.7211 - mae: 14.7211\n",
            "Epoch 225/500\n",
            "2/2 [==============================] - 0s 11ms/step - loss: 16.7451 - mae: 16.7451\n",
            "Epoch 226/500\n",
            "2/2 [==============================] - 0s 11ms/step - loss: 15.9569 - mae: 15.9569\n",
            "Epoch 227/500\n",
            "2/2 [==============================] - 0s 10ms/step - loss: 16.1950 - mae: 16.1950\n",
            "Epoch 228/500\n",
            "2/2 [==============================] - 0s 9ms/step - loss: 9.3434 - mae: 9.3434\n",
            "Epoch 229/500\n",
            "2/2 [==============================] - 0s 9ms/step - loss: 18.0134 - mae: 18.0134\n",
            "Epoch 230/500\n",
            "2/2 [==============================] - 0s 9ms/step - loss: 15.5880 - mae: 15.5880\n",
            "Epoch 231/500\n",
            "2/2 [==============================] - 0s 9ms/step - loss: 21.1444 - mae: 21.1444\n",
            "Epoch 232/500\n",
            "2/2 [==============================] - 0s 9ms/step - loss: 25.4233 - mae: 25.4233\n",
            "Epoch 233/500\n",
            "2/2 [==============================] - 0s 13ms/step - loss: 16.4368 - mae: 16.4368\n",
            "Epoch 234/500\n",
            "2/2 [==============================] - 0s 8ms/step - loss: 7.3156 - mae: 7.3156\n",
            "Epoch 235/500\n",
            "2/2 [==============================] - 0s 11ms/step - loss: 17.0848 - mae: 17.0848\n",
            "Epoch 236/500\n",
            "2/2 [==============================] - 0s 12ms/step - loss: 7.1749 - mae: 7.1749\n",
            "Epoch 237/500\n",
            "2/2 [==============================] - 0s 12ms/step - loss: 9.2712 - mae: 9.2712\n",
            "Epoch 238/500\n",
            "2/2 [==============================] - 0s 9ms/step - loss: 8.1381 - mae: 8.1381\n",
            "Epoch 239/500\n",
            "2/2 [==============================] - 0s 9ms/step - loss: 17.1499 - mae: 17.1499\n",
            "Epoch 240/500\n",
            "2/2 [==============================] - 0s 10ms/step - loss: 8.9142 - mae: 8.9142\n",
            "Epoch 241/500\n",
            "2/2 [==============================] - 0s 9ms/step - loss: 13.2441 - mae: 13.2441\n",
            "Epoch 242/500\n",
            "2/2 [==============================] - 0s 9ms/step - loss: 8.8292 - mae: 8.8292\n",
            "Epoch 243/500\n",
            "2/2 [==============================] - 0s 8ms/step - loss: 18.9140 - mae: 18.9140\n",
            "Epoch 244/500\n",
            "2/2 [==============================] - 0s 8ms/step - loss: 14.0318 - mae: 14.0318\n",
            "Epoch 245/500\n",
            "2/2 [==============================] - 0s 8ms/step - loss: 14.6637 - mae: 14.6637\n",
            "Epoch 246/500\n",
            "2/2 [==============================] - 0s 8ms/step - loss: 15.7905 - mae: 15.7905\n",
            "Epoch 247/500\n",
            "2/2 [==============================] - 0s 10ms/step - loss: 17.6620 - mae: 17.6620\n",
            "Epoch 248/500\n",
            "2/2 [==============================] - 0s 8ms/step - loss: 13.2192 - mae: 13.2192\n",
            "Epoch 249/500\n",
            "2/2 [==============================] - 0s 8ms/step - loss: 14.4996 - mae: 14.4996\n",
            "Epoch 250/500\n",
            "2/2 [==============================] - 0s 9ms/step - loss: 23.2124 - mae: 23.2124\n",
            "Epoch 251/500\n",
            "2/2 [==============================] - 0s 8ms/step - loss: 9.3246 - mae: 9.3246\n",
            "Epoch 252/500\n",
            "2/2 [==============================] - 0s 10ms/step - loss: 36.7289 - mae: 36.7289\n",
            "Epoch 253/500\n",
            "2/2 [==============================] - 0s 9ms/step - loss: 21.8791 - mae: 21.8791\n",
            "Epoch 254/500\n",
            "2/2 [==============================] - 0s 9ms/step - loss: 7.3000 - mae: 7.3000\n",
            "Epoch 255/500\n",
            "2/2 [==============================] - 0s 8ms/step - loss: 24.7640 - mae: 24.7640\n",
            "Epoch 256/500\n",
            "2/2 [==============================] - 0s 8ms/step - loss: 12.4587 - mae: 12.4587\n",
            "Epoch 257/500\n",
            "2/2 [==============================] - 0s 9ms/step - loss: 10.6120 - mae: 10.6120\n",
            "Epoch 258/500\n",
            "2/2 [==============================] - 0s 8ms/step - loss: 14.5166 - mae: 14.5166\n",
            "Epoch 259/500\n",
            "2/2 [==============================] - 0s 10ms/step - loss: 8.6313 - mae: 8.6313\n",
            "Epoch 260/500\n",
            "2/2 [==============================] - 0s 14ms/step - loss: 43.0944 - mae: 43.0944\n",
            "Epoch 261/500\n",
            "2/2 [==============================] - 0s 9ms/step - loss: 18.4927 - mae: 18.4927\n",
            "Epoch 262/500\n",
            "2/2 [==============================] - 0s 9ms/step - loss: 6.8844 - mae: 6.8844\n",
            "Epoch 263/500\n",
            "2/2 [==============================] - 0s 12ms/step - loss: 13.7191 - mae: 13.7191\n",
            "Epoch 264/500\n",
            "2/2 [==============================] - 0s 8ms/step - loss: 21.0097 - mae: 21.0097\n",
            "Epoch 265/500\n",
            "2/2 [==============================] - 0s 11ms/step - loss: 19.3932 - mae: 19.3932\n",
            "Epoch 266/500\n",
            "2/2 [==============================] - 0s 10ms/step - loss: 11.4722 - mae: 11.4722\n",
            "Epoch 267/500\n",
            "2/2 [==============================] - 0s 10ms/step - loss: 7.5397 - mae: 7.5397\n",
            "Epoch 268/500\n",
            "2/2 [==============================] - 0s 9ms/step - loss: 21.6424 - mae: 21.6424\n",
            "Epoch 269/500\n",
            "2/2 [==============================] - 0s 10ms/step - loss: 33.1850 - mae: 33.1850\n",
            "Epoch 270/500\n",
            "2/2 [==============================] - 0s 9ms/step - loss: 10.1022 - mae: 10.1022\n",
            "Epoch 271/500\n",
            "2/2 [==============================] - 0s 10ms/step - loss: 12.1084 - mae: 12.1084\n",
            "Epoch 272/500\n",
            "2/2 [==============================] - 0s 10ms/step - loss: 26.1397 - mae: 26.1397\n",
            "Epoch 273/500\n",
            "2/2 [==============================] - 0s 8ms/step - loss: 12.1783 - mae: 12.1783\n",
            "Epoch 274/500\n",
            "2/2 [==============================] - 0s 7ms/step - loss: 13.3373 - mae: 13.3373\n",
            "Epoch 275/500\n",
            "2/2 [==============================] - 0s 8ms/step - loss: 29.3815 - mae: 29.3815\n",
            "Epoch 276/500\n",
            "2/2 [==============================] - 0s 8ms/step - loss: 7.3415 - mae: 7.3415\n",
            "Epoch 277/500\n",
            "2/2 [==============================] - 0s 9ms/step - loss: 31.1405 - mae: 31.1405\n",
            "Epoch 278/500\n",
            "2/2 [==============================] - 0s 9ms/step - loss: 12.3134 - mae: 12.3134\n",
            "Epoch 279/500\n",
            "2/2 [==============================] - 0s 9ms/step - loss: 16.4200 - mae: 16.4200\n",
            "Epoch 280/500\n",
            "2/2 [==============================] - 0s 8ms/step - loss: 21.9258 - mae: 21.9258\n",
            "Epoch 281/500\n",
            "2/2 [==============================] - 0s 8ms/step - loss: 22.1155 - mae: 22.1155\n",
            "Epoch 282/500\n",
            "2/2 [==============================] - 0s 9ms/step - loss: 7.7484 - mae: 7.7484\n",
            "Epoch 283/500\n",
            "2/2 [==============================] - 0s 8ms/step - loss: 8.1513 - mae: 8.1513\n",
            "Epoch 284/500\n",
            "2/2 [==============================] - 0s 9ms/step - loss: 24.9013 - mae: 24.9013\n",
            "Epoch 285/500\n",
            "2/2 [==============================] - 0s 9ms/step - loss: 13.6641 - mae: 13.6641\n",
            "Epoch 286/500\n",
            "2/2 [==============================] - 0s 8ms/step - loss: 7.7699 - mae: 7.7699\n",
            "Epoch 287/500\n",
            "2/2 [==============================] - 0s 8ms/step - loss: 23.3293 - mae: 23.3293\n",
            "Epoch 288/500\n",
            "2/2 [==============================] - 0s 9ms/step - loss: 23.7291 - mae: 23.7291\n",
            "Epoch 289/500\n",
            "2/2 [==============================] - 0s 11ms/step - loss: 11.9703 - mae: 11.9703\n",
            "Epoch 290/500\n",
            "2/2 [==============================] - 0s 8ms/step - loss: 16.5447 - mae: 16.5447\n",
            "Epoch 291/500\n",
            "2/2 [==============================] - 0s 10ms/step - loss: 16.8093 - mae: 16.8093\n",
            "Epoch 292/500\n",
            "2/2 [==============================] - 0s 10ms/step - loss: 9.4769 - mae: 9.4769\n",
            "Epoch 293/500\n",
            "2/2 [==============================] - 0s 12ms/step - loss: 15.2802 - mae: 15.2802\n",
            "Epoch 294/500\n",
            "2/2 [==============================] - 0s 10ms/step - loss: 22.7288 - mae: 22.7288\n",
            "Epoch 295/500\n",
            "2/2 [==============================] - 0s 9ms/step - loss: 17.9070 - mae: 17.9070\n",
            "Epoch 296/500\n",
            "2/2 [==============================] - 0s 8ms/step - loss: 6.1796 - mae: 6.1796\n",
            "Epoch 297/500\n",
            "2/2 [==============================] - 0s 10ms/step - loss: 10.9540 - mae: 10.9540\n",
            "Epoch 298/500\n",
            "2/2 [==============================] - 0s 8ms/step - loss: 23.1658 - mae: 23.1658\n",
            "Epoch 299/500\n",
            "2/2 [==============================] - 0s 9ms/step - loss: 17.7067 - mae: 17.7067\n",
            "Epoch 300/500\n",
            "2/2 [==============================] - 0s 10ms/step - loss: 6.9904 - mae: 6.9904\n",
            "Epoch 301/500\n",
            "2/2 [==============================] - 0s 9ms/step - loss: 25.1563 - mae: 25.1563\n",
            "Epoch 302/500\n",
            "2/2 [==============================] - 0s 10ms/step - loss: 8.9013 - mae: 8.9013\n",
            "Epoch 303/500\n",
            "2/2 [==============================] - 0s 10ms/step - loss: 17.7378 - mae: 17.7378\n",
            "Epoch 304/500\n",
            "2/2 [==============================] - 0s 11ms/step - loss: 10.9981 - mae: 10.9981\n",
            "Epoch 305/500\n",
            "2/2 [==============================] - 0s 9ms/step - loss: 12.8949 - mae: 12.8949\n",
            "Epoch 306/500\n",
            "2/2 [==============================] - 0s 9ms/step - loss: 8.4015 - mae: 8.4015\n",
            "Epoch 307/500\n",
            "2/2 [==============================] - 0s 11ms/step - loss: 13.3249 - mae: 13.3249\n",
            "Epoch 308/500\n",
            "2/2 [==============================] - 0s 14ms/step - loss: 8.2625 - mae: 8.2625\n",
            "Epoch 309/500\n",
            "2/2 [==============================] - 0s 11ms/step - loss: 12.2385 - mae: 12.2385\n",
            "Epoch 310/500\n",
            "2/2 [==============================] - 0s 10ms/step - loss: 4.4214 - mae: 4.4214\n",
            "Epoch 311/500\n",
            "2/2 [==============================] - 0s 11ms/step - loss: 12.0147 - mae: 12.0147\n",
            "Epoch 312/500\n",
            "2/2 [==============================] - 0s 14ms/step - loss: 29.3168 - mae: 29.3168\n",
            "Epoch 313/500\n",
            "2/2 [==============================] - 0s 15ms/step - loss: 8.8732 - mae: 8.8732\n",
            "Epoch 314/500\n",
            "2/2 [==============================] - 0s 17ms/step - loss: 6.5103 - mae: 6.5103\n",
            "Epoch 315/500\n",
            "2/2 [==============================] - 0s 17ms/step - loss: 23.9669 - mae: 23.9669\n",
            "Epoch 316/500\n",
            "2/2 [==============================] - 0s 14ms/step - loss: 16.1270 - mae: 16.1270\n",
            "Epoch 317/500\n",
            "2/2 [==============================] - 0s 15ms/step - loss: 20.5960 - mae: 20.5960\n",
            "Epoch 318/500\n",
            "2/2 [==============================] - 0s 11ms/step - loss: 8.6752 - mae: 8.6752\n",
            "Epoch 319/500\n",
            "2/2 [==============================] - 0s 13ms/step - loss: 15.2264 - mae: 15.2264\n",
            "Epoch 320/500\n",
            "2/2 [==============================] - 0s 14ms/step - loss: 8.3046 - mae: 8.3046\n",
            "Epoch 321/500\n",
            "2/2 [==============================] - 0s 9ms/step - loss: 14.6531 - mae: 14.6531\n",
            "Epoch 322/500\n",
            "2/2 [==============================] - 0s 10ms/step - loss: 12.8088 - mae: 12.8088\n",
            "Epoch 323/500\n",
            "2/2 [==============================] - 0s 12ms/step - loss: 19.0809 - mae: 19.0809\n",
            "Epoch 324/500\n",
            "2/2 [==============================] - 0s 10ms/step - loss: 17.0394 - mae: 17.0394\n",
            "Epoch 325/500\n",
            "2/2 [==============================] - 0s 10ms/step - loss: 9.2837 - mae: 9.2837\n",
            "Epoch 326/500\n",
            "2/2 [==============================] - 0s 12ms/step - loss: 19.9140 - mae: 19.9140\n",
            "Epoch 327/500\n",
            "2/2 [==============================] - 0s 13ms/step - loss: 28.1330 - mae: 28.1330\n",
            "Epoch 328/500\n",
            "2/2 [==============================] - 0s 13ms/step - loss: 11.6971 - mae: 11.6971\n",
            "Epoch 329/500\n",
            "2/2 [==============================] - 0s 15ms/step - loss: 16.3628 - mae: 16.3628\n",
            "Epoch 330/500\n",
            "2/2 [==============================] - 0s 14ms/step - loss: 7.2939 - mae: 7.2939\n",
            "Epoch 331/500\n",
            "2/2 [==============================] - 0s 18ms/step - loss: 22.6196 - mae: 22.6196\n",
            "Epoch 332/500\n",
            "2/2 [==============================] - 0s 12ms/step - loss: 13.3585 - mae: 13.3585\n",
            "Epoch 333/500\n",
            "2/2 [==============================] - 0s 12ms/step - loss: 10.1749 - mae: 10.1749\n",
            "Epoch 334/500\n",
            "2/2 [==============================] - 0s 19ms/step - loss: 6.6104 - mae: 6.6104\n",
            "Epoch 335/500\n",
            "2/2 [==============================] - 0s 13ms/step - loss: 6.2331 - mae: 6.2331\n",
            "Epoch 336/500\n",
            "2/2 [==============================] - 0s 16ms/step - loss: 34.6349 - mae: 34.6349\n",
            "Epoch 337/500\n",
            "2/2 [==============================] - 0s 16ms/step - loss: 27.0421 - mae: 27.0421\n",
            "Epoch 338/500\n",
            "2/2 [==============================] - 0s 14ms/step - loss: 14.0414 - mae: 14.0414\n",
            "Epoch 339/500\n",
            "2/2 [==============================] - 0s 20ms/step - loss: 11.5990 - mae: 11.5990\n",
            "Epoch 340/500\n",
            "2/2 [==============================] - 0s 14ms/step - loss: 8.7961 - mae: 8.7961\n",
            "Epoch 341/500\n",
            "2/2 [==============================] - 0s 16ms/step - loss: 23.4086 - mae: 23.4086\n",
            "Epoch 342/500\n",
            "2/2 [==============================] - 0s 17ms/step - loss: 14.0065 - mae: 14.0065\n",
            "Epoch 343/500\n",
            "2/2 [==============================] - 0s 15ms/step - loss: 14.7754 - mae: 14.7754\n",
            "Epoch 344/500\n",
            "2/2 [==============================] - 0s 16ms/step - loss: 13.3587 - mae: 13.3587\n",
            "Epoch 345/500\n",
            "2/2 [==============================] - 0s 14ms/step - loss: 30.9897 - mae: 30.9897\n",
            "Epoch 346/500\n",
            "2/2 [==============================] - 0s 11ms/step - loss: 10.6716 - mae: 10.6716\n",
            "Epoch 347/500\n",
            "2/2 [==============================] - 0s 15ms/step - loss: 25.6697 - mae: 25.6697\n",
            "Epoch 348/500\n",
            "2/2 [==============================] - 0s 13ms/step - loss: 13.0158 - mae: 13.0158\n",
            "Epoch 349/500\n",
            "2/2 [==============================] - 0s 15ms/step - loss: 13.1012 - mae: 13.1012\n",
            "Epoch 350/500\n",
            "2/2 [==============================] - 0s 13ms/step - loss: 15.4115 - mae: 15.4115\n",
            "Epoch 351/500\n",
            "2/2 [==============================] - 0s 10ms/step - loss: 32.9263 - mae: 32.9263\n",
            "Epoch 352/500\n",
            "2/2 [==============================] - 0s 13ms/step - loss: 14.1425 - mae: 14.1425\n",
            "Epoch 353/500\n",
            "2/2 [==============================] - 0s 8ms/step - loss: 15.8707 - mae: 15.8707\n",
            "Epoch 354/500\n",
            "2/2 [==============================] - 0s 10ms/step - loss: 18.9850 - mae: 18.9850\n",
            "Epoch 355/500\n",
            "2/2 [==============================] - 0s 9ms/step - loss: 34.4048 - mae: 34.4048\n",
            "Epoch 356/500\n",
            "2/2 [==============================] - 0s 9ms/step - loss: 8.2969 - mae: 8.2969\n",
            "Epoch 357/500\n",
            "2/2 [==============================] - 0s 8ms/step - loss: 21.9067 - mae: 21.9067\n",
            "Epoch 358/500\n",
            "2/2 [==============================] - 0s 9ms/step - loss: 20.0438 - mae: 20.0438\n",
            "Epoch 359/500\n",
            "2/2 [==============================] - 0s 9ms/step - loss: 11.0270 - mae: 11.0270\n",
            "Epoch 360/500\n",
            "2/2 [==============================] - 0s 8ms/step - loss: 20.2528 - mae: 20.2528\n",
            "Epoch 361/500\n",
            "2/2 [==============================] - 0s 9ms/step - loss: 11.0293 - mae: 11.0293\n",
            "Epoch 362/500\n",
            "2/2 [==============================] - 0s 8ms/step - loss: 6.7978 - mae: 6.7978\n",
            "Epoch 363/500\n",
            "2/2 [==============================] - 0s 8ms/step - loss: 24.0498 - mae: 24.0498\n",
            "Epoch 364/500\n",
            "2/2 [==============================] - 0s 10ms/step - loss: 29.8285 - mae: 29.8285\n",
            "Epoch 365/500\n",
            "2/2 [==============================] - 0s 10ms/step - loss: 8.3510 - mae: 8.3510\n",
            "Epoch 366/500\n",
            "2/2 [==============================] - 0s 8ms/step - loss: 6.0689 - mae: 6.0689\n",
            "Epoch 367/500\n",
            "2/2 [==============================] - 0s 17ms/step - loss: 35.0344 - mae: 35.0344\n",
            "Epoch 368/500\n",
            "2/2 [==============================] - 0s 15ms/step - loss: 7.4077 - mae: 7.4077\n",
            "Epoch 369/500\n",
            "2/2 [==============================] - 0s 18ms/step - loss: 9.6433 - mae: 9.6433\n",
            "Epoch 370/500\n",
            "2/2 [==============================] - 0s 19ms/step - loss: 7.7608 - mae: 7.7608\n",
            "Epoch 371/500\n",
            "2/2 [==============================] - 0s 11ms/step - loss: 20.0102 - mae: 20.0102\n",
            "Epoch 372/500\n",
            "2/2 [==============================] - 0s 12ms/step - loss: 12.5252 - mae: 12.5252\n",
            "Epoch 373/500\n",
            "2/2 [==============================] - 0s 13ms/step - loss: 26.4416 - mae: 26.4416\n",
            "Epoch 374/500\n",
            "2/2 [==============================] - 0s 10ms/step - loss: 9.2123 - mae: 9.2123\n",
            "Epoch 375/500\n",
            "2/2 [==============================] - 0s 10ms/step - loss: 4.8656 - mae: 4.8656\n",
            "Epoch 376/500\n",
            "2/2 [==============================] - 0s 10ms/step - loss: 17.5891 - mae: 17.5891\n",
            "Epoch 377/500\n",
            "2/2 [==============================] - 0s 8ms/step - loss: 14.2627 - mae: 14.2627\n",
            "Epoch 378/500\n",
            "2/2 [==============================] - 0s 15ms/step - loss: 15.9104 - mae: 15.9104\n",
            "Epoch 379/500\n",
            "2/2 [==============================] - 0s 11ms/step - loss: 19.9868 - mae: 19.9868\n",
            "Epoch 380/500\n",
            "2/2 [==============================] - 0s 9ms/step - loss: 36.1542 - mae: 36.1542\n",
            "Epoch 381/500\n",
            "2/2 [==============================] - 0s 8ms/step - loss: 10.2589 - mae: 10.2589\n",
            "Epoch 382/500\n",
            "2/2 [==============================] - 0s 8ms/step - loss: 5.8626 - mae: 5.8626\n",
            "Epoch 383/500\n",
            "2/2 [==============================] - 0s 10ms/step - loss: 14.8882 - mae: 14.8882\n",
            "Epoch 384/500\n",
            "2/2 [==============================] - 0s 10ms/step - loss: 16.1339 - mae: 16.1339\n",
            "Epoch 385/500\n",
            "2/2 [==============================] - 0s 8ms/step - loss: 11.6607 - mae: 11.6607\n",
            "Epoch 386/500\n",
            "2/2 [==============================] - 0s 7ms/step - loss: 20.0548 - mae: 20.0548\n",
            "Epoch 387/500\n",
            "2/2 [==============================] - 0s 9ms/step - loss: 24.1354 - mae: 24.1354\n",
            "Epoch 388/500\n",
            "2/2 [==============================] - 0s 9ms/step - loss: 7.5400 - mae: 7.5400\n",
            "Epoch 389/500\n",
            "2/2 [==============================] - 0s 11ms/step - loss: 14.2328 - mae: 14.2328\n",
            "Epoch 390/500\n",
            "2/2 [==============================] - 0s 9ms/step - loss: 8.2470 - mae: 8.2470\n",
            "Epoch 391/500\n",
            "2/2 [==============================] - 0s 9ms/step - loss: 15.5159 - mae: 15.5159\n",
            "Epoch 392/500\n",
            "2/2 [==============================] - 0s 8ms/step - loss: 17.1571 - mae: 17.1571\n",
            "Epoch 393/500\n",
            "2/2 [==============================] - 0s 7ms/step - loss: 10.5167 - mae: 10.5167\n",
            "Epoch 394/500\n",
            "2/2 [==============================] - 0s 8ms/step - loss: 14.0684 - mae: 14.0684\n",
            "Epoch 395/500\n",
            "2/2 [==============================] - 0s 10ms/step - loss: 28.4275 - mae: 28.4275\n",
            "Epoch 396/500\n",
            "2/2 [==============================] - 0s 10ms/step - loss: 8.4770 - mae: 8.4770\n",
            "Epoch 397/500\n",
            "2/2 [==============================] - 0s 9ms/step - loss: 11.2872 - mae: 11.2872\n",
            "Epoch 398/500\n",
            "2/2 [==============================] - 0s 8ms/step - loss: 6.8797 - mae: 6.8797\n",
            "Epoch 399/500\n",
            "2/2 [==============================] - 0s 9ms/step - loss: 14.1610 - mae: 14.1610\n",
            "Epoch 400/500\n",
            "2/2 [==============================] - 0s 8ms/step - loss: 6.6809 - mae: 6.6809\n",
            "Epoch 401/500\n",
            "2/2 [==============================] - 0s 7ms/step - loss: 7.9912 - mae: 7.9912\n",
            "Epoch 402/500\n",
            "2/2 [==============================] - 0s 7ms/step - loss: 16.4587 - mae: 16.4587\n",
            "Epoch 403/500\n",
            "2/2 [==============================] - 0s 7ms/step - loss: 12.3204 - mae: 12.3204\n",
            "Epoch 404/500\n",
            "2/2 [==============================] - 0s 8ms/step - loss: 22.8994 - mae: 22.8994\n",
            "Epoch 405/500\n",
            "2/2 [==============================] - 0s 11ms/step - loss: 18.1737 - mae: 18.1737\n",
            "Epoch 406/500\n",
            "2/2 [==============================] - 0s 9ms/step - loss: 7.0323 - mae: 7.0323\n",
            "Epoch 407/500\n",
            "2/2 [==============================] - 0s 7ms/step - loss: 12.6922 - mae: 12.6922\n",
            "Epoch 408/500\n",
            "2/2 [==============================] - 0s 8ms/step - loss: 5.6288 - mae: 5.6288\n",
            "Epoch 409/500\n",
            "2/2 [==============================] - 0s 7ms/step - loss: 31.3863 - mae: 31.3863\n",
            "Epoch 410/500\n",
            "2/2 [==============================] - 0s 8ms/step - loss: 9.1955 - mae: 9.1955\n",
            "Epoch 411/500\n",
            "2/2 [==============================] - 0s 8ms/step - loss: 14.8304 - mae: 14.8304\n",
            "Epoch 412/500\n",
            "2/2 [==============================] - 0s 7ms/step - loss: 21.6914 - mae: 21.6914\n",
            "Epoch 413/500\n",
            "2/2 [==============================] - 0s 7ms/step - loss: 12.6846 - mae: 12.6846\n",
            "Epoch 414/500\n",
            "2/2 [==============================] - 0s 9ms/step - loss: 5.9974 - mae: 5.9974\n",
            "Epoch 415/500\n",
            "2/2 [==============================] - 0s 9ms/step - loss: 13.2064 - mae: 13.2064\n",
            "Epoch 416/500\n",
            "2/2 [==============================] - 0s 7ms/step - loss: 27.3976 - mae: 27.3976\n",
            "Epoch 417/500\n",
            "2/2 [==============================] - 0s 8ms/step - loss: 10.7062 - mae: 10.7062\n",
            "Epoch 418/500\n",
            "2/2 [==============================] - 0s 8ms/step - loss: 12.7815 - mae: 12.7815\n",
            "Epoch 419/500\n",
            "2/2 [==============================] - 0s 8ms/step - loss: 15.8396 - mae: 15.8396\n",
            "Epoch 420/500\n",
            "2/2 [==============================] - 0s 8ms/step - loss: 24.6950 - mae: 24.6950\n",
            "Epoch 421/500\n",
            "2/2 [==============================] - 0s 8ms/step - loss: 17.6127 - mae: 17.6127\n",
            "Epoch 422/500\n",
            "2/2 [==============================] - 0s 7ms/step - loss: 8.6665 - mae: 8.6665\n",
            "Epoch 423/500\n",
            "2/2 [==============================] - 0s 7ms/step - loss: 24.8766 - mae: 24.8766\n",
            "Epoch 424/500\n",
            "2/2 [==============================] - 0s 8ms/step - loss: 16.3366 - mae: 16.3366\n",
            "Epoch 425/500\n",
            "2/2 [==============================] - 0s 8ms/step - loss: 7.1228 - mae: 7.1228\n",
            "Epoch 426/500\n",
            "2/2 [==============================] - 0s 8ms/step - loss: 20.4591 - mae: 20.4591\n",
            "Epoch 427/500\n",
            "2/2 [==============================] - 0s 10ms/step - loss: 6.3024 - mae: 6.3024\n",
            "Epoch 428/500\n",
            "2/2 [==============================] - 0s 10ms/step - loss: 13.1110 - mae: 13.1110\n",
            "Epoch 429/500\n",
            "2/2 [==============================] - 0s 11ms/step - loss: 10.8842 - mae: 10.8842\n",
            "Epoch 430/500\n",
            "2/2 [==============================] - 0s 11ms/step - loss: 11.7554 - mae: 11.7554\n",
            "Epoch 431/500\n",
            "2/2 [==============================] - 0s 9ms/step - loss: 7.8874 - mae: 7.8874\n",
            "Epoch 432/500\n",
            "2/2 [==============================] - 0s 11ms/step - loss: 22.2145 - mae: 22.2145\n",
            "Epoch 433/500\n",
            "2/2 [==============================] - 0s 11ms/step - loss: 5.8752 - mae: 5.8752\n",
            "Epoch 434/500\n",
            "2/2 [==============================] - 0s 10ms/step - loss: 32.6448 - mae: 32.6448\n",
            "Epoch 435/500\n",
            "2/2 [==============================] - 0s 10ms/step - loss: 13.6478 - mae: 13.6478\n",
            "Epoch 436/500\n",
            "2/2 [==============================] - 0s 10ms/step - loss: 28.8814 - mae: 28.8814\n",
            "Epoch 437/500\n",
            "2/2 [==============================] - 0s 10ms/step - loss: 8.5421 - mae: 8.5421\n",
            "Epoch 438/500\n",
            "2/2 [==============================] - 0s 6ms/step - loss: 12.7063 - mae: 12.7063\n",
            "Epoch 439/500\n",
            "2/2 [==============================] - 0s 10ms/step - loss: 33.6732 - mae: 33.6732\n",
            "Epoch 440/500\n",
            "2/2 [==============================] - 0s 10ms/step - loss: 15.0500 - mae: 15.0500\n",
            "Epoch 441/500\n",
            "2/2 [==============================] - 0s 11ms/step - loss: 17.4410 - mae: 17.4410\n",
            "Epoch 442/500\n",
            "2/2 [==============================] - 0s 11ms/step - loss: 22.2549 - mae: 22.2549\n",
            "Epoch 443/500\n",
            "2/2 [==============================] - 0s 10ms/step - loss: 23.6963 - mae: 23.6963\n",
            "Epoch 444/500\n",
            "2/2 [==============================] - 0s 10ms/step - loss: 11.0694 - mae: 11.0694\n",
            "Epoch 445/500\n",
            "2/2 [==============================] - 0s 7ms/step - loss: 14.8645 - mae: 14.8645\n",
            "Epoch 446/500\n",
            "2/2 [==============================] - 0s 9ms/step - loss: 17.9225 - mae: 17.9225\n",
            "Epoch 447/500\n",
            "2/2 [==============================] - 0s 10ms/step - loss: 5.4410 - mae: 5.4410\n",
            "Epoch 448/500\n",
            "2/2 [==============================] - 0s 10ms/step - loss: 9.6164 - mae: 9.6164\n",
            "Epoch 449/500\n",
            "2/2 [==============================] - 0s 12ms/step - loss: 14.2643 - mae: 14.2643\n",
            "Epoch 450/500\n",
            "2/2 [==============================] - 0s 9ms/step - loss: 17.0176 - mae: 17.0176\n",
            "Epoch 451/500\n",
            "2/2 [==============================] - 0s 13ms/step - loss: 14.3733 - mae: 14.3733\n",
            "Epoch 452/500\n",
            "2/2 [==============================] - 0s 13ms/step - loss: 30.8443 - mae: 30.8443\n",
            "Epoch 453/500\n",
            "2/2 [==============================] - 0s 11ms/step - loss: 9.0873 - mae: 9.0873\n",
            "Epoch 454/500\n",
            "2/2 [==============================] - 0s 14ms/step - loss: 27.1888 - mae: 27.1888\n",
            "Epoch 455/500\n",
            "2/2 [==============================] - 0s 14ms/step - loss: 11.4084 - mae: 11.4084\n",
            "Epoch 456/500\n",
            "2/2 [==============================] - 0s 12ms/step - loss: 15.6228 - mae: 15.6228\n",
            "Epoch 457/500\n",
            "2/2 [==============================] - 0s 11ms/step - loss: 19.2656 - mae: 19.2656\n",
            "Epoch 458/500\n",
            "2/2 [==============================] - 0s 12ms/step - loss: 23.0589 - mae: 23.0589\n",
            "Epoch 459/500\n",
            "2/2 [==============================] - 0s 11ms/step - loss: 16.4859 - mae: 16.4859\n",
            "Epoch 460/500\n",
            "2/2 [==============================] - 0s 12ms/step - loss: 7.4059 - mae: 7.4059\n",
            "Epoch 461/500\n",
            "2/2 [==============================] - 0s 13ms/step - loss: 15.6663 - mae: 15.6663\n",
            "Epoch 462/500\n",
            "2/2 [==============================] - 0s 14ms/step - loss: 15.1624 - mae: 15.1624\n",
            "Epoch 463/500\n",
            "2/2 [==============================] - 0s 11ms/step - loss: 16.7950 - mae: 16.7950\n",
            "Epoch 464/500\n",
            "2/2 [==============================] - 0s 12ms/step - loss: 11.2192 - mae: 11.2192\n",
            "Epoch 465/500\n",
            "2/2 [==============================] - 0s 14ms/step - loss: 21.5297 - mae: 21.5297\n",
            "Epoch 466/500\n",
            "2/2 [==============================] - 0s 11ms/step - loss: 25.0379 - mae: 25.0379\n",
            "Epoch 467/500\n",
            "2/2 [==============================] - 0s 16ms/step - loss: 14.8627 - mae: 14.8627\n",
            "Epoch 468/500\n",
            "2/2 [==============================] - 0s 13ms/step - loss: 10.3541 - mae: 10.3541\n",
            "Epoch 469/500\n",
            "2/2 [==============================] - 0s 9ms/step - loss: 27.3586 - mae: 27.3586\n",
            "Epoch 470/500\n",
            "2/2 [==============================] - 0s 11ms/step - loss: 12.4323 - mae: 12.4323\n",
            "Epoch 471/500\n",
            "2/2 [==============================] - 0s 11ms/step - loss: 12.1118 - mae: 12.1118\n",
            "Epoch 472/500\n",
            "2/2 [==============================] - 0s 10ms/step - loss: 15.4967 - mae: 15.4967\n",
            "Epoch 473/500\n",
            "2/2 [==============================] - 0s 11ms/step - loss: 15.4986 - mae: 15.4986\n",
            "Epoch 474/500\n",
            "2/2 [==============================] - 0s 7ms/step - loss: 9.1081 - mae: 9.1081\n",
            "Epoch 475/500\n",
            "2/2 [==============================] - 0s 10ms/step - loss: 7.1589 - mae: 7.1589\n",
            "Epoch 476/500\n",
            "2/2 [==============================] - 0s 7ms/step - loss: 11.8946 - mae: 11.8946\n",
            "Epoch 477/500\n",
            "2/2 [==============================] - 0s 7ms/step - loss: 27.9517 - mae: 27.9517\n",
            "Epoch 478/500\n",
            "2/2 [==============================] - 0s 6ms/step - loss: 8.5900 - mae: 8.5900\n",
            "Epoch 479/500\n",
            "2/2 [==============================] - 0s 6ms/step - loss: 12.0983 - mae: 12.0983\n",
            "Epoch 480/500\n",
            "2/2 [==============================] - 0s 7ms/step - loss: 18.3680 - mae: 18.3680\n",
            "Epoch 481/500\n",
            "2/2 [==============================] - 0s 9ms/step - loss: 16.2096 - mae: 16.2096\n",
            "Epoch 482/500\n",
            "2/2 [==============================] - 0s 6ms/step - loss: 15.0275 - mae: 15.0275\n",
            "Epoch 483/500\n",
            "2/2 [==============================] - 0s 7ms/step - loss: 20.4706 - mae: 20.4706\n",
            "Epoch 484/500\n",
            "2/2 [==============================] - 0s 7ms/step - loss: 35.2891 - mae: 35.2891\n",
            "Epoch 485/500\n",
            "2/2 [==============================] - 0s 9ms/step - loss: 13.9345 - mae: 13.9345\n",
            "Epoch 486/500\n",
            "2/2 [==============================] - 0s 6ms/step - loss: 6.9519 - mae: 6.9519\n",
            "Epoch 487/500\n",
            "2/2 [==============================] - 0s 7ms/step - loss: 6.2327 - mae: 6.2327\n",
            "Epoch 488/500\n",
            "2/2 [==============================] - 0s 7ms/step - loss: 29.8181 - mae: 29.8181\n",
            "Epoch 489/500\n",
            "2/2 [==============================] - 0s 11ms/step - loss: 12.6574 - mae: 12.6574\n",
            "Epoch 490/500\n",
            "2/2 [==============================] - 0s 11ms/step - loss: 13.1003 - mae: 13.1003\n",
            "Epoch 491/500\n",
            "2/2 [==============================] - 0s 9ms/step - loss: 24.3663 - mae: 24.3663\n",
            "Epoch 492/500\n",
            "2/2 [==============================] - 0s 7ms/step - loss: 18.6031 - mae: 18.6031\n",
            "Epoch 493/500\n",
            "2/2 [==============================] - 0s 8ms/step - loss: 4.7309 - mae: 4.7309\n",
            "Epoch 494/500\n",
            "2/2 [==============================] - 0s 8ms/step - loss: 11.9691 - mae: 11.9691\n",
            "Epoch 495/500\n",
            "2/2 [==============================] - 0s 7ms/step - loss: 13.7013 - mae: 13.7013\n",
            "Epoch 496/500\n",
            "2/2 [==============================] - 0s 7ms/step - loss: 12.8978 - mae: 12.8978\n",
            "Epoch 497/500\n",
            "2/2 [==============================] - 0s 7ms/step - loss: 18.0165 - mae: 18.0165\n",
            "Epoch 498/500\n",
            "2/2 [==============================] - 0s 7ms/step - loss: 22.6465 - mae: 22.6465\n",
            "Epoch 499/500\n",
            "2/2 [==============================] - 0s 7ms/step - loss: 8.5420 - mae: 8.5420\n",
            "Epoch 500/500\n",
            "2/2 [==============================] - 0s 7ms/step - loss: 14.4396 - mae: 14.4396\n"
          ]
        },
        {
          "output_type": "execute_result",
          "data": {
            "text/plain": [
              "<keras.src.callbacks.History at 0x7d1273d97dc0>"
            ]
          },
          "metadata": {},
          "execution_count": 75
        }
      ]
    },
    {
      "cell_type": "code",
      "source": [
        "y_pred_3 = model_2.predict(x_test)\n",
        "plot_prediction(predictions=y_pred_3)"
      ],
      "metadata": {
        "colab": {
          "base_uri": "https://localhost:8080/",
          "height": 616
        },
        "id": "DaNW_JKGXZfT",
        "outputId": "c22969e7-6c1f-4f93-f2fa-10e24728e807"
      },
      "execution_count": 76,
      "outputs": [
        {
          "output_type": "stream",
          "name": "stdout",
          "text": [
            "1/1 [==============================] - 0s 90ms/step\n"
          ]
        },
        {
          "output_type": "display_data",
          "data": {
            "text/plain": [
              "<Figure size 1000x700 with 1 Axes>"
            ],
            "image/png": "[encoded data removed]"
          },
          "metadata": {}
        }
      ]
    },
    {
      "cell_type": "code",
      "source": [
        "mae_3 = mae(y_test,y_pred_3)\n",
        "mse_3 = mse(y_test,y_pred_3)\n",
        "mae_3,mse_3"
      ],
      "metadata": {
        "colab": {
          "base_uri": "https://localhost:8080/"
        },
        "id": "d-vgtupLXgpq",
        "outputId": "30a68409-479f-4b78-d1bd-2a4d02bbca8d"
      },
      "execution_count": 80,
      "outputs": [
        {
          "output_type": "execute_result",
          "data": {
            "text/plain": [
              "(<tf.Tensor: shape=(), dtype=float32, numpy=68.07346>,\n",
              " <tf.Tensor: shape=(), dtype=float32, numpy=4718.9556>)"
            ]
          },
          "metadata": {},
          "execution_count": 80
        }
      ]
    },
    {
      "cell_type": "markdown",
      "source": [
        "## Comparing the result of our experiments\n"
      ],
      "metadata": {
        "id": "PTXMLqWOXn3z"
      }
    },
    {
      "cell_type": "code",
      "source": [
        "import pandas as pd\n",
        "\n",
        "model_results = [[\"model_1\",mae_1.numpy(),mse_1.numpy()],\n",
        "                 [\"model_2\",mae_2.numpy(),mse_2.numpy()],\n",
        "                 [\"model_3\",mae_3.numpy(),mse_3.numpy()]]\n",
        "\n",
        "all_results = pd.DataFrame(model_results,columns=[\"model\",\"mae\",\"mse\"])\n",
        "all_results\n"
      ],
      "metadata": {
        "colab": {
          "base_uri": "https://localhost:8080/",
          "height": 143
        },
        "id": "b4Ay65KSYTL_",
        "outputId": "a83195eb-1732-4d37-d54e-4804d2b7b564"
      },
      "execution_count": 81,
      "outputs": [
        {
          "output_type": "execute_result",
          "data": {
            "text/plain": [
              "     model        mae          mse\n",
              "0  model_1   8.656392    81.464760\n",
              "1  model_2   1.978482     5.796738\n",
              "2  model_3  68.073463  4718.955566"
            ],
            "text/html": [
              "\n",
              "  <div id=\"df-94503d8b-b527-4082-8378-df575ea2357f\" class=\"colab-df-container\">\n",
              "    <div>\n",
              "<style scoped>\n",
              "    .dataframe tbody tr th:only-of-type {\n",
              "        vertical-align: middle;\n",
              "    }\n",
              "\n",
              "    .dataframe tbody tr th {\n",
              "        vertical-align: top;\n",
              "    }\n",
              "\n",
              "    .dataframe thead th {\n",
              "        text-align: right;\n",
              "    }\n",
              "</style>\n",
              "<table border=\"1\" class=\"dataframe\">\n",
              "  <thead>\n",
              "    <tr style=\"text-align: right;\">\n",
              "      <th></th>\n",
              "      <th>model</th>\n",
              "      <th>mae</th>\n",
              "      <th>mse</th>\n",
              "    </tr>\n",
              "  </thead>\n",
              "  <tbody>\n",
              "    <tr>\n",
              "      <th>0</th>\n",
              "      <td>model_1</td>\n",
              "      <td>8.656392</td>\n",
              "      <td>81.464760</td>\n",
              "    </tr>\n",
              "    <tr>\n",
              "      <th>1</th>\n",
              "      <td>model_2</td>\n",
              "      <td>1.978482</td>\n",
              "      <td>5.796738</td>\n",
              "    </tr>\n",
              "    <tr>\n",
              "      <th>2</th>\n",
              "      <td>model_3</td>\n",
              "      <td>68.073463</td>\n",
              "      <td>4718.955566</td>\n",
              "    </tr>\n",
              "  </tbody>\n",
              "</table>\n",
              "</div>\n",
              "    <div class=\"colab-df-buttons\">\n",
              "\n",
              "  <div class=\"colab-df-container\">\n",
              "    <button class=\"colab-df-convert\" onclick=\"convertToInteractive('df-94503d8b-b527-4082-8378-df575ea2357f')\"\n",
              "            title=\"Convert this dataframe to an interactive table.\"\n",
              "            style=\"display:none;\">\n",
              "\n",
              "  <svg xmlns=\"http://www.w3.org/2000/svg\" height=\"24px\" viewBox=\"0 -960 960 960\">\n",
              "    <path d=\"M120-120v-720h720v720H120Zm60-500h600v-160H180v160Zm220 220h160v-160H400v160Zm0 220h160v-160H400v160ZM180-400h160v-160H180v160Zm440 0h160v-160H620v160ZM180-180h160v-160H180v160Zm440 0h160v-160H620v160Z\"/>\n",
              "  </svg>\n",
              "    </button>\n",
              "\n",
              "  <style>\n",
              "    .colab-df-container {\n",
              "      display:flex;\n",
              "      gap: 12px;\n",
              "    }\n",
              "\n",
              "    .colab-df-convert {\n",
              "      background-color: #E8F0FE;\n",
              "      border: none;\n",
              "      border-radius: 50%;\n",
              "      cursor: pointer;\n",
              "      display: none;\n",
              "      fill: #1967D2;\n",
              "      height: 32px;\n",
              "      padding: 0 0 0 0;\n",
              "      width: 32px;\n",
              "    }\n",
              "\n",
              "    .colab-df-convert:hover {\n",
              "      background-color: #E2EBFA;\n",
              "      box-shadow: 0px 1px 2px rgba(60, 64, 67, 0.3), 0px 1px 3px 1px rgba(60, 64, 67, 0.15);\n",
              "      fill: #174EA6;\n",
              "    }\n",
              "\n",
              "    .colab-df-buttons div {\n",
              "      margin-bottom: 4px;\n",
              "    }\n",
              "\n",
              "    [theme=dark] .colab-df-convert {\n",
              "      background-color: #3B4455;\n",
              "      fill: #D2E3FC;\n",
              "    }\n",
              "\n",
              "    [theme=dark] .colab-df-convert:hover {\n",
              "      background-color: #434B5C;\n",
              "      box-shadow: 0px 1px 3px 1px rgba(0, 0, 0, 0.15);\n",
              "      filter: drop-shadow(0px 1px 2px rgba(0, 0, 0, 0.3));\n",
              "      fill: #FFFFFF;\n",
              "    }\n",
              "  </style>\n",
              "\n",
              "    <script>\n",
              "      const buttonEl =\n",
              "        document.querySelector('#df-94503d8b-b527-4082-8378-df575ea2357f button.colab-df-convert');\n",
              "      buttonEl.style.display =\n",
              "        google.colab.kernel.accessAllowed ? 'block' : 'none';\n",
              "\n",
              "      async function convertToInteractive(key) {\n",
              "        const element = document.querySelector('#df-94503d8b-b527-4082-8378-df575ea2357f');\n",
              "        const dataTable =\n",
              "          await google.colab.kernel.invokeFunction('convertToInteractive',\n",
              "                                                    [key], {});\n",
              "        if (!dataTable) return;\n",
              "\n",
              "        const docLinkHtml = 'Like what you see? Visit the ' +\n",
              "          '<a target=\"_blank\" href=https://colab.research.google.com/notebooks/data_table.ipynb>data table notebook</a>'\n",
              "          + ' to learn more about interactive tables.';\n",
              "        element.innerHTML = '';\n",
              "        dataTable['output_type'] = 'display_data';\n",
              "        await google.colab.output.renderOutput(dataTable, element);\n",
              "        const docLink = document.createElement('div');\n",
              "        docLink.innerHTML = docLinkHtml;\n",
              "        element.appendChild(docLink);\n",
              "      }\n",
              "    </script>\n",
              "  </div>\n",
              "\n",
              "\n",
              "<div id=\"df-d7773868-4f48-48c0-ad73-da5fa402a9fd\">\n",
              "  <button class=\"colab-df-quickchart\" onclick=\"quickchart('df-d7773868-4f48-48c0-ad73-da5fa402a9fd')\"\n",
              "            title=\"Suggest charts\"\n",
              "            style=\"display:none;\">\n",
              "\n",
              "<svg xmlns=\"http://www.w3.org/2000/svg\" height=\"24px\"viewBox=\"0 0 24 24\"\n",
              "     width=\"24px\">\n",
              "    <g>\n",
              "        <path d=\"M19 3H5c-1.1 0-2 .9-2 2v14c0 1.1.9 2 2 2h14c1.1 0 2-.9 2-2V5c0-1.1-.9-2-2-2zM9 17H7v-7h2v7zm4 0h-2V7h2v10zm4 0h-2v-4h2v4z\"/>\n",
              "    </g>\n",
              "</svg>\n",
              "  </button>\n",
              "\n",
              "<style>\n",
              "  .colab-df-quickchart {\n",
              "      --bg-color: #E8F0FE;\n",
              "      --fill-color: #1967D2;\n",
              "      --hover-bg-color: #E2EBFA;\n",
              "      --hover-fill-color: #174EA6;\n",
              "      --disabled-fill-color: #AAA;\n",
              "      --disabled-bg-color: #DDD;\n",
              "  }\n",
              "\n",
              "  [theme=dark] .colab-df-quickchart {\n",
              "      --bg-color: #3B4455;\n",
              "      --fill-color: #D2E3FC;\n",
              "      --hover-bg-color: #434B5C;\n",
              "      --hover-fill-color: #FFFFFF;\n",
              "      --disabled-bg-color: #3B4455;\n",
              "      --disabled-fill-color: #666;\n",
              "  }\n",
              "\n",
              "  .colab-df-quickchart {\n",
              "    background-color: var(--bg-color);\n",
              "    border: none;\n",
              "    border-radius: 50%;\n",
              "    cursor: pointer;\n",
              "    display: none;\n",
              "    fill: var(--fill-color);\n",
              "    height: 32px;\n",
              "    padding: 0;\n",
              "    width: 32px;\n",
              "  }\n",
              "\n",
              "  .colab-df-quickchart:hover {\n",
              "    background-color: var(--hover-bg-color);\n",
              "    box-shadow: 0 1px 2px rgba(60, 64, 67, 0.3), 0 1px 3px 1px rgba(60, 64, 67, 0.15);\n",
              "    fill: var(--button-hover-fill-color);\n",
              "  }\n",
              "\n",
              "  .colab-df-quickchart-complete:disabled,\n",
              "  .colab-df-quickchart-complete:disabled:hover {\n",
              "    background-color: var(--disabled-bg-color);\n",
              "    fill: var(--disabled-fill-color);\n",
              "    box-shadow: none;\n",
              "  }\n",
              "\n",
              "  .colab-df-spinner {\n",
              "    border: 2px solid var(--fill-color);\n",
              "    border-color: transparent;\n",
              "    border-bottom-color: var(--fill-color);\n",
              "    animation:\n",
              "      spin 1s steps(1) infinite;\n",
              "  }\n",
              "\n",
              "  @keyframes spin {\n",
              "    0% {\n",
              "      border-color: transparent;\n",
              "      border-bottom-color: var(--fill-color);\n",
              "      border-left-color: var(--fill-color);\n",
              "    }\n",
              "    20% {\n",
              "      border-color: transparent;\n",
              "      border-left-color: var(--fill-color);\n",
              "      border-top-color: var(--fill-color);\n",
              "    }\n",
              "    30% {\n",
              "      border-color: transparent;\n",
              "      border-left-color: var(--fill-color);\n",
              "      border-top-color: var(--fill-color);\n",
              "      border-right-color: var(--fill-color);\n",
              "    }\n",
              "    40% {\n",
              "      border-color: transparent;\n",
              "      border-right-color: var(--fill-color);\n",
              "      border-top-color: var(--fill-color);\n",
              "    }\n",
              "    60% {\n",
              "      border-color: transparent;\n",
              "      border-right-color: var(--fill-color);\n",
              "    }\n",
              "    80% {\n",
              "      border-color: transparent;\n",
              "      border-right-color: var(--fill-color);\n",
              "      border-bottom-color: var(--fill-color);\n",
              "    }\n",
              "    90% {\n",
              "      border-color: transparent;\n",
              "      border-bottom-color: var(--fill-color);\n",
              "    }\n",
              "  }\n",
              "</style>\n",
              "\n",
              "  <script>\n",
              "    async function quickchart(key) {\n",
              "      const quickchartButtonEl =\n",
              "        document.querySelector('#' + key + ' button');\n",
              "      quickchartButtonEl.disabled = true;  // To prevent multiple clicks.\n",
              "      quickchartButtonEl.classList.add('colab-df-spinner');\n",
              "      try {\n",
              "        const charts = await google.colab.kernel.invokeFunction(\n",
              "            'suggestCharts', [key], {});\n",
              "      } catch (error) {\n",
              "        console.error('Error during call to suggestCharts:', error);\n",
              "      }\n",
              "      quickchartButtonEl.classList.remove('colab-df-spinner');\n",
              "      quickchartButtonEl.classList.add('colab-df-quickchart-complete');\n",
              "    }\n",
              "    (() => {\n",
              "      let quickchartButtonEl =\n",
              "        document.querySelector('#df-d7773868-4f48-48c0-ad73-da5fa402a9fd button');\n",
              "      quickchartButtonEl.style.display =\n",
              "        google.colab.kernel.accessAllowed ? 'block' : 'none';\n",
              "    })();\n",
              "  </script>\n",
              "</div>\n",
              "\n",
              "  <div id=\"id_d45947ec-9492-4d64-85a6-1d24a83a25a8\">\n",
              "    <style>\n",
              "      .colab-df-generate {\n",
              "        background-color: #E8F0FE;\n",
              "        border: none;\n",
              "        border-radius: 50%;\n",
              "        cursor: pointer;\n",
              "        display: none;\n",
              "        fill: #1967D2;\n",
              "        height: 32px;\n",
              "        padding: 0 0 0 0;\n",
              "        width: 32px;\n",
              "      }\n",
              "\n",
              "      .colab-df-generate:hover {\n",
              "        background-color: #E2EBFA;\n",
              "        box-shadow: 0px 1px 2px rgba(60, 64, 67, 0.3), 0px 1px 3px 1px rgba(60, 64, 67, 0.15);\n",
              "        fill: #174EA6;\n",
              "      }\n",
              "\n",
              "      [theme=dark] .colab-df-generate {\n",
              "        background-color: #3B4455;\n",
              "        fill: #D2E3FC;\n",
              "      }\n",
              "\n",
              "      [theme=dark] .colab-df-generate:hover {\n",
              "        background-color: #434B5C;\n",
              "        box-shadow: 0px 1px 3px 1px rgba(0, 0, 0, 0.15);\n",
              "        filter: drop-shadow(0px 1px 2px rgba(0, 0, 0, 0.3));\n",
              "        fill: #FFFFFF;\n",
              "      }\n",
              "    </style>\n",
              "    <button class=\"colab-df-generate\" onclick=\"generateWithVariable('all_results')\"\n",
              "            title=\"Generate code using this dataframe.\"\n",
              "            style=\"display:none;\">\n",
              "\n",
              "  <svg xmlns=\"http://www.w3.org/2000/svg\" height=\"24px\"viewBox=\"0 0 24 24\"\n",
              "       width=\"24px\">\n",
              "    <path d=\"M7,19H8.4L18.45,9,17,7.55,7,17.6ZM5,21V16.75L18.45,3.32a2,2,0,0,1,2.83,0l1.4,1.43a1.91,1.91,0,0,1,.58,1.4,1.91,1.91,0,0,1-.58,1.4L9.25,21ZM18.45,9,17,7.55Zm-12,3A5.31,5.31,0,0,0,4.9,8.1,5.31,5.31,0,0,0,1,6.5,5.31,5.31,0,0,0,4.9,4.9,5.31,5.31,0,0,0,6.5,1,5.31,5.31,0,0,0,8.1,4.9,5.31,5.31,0,0,0,12,6.5,5.46,5.46,0,0,0,6.5,12Z\"/>\n",
              "  </svg>\n",
              "    </button>\n",
              "    <script>\n",
              "      (() => {\n",
              "      const buttonEl =\n",
              "        document.querySelector('#id_d45947ec-9492-4d64-85a6-1d24a83a25a8 button.colab-df-generate');\n",
              "      buttonEl.style.display =\n",
              "        google.colab.kernel.accessAllowed ? 'block' : 'none';\n",
              "\n",
              "      buttonEl.onclick = () => {\n",
              "        google.colab.notebook.generateWithVariable('all_results');\n",
              "      }\n",
              "      })();\n",
              "    </script>\n",
              "  </div>\n",
              "\n",
              "    </div>\n",
              "  </div>\n"
            ],
            "application/vnd.google.colaboratory.intrinsic+json": {
              "type": "dataframe",
              "variable_name": "all_results",
              "summary": "{\n  \"name\": \"all_results\",\n  \"rows\": 3,\n  \"fields\": [\n    {\n      \"column\": \"model\",\n      \"properties\": {\n        \"dtype\": \"string\",\n        \"num_unique_values\": 3,\n        \"samples\": [\n          \"model_1\",\n          \"model_2\",\n          \"model_3\"\n        ],\n        \"semantic_type\": \"\",\n        \"description\": \"\"\n      }\n    },\n    {\n      \"column\": \"mae\",\n      \"properties\": {\n        \"dtype\": \"float32\",\n        \"num_unique_values\": 3,\n        \"samples\": [\n          8.656392097473145,\n          1.9784820079803467,\n          68.0734634399414\n        ],\n        \"semantic_type\": \"\",\n        \"description\": \"\"\n      }\n    },\n    {\n      \"column\": \"mse\",\n      \"properties\": {\n        \"dtype\": \"float32\",\n        \"num_unique_values\": 3,\n        \"samples\": [\n          81.46475982666016,\n          5.796738147735596,\n          4718.95556640625\n        ],\n        \"semantic_type\": \"\",\n        \"description\": \"\"\n      }\n    }\n  ]\n}"
            }
          },
          "metadata": {},
          "execution_count": 81
        }
      ]
    },
    {
      "cell_type": "code",
      "source": [
        "model_2.summary() # best model"
      ],
      "metadata": {
        "colab": {
          "base_uri": "https://localhost:8080/"
        },
        "id": "ETzdmB10aEX0",
        "outputId": "38973f2d-d5b7-4986-d463-9395bab50564"
      },
      "execution_count": 82,
      "outputs": [
        {
          "output_type": "stream",
          "name": "stdout",
          "text": [
            "Model: \"sequential_11\"\n",
            "_________________________________________________________________\n",
            " Layer (type)                Output Shape              Param #   \n",
            "=================================================================\n",
            " dense_14 (Dense)            (None, 10)                20        \n",
            "                                                                 \n",
            " dense_15 (Dense)            (None, 1)                 11        \n",
            "                                                                 \n",
            "=================================================================\n",
            "Total params: 31 (124.00 Byte)\n",
            "Trainable params: 31 (124.00 Byte)\n",
            "Non-trainable params: 0 (0.00 Byte)\n",
            "_________________________________________________________________\n"
          ]
        }
      ]
    },
    {
      "cell_type": "markdown",
      "source": [
        "## Tracking our experiment\n",
        "\n",
        "* 1. TensorBoard\n",
        "* 2. Weights & Biases"
      ],
      "metadata": {
        "id": "aEnC8WgQY5aU"
      }
    },
    {
      "cell_type": "markdown",
      "source": [
        "## Saving our models\n",
        "\n",
        "There are two main formats\n",
        "\n",
        "* 1. The SavedModel format\n",
        "* 2. The HDF5 format"
      ],
      "metadata": {
        "id": "0P4s30IIZ-uz"
      }
    },
    {
      "cell_type": "code",
      "source": [
        "# SavedModel\n",
        "model_2.save(\"best_model_SavedModel_format\")"
      ],
      "metadata": {
        "id": "3SxfNSy6aSxL"
      },
      "execution_count": 83,
      "outputs": []
    },
    {
      "cell_type": "code",
      "source": [
        "# HDF5\n",
        "model_2.save(\"best_model_2_HDF5_format.h5\")"
      ],
      "metadata": {
        "colab": {
          "base_uri": "https://localhost:8080/"
        },
        "id": "gm4wgJ8ibY6l",
        "outputId": "12b64c80-cbc4-4c8a-84d5-9f4f32ecf12c"
      },
      "execution_count": 84,
      "outputs": [
        {
          "output_type": "stream",
          "name": "stderr",
          "text": [
            "/usr/local/lib/python3.10/dist-packages/keras/src/engine/training.py:3103: UserWarning: You are saving your model as an HDF5 file via `model.save()`. This file format is considered legacy. We recommend using instead the native Keras format, e.g. `model.save('my_model.keras')`.\n",
            "  saving_api.save_model(\n"
          ]
        }
      ]
    },
    {
      "cell_type": "markdown",
      "source": [
        "## Loading in a Saved model"
      ],
      "metadata": {
        "id": "LX50ToNDb639"
      }
    },
    {
      "cell_type": "code",
      "source": [
        "# Load SaveModel format\n",
        "loaded_SaveModel = tf.keras.models.load_model(\"/content/best_model_SavedModel_format\")\n",
        "loaded_SaveModel.summary()"
      ],
      "metadata": {
        "colab": {
          "base_uri": "https://localhost:8080/"
        },
        "id": "n-MBiQM6cUq4",
        "outputId": "016cd0f5-b221-4bae-a8c3-b4d99f50ff26"
      },
      "execution_count": 86,
      "outputs": [
        {
          "output_type": "stream",
          "name": "stdout",
          "text": [
            "Model: \"sequential_11\"\n",
            "_________________________________________________________________\n",
            " Layer (type)                Output Shape              Param #   \n",
            "=================================================================\n",
            " dense_14 (Dense)            (None, 10)                20        \n",
            "                                                                 \n",
            " dense_15 (Dense)            (None, 1)                 11        \n",
            "                                                                 \n",
            "=================================================================\n",
            "Total params: 31 (124.00 Byte)\n",
            "Trainable params: 31 (124.00 Byte)\n",
            "Non-trainable params: 0 (0.00 Byte)\n",
            "_________________________________________________________________\n"
          ]
        }
      ]
    },
    {
      "cell_type": "code",
      "source": [
        "# Compare model_2 with savedmodle\n",
        "model_2_preds = model_2.predict(x_test)\n",
        "savedmodel_preds = loaded_SaveModel.predict(x_test)\n",
        "model_2_preds == savedmodel_preds"
      ],
      "metadata": {
        "colab": {
          "base_uri": "https://localhost:8080/"
        },
        "id": "TLZkPpX8coF1",
        "outputId": "5f6d36bd-3b31-4bdf-eab9-7912943bc21c"
      },
      "execution_count": 87,
      "outputs": [
        {
          "output_type": "stream",
          "name": "stdout",
          "text": [
            "1/1 [==============================] - 0s 41ms/step\n",
            "1/1 [==============================] - 0s 205ms/step\n"
          ]
        },
        {
          "output_type": "execute_result",
          "data": {
            "text/plain": [
              "array([[ True],\n",
              "       [ True],\n",
              "       [ True],\n",
              "       [ True],\n",
              "       [ True],\n",
              "       [ True],\n",
              "       [ True],\n",
              "       [ True],\n",
              "       [ True],\n",
              "       [ True]])"
            ]
          },
          "metadata": {},
          "execution_count": 87
        }
      ]
    },
    {
      "cell_type": "code",
      "source": [
        "# Loading HDF5 format\n",
        "loaded_hdf5 = tf.keras.models.load_model(\"/content/best_model_2_HDF5_format.h5\")\n",
        "\n",
        "loaded_hdf5.summary()"
      ],
      "metadata": {
        "colab": {
          "base_uri": "https://localhost:8080/"
        },
        "id": "aFMUbR5LdlXw",
        "outputId": "bd7c4476-ee0b-4d47-cc8f-f10c02f23343"
      },
      "execution_count": 89,
      "outputs": [
        {
          "output_type": "stream",
          "name": "stdout",
          "text": [
            "Model: \"sequential_11\"\n",
            "_________________________________________________________________\n",
            " Layer (type)                Output Shape              Param #   \n",
            "=================================================================\n",
            " dense_14 (Dense)            (None, 10)                20        \n",
            "                                                                 \n",
            " dense_15 (Dense)            (None, 1)                 11        \n",
            "                                                                 \n",
            "=================================================================\n",
            "Total params: 31 (124.00 Byte)\n",
            "Trainable params: 31 (124.00 Byte)\n",
            "Non-trainable params: 0 (0.00 Byte)\n",
            "_________________________________________________________________\n"
          ]
        }
      ]
    },
    {
      "cell_type": "code",
      "source": [
        "h5_preds = loaded_hdf5.predict(x_test)\n",
        "h5_preds == model_2_preds"
      ],
      "metadata": {
        "colab": {
          "base_uri": "https://localhost:8080/"
        },
        "id": "_iIyULBHd7tV",
        "outputId": "17588e9a-56d6-42d1-abf0-da7726935f5b"
      },
      "execution_count": 90,
      "outputs": [
        {
          "output_type": "stream",
          "name": "stdout",
          "text": [
            "1/1 [==============================] - 0s 85ms/step\n"
          ]
        },
        {
          "output_type": "execute_result",
          "data": {
            "text/plain": [
              "array([[ True],\n",
              "       [ True],\n",
              "       [ True],\n",
              "       [ True],\n",
              "       [ True],\n",
              "       [ True],\n",
              "       [ True],\n",
              "       [ True],\n",
              "       [ True],\n",
              "       [ True]])"
            ]
          },
          "metadata": {},
          "execution_count": 90
        }
      ]
    },
    {
      "cell_type": "markdown",
      "source": [
        "## Downlaod a model\n",
        "\n",
        "* 1. Just right click and downlaod\n",
        "* 2. use code\n",
        "* 3. save it to google drive"
      ],
      "metadata": {
        "id": "ptxEYpDPeHdk"
      }
    },
    {
      "cell_type": "code",
      "source": [
        "from google.colab import files\n",
        "files.download(\"/content/best_model_2_HDF5_format.h5\")"
      ],
      "metadata": {
        "colab": {
          "base_uri": "https://localhost:8080/",
          "height": 17
        },
        "id": "ac0ZXzi6ekpf",
        "outputId": "4de553f4-bf55-4c60-e03d-f9f458676003"
      },
      "execution_count": 91,
      "outputs": [
        {
          "output_type": "display_data",
          "data": {
            "text/plain": [
              "<IPython.core.display.Javascript object>"
            ],
            "application/javascript": [
              "\n",
              "    async function download(id, filename, size) {\n",
              "      if (!google.colab.kernel.accessAllowed) {\n",
              "        return;\n",
              "      }\n",
              "      const div = document.createElement('div');\n",
              "      const label = document.createElement('label');\n",
              "      label.textContent = `Downloading \"${filename}\": `;\n",
              "      div.appendChild(label);\n",
              "      const progress = document.createElement('progress');\n",
              "      progress.max = size;\n",
              "      div.appendChild(progress);\n",
              "      document.body.appendChild(div);\n",
              "\n",
              "      const buffers = [];\n",
              "      let downloaded = 0;\n",
              "\n",
              "      const channel = await google.colab.kernel.comms.open(id);\n",
              "      // Send a message to notify the kernel that we're ready.\n",
              "      channel.send({})\n",
              "\n",
              "      for await (const message of channel.messages) {\n",
              "        // Send a message to notify the kernel that we're ready.\n",
              "        channel.send({})\n",
              "        if (message.buffers) {\n",
              "          for (const buffer of message.buffers) {\n",
              "            buffers.push(buffer);\n",
              "            downloaded += buffer.byteLength;\n",
              "            progress.value = downloaded;\n",
              "          }\n",
              "        }\n",
              "      }\n",
              "      const blob = new Blob(buffers, {type: 'application/binary'});\n",
              "      const a = document.createElement('a');\n",
              "      a.href = window.URL.createObjectURL(blob);\n",
              "      a.download = filename;\n",
              "      div.appendChild(a);\n",
              "      a.click();\n",
              "      div.remove();\n",
              "    }\n",
              "  "
            ]
          },
          "metadata": {}
        },
        {
          "output_type": "display_data",
          "data": {
            "text/plain": [
              "<IPython.core.display.Javascript object>"
            ],
            "application/javascript": [
              "download(\"download_b5f9700b-9bd6-4d50-af2e-20f52e71a22c\", \"best_model_2_HDF5_format.h5\", 21952)"
            ]
          },
          "metadata": {}
        }
      ]
    },
    {
      "cell_type": "code",
      "source": [
        "!cp file_location destination_location # cp -> copy, !ls -> list"
      ],
      "metadata": {
        "id": "3qmH6W8ueqma"
      },
      "execution_count": null,
      "outputs": []
    },
    {
      "cell_type": "code",
      "source": [],
      "metadata": {
        "id": "TtYLITtOescU"
      },
      "execution_count": null,
      "outputs": []
    },
    {
      "cell_type": "markdown",
      "source": [],
      "metadata": {
        "id": "GzBPdhR7fQVI"
      }
    },
    {
      "cell_type": "markdown",
      "source": [],
      "metadata": {
        "id": "V6ICe_r1fT6S"
      }
    }
  ]
}