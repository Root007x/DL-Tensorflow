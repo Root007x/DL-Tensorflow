{
  "nbformat": 4,
  "nbformat_minor": 0,
  "metadata": {
    "colab": {
      "provenance": [],
      "gpuType": "T4"
    },
    "kernelspec": {
      "name": "python3",
      "display_name": "Python 3"
    },
    "language_info": {
      "name": "python"
    },
    "accelerator": "GPU"
  },
  "cells": [
    {
      "cell_type": "code",
      "execution_count": 5,
      "metadata": {
        "id": "N3QN41HPbOK_"
      },
      "outputs": [],
      "source": [
        "from tensorflow import keras\n",
        "from tensorflow.keras.applications.resnet50 import ResNet50\n",
        "from tensorflow.keras.preprocessing import image\n",
        "from tensorflow.keras.applications.resnet50 import preprocess_input, decode_predictions\n",
        "import numpy as np"
      ]
    },
    {
      "cell_type": "code",
      "source": [
        "model = ResNet50(weights='imagenet') # pre-trained weight value from imgenet"
      ],
      "metadata": {
        "colab": {
          "base_uri": "https://localhost:8080/"
        },
        "id": "gKJdoBTgdk54",
        "outputId": "12af77b4-39f1-4df6-ff2c-63e7882e4812"
      },
      "execution_count": 7,
      "outputs": [
        {
          "output_type": "stream",
          "name": "stdout",
          "text": [
            "Downloading data from https://storage.googleapis.com/tensorflow/keras-applications/resnet/resnet50_weights_tf_dim_ordering_tf_kernels.h5\n",
            "102967424/102967424 [==============================] - 6s 0us/step\n"
          ]
        }
      ]
    },
    {
      "cell_type": "code",
      "source": [
        "img_path = \"/content/file_name\"\n",
        "img = image.load_img(img_path,target_size = (224,224))\n",
        "img_arr = image.img_to_array(img)\n",
        "img_arr = np.expand_dims(img_arr,axis=0) # fake batch\n",
        "process_img = preprocess_input(img_arr) # provide processed image input"
      ],
      "metadata": {
        "id": "fIy-Vf5CeYbw"
      },
      "execution_count": 17,
      "outputs": []
    },
    {
      "cell_type": "code",
      "source": [
        "pred = model.predict(process_img)"
      ],
      "metadata": {
        "colab": {
          "base_uri": "https://localhost:8080/"
        },
        "id": "rtrKVU35fPhI",
        "outputId": "45f0b674-c2ac-4e50-de3d-6a34bd4f5875"
      },
      "execution_count": 18,
      "outputs": [
        {
          "output_type": "stream",
          "name": "stdout",
          "text": [
            "1/1 [==============================] - 0s 23ms/step\n"
          ]
        }
      ]
    },
    {
      "cell_type": "code",
      "source": [
        "decode_predictions(pred)"
      ],
      "metadata": {
        "colab": {
          "base_uri": "https://localhost:8080/"
        },
        "id": "4K4Leu1bfovB",
        "outputId": "529b1c70-1619-49ec-ff06-f7b042b38dc2"
      },
      "execution_count": 21,
      "outputs": [
        {
          "output_type": "execute_result",
          "data": {
            "text/plain": [
              "[[('n02085620', 'Chihuahua', 0.18129365),\n",
              "  ('n02124075', 'Egyptian_cat', 0.14139591),\n",
              "  ('n02115641', 'dingo', 0.13855189),\n",
              "  ('n02100583', 'vizsla', 0.078179605),\n",
              "  ('n02091032', 'Italian_greyhound', 0.06369112)]]"
            ]
          },
          "metadata": {},
          "execution_count": 21
        }
      ]
    },
    {
      "cell_type": "code",
      "source": [],
      "metadata": {
        "id": "yvQMw9-Dfqt3"
      },
      "execution_count": null,
      "outputs": []
    }
  ]
}